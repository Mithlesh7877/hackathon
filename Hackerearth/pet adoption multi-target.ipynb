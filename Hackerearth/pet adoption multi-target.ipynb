{
 "cells": [
  {
   "cell_type": "code",
   "execution_count": 1,
   "metadata": {},
   "outputs": [],
   "source": [
    "import pandas as pd \n",
    "import numpy as np\n",
    "from datetime import datetime\n",
    "from sklearn.model_selection import train_test_split\n",
    "import lightgbm as lgb\n",
    "from lightgbm import LGBMClassifier\n",
    "from sklearn.model_selection import cross_val_score\n",
    "from matplotlib import pyplot as plt\n",
    "from sklearn import preprocessing\n",
    "from sklearn.impute import SimpleImputer,KNNImputer\n",
    "from sklearn.model_selection import train_test_split\n",
    "from sklearn.metrics import roc_auc_score,f1_score,accuracy_score\n",
    "from xgboost import XGBClassifier\n",
    "from catboost import CatBoostClassifier\n",
    "import seaborn as sns\n",
    "from collections import Counter\n",
    "sns.set_style('whitegrid')\n",
    "plt.rcParams['figure.figsize'] = (12, 10)\n",
    "# https://stackoverflow.com/questions/4150171/how-to-create-a-density-plot-in-matplotlib\n",
    "from IPython.core.interactiveshell import InteractiveShell\n",
    "InteractiveShell.ast_node_interactivity = \"all\""
   ]
  },
  {
   "cell_type": "code",
   "execution_count": 2,
   "metadata": {},
   "outputs": [],
   "source": [
    "train=pd.read_csv(r'C:\\Users\\My PC\\Desktop\\Machine Learning\\Hackerearth\\pet\\train.csv')\n",
    "test=pd.read_csv(r'C:\\Users\\My PC\\Desktop\\Machine Learning\\Hackerearth\\pet\\test.csv')"
   ]
  },
  {
   "cell_type": "code",
   "execution_count": 3,
   "metadata": {},
   "outputs": [
    {
     "data": {
      "text/plain": [
       "(8072, 9)"
      ]
     },
     "execution_count": 3,
     "metadata": {},
     "output_type": "execute_result"
    },
    {
     "data": {
      "text/plain": [
       "(18834, 11)"
      ]
     },
     "execution_count": 3,
     "metadata": {},
     "output_type": "execute_result"
    }
   ],
   "source": [
    "test.shape\n",
    "train.shape"
   ]
  },
  {
   "cell_type": "code",
   "execution_count": 4,
   "metadata": {},
   "outputs": [
    {
     "data": {
      "text/html": [
       "<div>\n",
       "<style scoped>\n",
       "    .dataframe tbody tr th:only-of-type {\n",
       "        vertical-align: middle;\n",
       "    }\n",
       "\n",
       "    .dataframe tbody tr th {\n",
       "        vertical-align: top;\n",
       "    }\n",
       "\n",
       "    .dataframe thead th {\n",
       "        text-align: right;\n",
       "    }\n",
       "</style>\n",
       "<table border=\"1\" class=\"dataframe\">\n",
       "  <thead>\n",
       "    <tr style=\"text-align: right;\">\n",
       "      <th></th>\n",
       "      <th>pet_id</th>\n",
       "      <th>issue_date</th>\n",
       "      <th>listing_date</th>\n",
       "      <th>condition</th>\n",
       "      <th>color_type</th>\n",
       "      <th>length(m)</th>\n",
       "      <th>height(cm)</th>\n",
       "      <th>X1</th>\n",
       "      <th>X2</th>\n",
       "      <th>breed_category</th>\n",
       "      <th>pet_category</th>\n",
       "    </tr>\n",
       "  </thead>\n",
       "  <tbody>\n",
       "    <tr>\n",
       "      <th>0</th>\n",
       "      <td>ANSL_69903</td>\n",
       "      <td>2016-07-10 00:00:00</td>\n",
       "      <td>2016-09-21 16:25:00</td>\n",
       "      <td>2.0</td>\n",
       "      <td>Brown Tabby</td>\n",
       "      <td>0.80</td>\n",
       "      <td>7.78</td>\n",
       "      <td>13</td>\n",
       "      <td>9</td>\n",
       "      <td>0.0</td>\n",
       "      <td>1</td>\n",
       "    </tr>\n",
       "    <tr>\n",
       "      <th>1</th>\n",
       "      <td>ANSL_66892</td>\n",
       "      <td>2013-11-21 00:00:00</td>\n",
       "      <td>2018-12-27 17:47:00</td>\n",
       "      <td>1.0</td>\n",
       "      <td>White</td>\n",
       "      <td>0.72</td>\n",
       "      <td>14.19</td>\n",
       "      <td>13</td>\n",
       "      <td>9</td>\n",
       "      <td>0.0</td>\n",
       "      <td>2</td>\n",
       "    </tr>\n",
       "    <tr>\n",
       "      <th>2</th>\n",
       "      <td>ANSL_69750</td>\n",
       "      <td>2014-09-28 00:00:00</td>\n",
       "      <td>2016-10-19 08:24:00</td>\n",
       "      <td>NaN</td>\n",
       "      <td>Brown</td>\n",
       "      <td>0.15</td>\n",
       "      <td>40.90</td>\n",
       "      <td>15</td>\n",
       "      <td>4</td>\n",
       "      <td>2.0</td>\n",
       "      <td>4</td>\n",
       "    </tr>\n",
       "    <tr>\n",
       "      <th>3</th>\n",
       "      <td>ANSL_71623</td>\n",
       "      <td>2016-12-31 00:00:00</td>\n",
       "      <td>2019-01-25 18:30:00</td>\n",
       "      <td>1.0</td>\n",
       "      <td>White</td>\n",
       "      <td>0.62</td>\n",
       "      <td>17.82</td>\n",
       "      <td>0</td>\n",
       "      <td>1</td>\n",
       "      <td>0.0</td>\n",
       "      <td>2</td>\n",
       "    </tr>\n",
       "    <tr>\n",
       "      <th>4</th>\n",
       "      <td>ANSL_57969</td>\n",
       "      <td>2017-09-28 00:00:00</td>\n",
       "      <td>2017-11-19 09:38:00</td>\n",
       "      <td>2.0</td>\n",
       "      <td>Black</td>\n",
       "      <td>0.50</td>\n",
       "      <td>11.06</td>\n",
       "      <td>18</td>\n",
       "      <td>4</td>\n",
       "      <td>0.0</td>\n",
       "      <td>1</td>\n",
       "    </tr>\n",
       "  </tbody>\n",
       "</table>\n",
       "</div>"
      ],
      "text/plain": [
       "       pet_id           issue_date         listing_date  condition  \\\n",
       "0  ANSL_69903  2016-07-10 00:00:00  2016-09-21 16:25:00        2.0   \n",
       "1  ANSL_66892  2013-11-21 00:00:00  2018-12-27 17:47:00        1.0   \n",
       "2  ANSL_69750  2014-09-28 00:00:00  2016-10-19 08:24:00        NaN   \n",
       "3  ANSL_71623  2016-12-31 00:00:00  2019-01-25 18:30:00        1.0   \n",
       "4  ANSL_57969  2017-09-28 00:00:00  2017-11-19 09:38:00        2.0   \n",
       "\n",
       "    color_type  length(m)  height(cm)  X1  X2  breed_category  pet_category  \n",
       "0  Brown Tabby       0.80        7.78  13   9             0.0             1  \n",
       "1        White       0.72       14.19  13   9             0.0             2  \n",
       "2        Brown       0.15       40.90  15   4             2.0             4  \n",
       "3        White       0.62       17.82   0   1             0.0             2  \n",
       "4        Black       0.50       11.06  18   4             0.0             1  "
      ]
     },
     "execution_count": 4,
     "metadata": {},
     "output_type": "execute_result"
    },
    {
     "data": {
      "text/html": [
       "<div>\n",
       "<style scoped>\n",
       "    .dataframe tbody tr th:only-of-type {\n",
       "        vertical-align: middle;\n",
       "    }\n",
       "\n",
       "    .dataframe tbody tr th {\n",
       "        vertical-align: top;\n",
       "    }\n",
       "\n",
       "    .dataframe thead th {\n",
       "        text-align: right;\n",
       "    }\n",
       "</style>\n",
       "<table border=\"1\" class=\"dataframe\">\n",
       "  <thead>\n",
       "    <tr style=\"text-align: right;\">\n",
       "      <th></th>\n",
       "      <th>pet_id</th>\n",
       "      <th>issue_date</th>\n",
       "      <th>listing_date</th>\n",
       "      <th>condition</th>\n",
       "      <th>color_type</th>\n",
       "      <th>length(m)</th>\n",
       "      <th>height(cm)</th>\n",
       "      <th>X1</th>\n",
       "      <th>X2</th>\n",
       "    </tr>\n",
       "  </thead>\n",
       "  <tbody>\n",
       "    <tr>\n",
       "      <th>0</th>\n",
       "      <td>ANSL_75005</td>\n",
       "      <td>2005-08-17 00:00:00</td>\n",
       "      <td>2017-09-07 15:35:00</td>\n",
       "      <td>0.0</td>\n",
       "      <td>Black</td>\n",
       "      <td>0.87</td>\n",
       "      <td>42.73</td>\n",
       "      <td>0</td>\n",
       "      <td>7</td>\n",
       "    </tr>\n",
       "    <tr>\n",
       "      <th>1</th>\n",
       "      <td>ANSL_76663</td>\n",
       "      <td>2018-11-15 00:00:00</td>\n",
       "      <td>2019-05-08 17:24:00</td>\n",
       "      <td>1.0</td>\n",
       "      <td>Orange Tabby</td>\n",
       "      <td>0.06</td>\n",
       "      <td>6.71</td>\n",
       "      <td>0</td>\n",
       "      <td>1</td>\n",
       "    </tr>\n",
       "    <tr>\n",
       "      <th>2</th>\n",
       "      <td>ANSL_58259</td>\n",
       "      <td>2012-10-11 00:00:00</td>\n",
       "      <td>2018-04-02 16:51:00</td>\n",
       "      <td>1.0</td>\n",
       "      <td>Black</td>\n",
       "      <td>0.24</td>\n",
       "      <td>41.21</td>\n",
       "      <td>0</td>\n",
       "      <td>7</td>\n",
       "    </tr>\n",
       "    <tr>\n",
       "      <th>3</th>\n",
       "      <td>ANSL_67171</td>\n",
       "      <td>2015-02-13 00:00:00</td>\n",
       "      <td>2018-04-06 07:25:00</td>\n",
       "      <td>1.0</td>\n",
       "      <td>Black</td>\n",
       "      <td>0.29</td>\n",
       "      <td>8.46</td>\n",
       "      <td>7</td>\n",
       "      <td>1</td>\n",
       "    </tr>\n",
       "    <tr>\n",
       "      <th>4</th>\n",
       "      <td>ANSL_72871</td>\n",
       "      <td>2017-01-18 00:00:00</td>\n",
       "      <td>2018-04-26 13:42:00</td>\n",
       "      <td>1.0</td>\n",
       "      <td>Brown</td>\n",
       "      <td>0.71</td>\n",
       "      <td>30.92</td>\n",
       "      <td>0</td>\n",
       "      <td>7</td>\n",
       "    </tr>\n",
       "  </tbody>\n",
       "</table>\n",
       "</div>"
      ],
      "text/plain": [
       "       pet_id           issue_date         listing_date  condition  \\\n",
       "0  ANSL_75005  2005-08-17 00:00:00  2017-09-07 15:35:00        0.0   \n",
       "1  ANSL_76663  2018-11-15 00:00:00  2019-05-08 17:24:00        1.0   \n",
       "2  ANSL_58259  2012-10-11 00:00:00  2018-04-02 16:51:00        1.0   \n",
       "3  ANSL_67171  2015-02-13 00:00:00  2018-04-06 07:25:00        1.0   \n",
       "4  ANSL_72871  2017-01-18 00:00:00  2018-04-26 13:42:00        1.0   \n",
       "\n",
       "     color_type  length(m)  height(cm)  X1  X2  \n",
       "0         Black       0.87       42.73   0   7  \n",
       "1  Orange Tabby       0.06        6.71   0   1  \n",
       "2         Black       0.24       41.21   0   7  \n",
       "3         Black       0.29        8.46   7   1  \n",
       "4         Brown       0.71       30.92   0   7  "
      ]
     },
     "execution_count": 4,
     "metadata": {},
     "output_type": "execute_result"
    }
   ],
   "source": [
    "train.head()\n",
    "test.head()"
   ]
  },
  {
   "cell_type": "code",
   "execution_count": 5,
   "metadata": {},
   "outputs": [
    {
     "data": {
      "text/plain": [
       "<matplotlib.axes._subplots.AxesSubplot at 0x58aba44cc0>"
      ]
     },
     "execution_count": 5,
     "metadata": {},
     "output_type": "execute_result"
    },
    {
     "data": {
      "image/png": "[encoded data removed]",
      "text/plain": [
       "<Figure size 432x288 with 1 Axes>"
      ]
     },
     "metadata": {
      "needs_background": "light"
     },
     "output_type": "display_data"
    }
   ],
   "source": [
    "\n",
    "train.pet_category.value_counts().plot(kind='bar')"
   ]
  },
  {
   "cell_type": "code",
   "execution_count": 6,
   "metadata": {},
   "outputs": [
    {
     "data": {
      "text/plain": [
       "<matplotlib.axes._subplots.AxesSubplot at 0x58abb2af98>"
      ]
     },
     "execution_count": 6,
     "metadata": {},
     "output_type": "execute_result"
    },
    {
     "data": {
      "image/png": "[encoded data removed]",
      "text/plain": [
       "<Figure size 432x288 with 1 Axes>"
      ]
     },
     "metadata": {
      "needs_background": "light"
     },
     "output_type": "display_data"
    }
   ],
   "source": [
    "# train.breed_category.value_counts()\n",
    "train.breed_category.value_counts().plot(kind='bar')"
   ]
  },
  {
   "cell_type": "code",
   "execution_count": 7,
   "metadata": {},
   "outputs": [],
   "source": [
    "train['issue_year']=pd.DatetimeIndex(train['issue_date']).year\n",
    "train['listing_year']=pd.DatetimeIndex(train['listing_date']).year\n",
    "train['issue_month']=pd.DatetimeIndex(train['issue_date']).month\n",
    "train['listing_month']=pd.DatetimeIndex(train['listing_date']).month"
   ]
  },
  {
   "cell_type": "code",
   "execution_count": 8,
   "metadata": {},
   "outputs": [],
   "source": [
    "test['issue_year']=pd.DatetimeIndex(test['issue_date']).year\n",
    "test['listing_year']=pd.DatetimeIndex(test['listing_date']).year\n",
    "test['issue_month']=pd.DatetimeIndex(test['issue_date']).month\n",
    "test['listing_month']=pd.DatetimeIndex(test['listing_date']).month"
   ]
  },
  {
   "cell_type": "code",
   "execution_count": 9,
   "metadata": {},
   "outputs": [],
   "source": [
    "train=pd.get_dummies(train, columns=[\"color_type\"])\n",
    "test=pd.get_dummies(test, columns=[\"color_type\"])"
   ]
  },
  {
   "cell_type": "code",
   "execution_count": 10,
   "metadata": {},
   "outputs": [],
   "source": [
    "i_d=test.pet_id"
   ]
  },
  {
   "cell_type": "code",
   "execution_count": 11,
   "metadata": {},
   "outputs": [],
   "source": [
    "train=train.drop(['pet_id','issue_date','listing_date'],axis=1)\n",
    "test=test.drop(['pet_id','issue_date','listing_date'],axis=1)"
   ]
  },
  {
   "cell_type": "code",
   "execution_count": 68,
   "metadata": {},
   "outputs": [],
   "source": [
    "# train.isnull().sum()\n",
    "# test.isnull().sum()"
   ]
  },
  {
   "cell_type": "code",
   "execution_count": 12,
   "metadata": {},
   "outputs": [],
   "source": [
    "imp=SimpleImputer(missing_values=np.NaN)\n",
    "mtrain=pd.DataFrame(imp.fit_transform(train))\n",
    "mtrain.columns=train.columns\n",
    "mtrain.index=train.index"
   ]
  },
  {
   "cell_type": "code",
   "execution_count": 13,
   "metadata": {},
   "outputs": [],
   "source": [
    "imp=SimpleImputer(missing_values=np.NaN)\n",
    "mtest=pd.DataFrame(imp.fit_transform(test))\n",
    "mtest.columns=test.columns\n",
    "mtest.index=test.index"
   ]
  },
  {
   "cell_type": "code",
   "execution_count": 14,
   "metadata": {},
   "outputs": [
    {
     "data": {
      "text/plain": [
       "Index(['condition', 'length(m)', 'height(cm)', 'X1', 'X2', 'issue_year',\n",
       "       'listing_year', 'issue_month', 'listing_month', 'color_type_Agouti',\n",
       "       'color_type_Apricot', 'color_type_Black', 'color_type_Black Brindle',\n",
       "       'color_type_Black Smoke', 'color_type_Black Tabby', 'color_type_Blue',\n",
       "       'color_type_Blue Cream', 'color_type_Blue Merle',\n",
       "       'color_type_Blue Point', 'color_type_Blue Smoke',\n",
       "       'color_type_Blue Tabby', 'color_type_Blue Tick',\n",
       "       'color_type_Blue Tiger', 'color_type_Brown', 'color_type_Brown Brindle',\n",
       "       'color_type_Brown Merle', 'color_type_Brown Tabby', 'color_type_Buff',\n",
       "       'color_type_Calico', 'color_type_Calico Point', 'color_type_Chocolate',\n",
       "       'color_type_Chocolate Point', 'color_type_Cream',\n",
       "       'color_type_Cream Tabby', 'color_type_Fawn', 'color_type_Flame Point',\n",
       "       'color_type_Gold', 'color_type_Gray', 'color_type_Gray Tabby',\n",
       "       'color_type_Green', 'color_type_Lilac Point', 'color_type_Liver',\n",
       "       'color_type_Liver Tick', 'color_type_Lynx Point', 'color_type_Orange',\n",
       "       'color_type_Orange Tabby', 'color_type_Pink', 'color_type_Red',\n",
       "       'color_type_Red Merle', 'color_type_Red Tick', 'color_type_Sable',\n",
       "       'color_type_Seal Point', 'color_type_Silver',\n",
       "       'color_type_Silver Lynx Point', 'color_type_Silver Tabby',\n",
       "       'color_type_Tan', 'color_type_Torbie', 'color_type_Tortie',\n",
       "       'color_type_Tortie Point', 'color_type_Tricolor', 'color_type_White',\n",
       "       'color_type_Yellow', 'color_type_Yellow Brindle'],\n",
       "      dtype='object')"
      ]
     },
     "execution_count": 14,
     "metadata": {},
     "output_type": "execute_result"
    },
    {
     "data": {
      "text/plain": [
       "Index(['condition', 'length(m)', 'height(cm)', 'X1', 'X2', 'breed_category',\n",
       "       'pet_category', 'issue_year', 'listing_year', 'issue_month',\n",
       "       'listing_month', 'color_type_Agouti', 'color_type_Apricot',\n",
       "       'color_type_Black', 'color_type_Black Brindle',\n",
       "       'color_type_Black Smoke', 'color_type_Black Tabby',\n",
       "       'color_type_Black Tiger', 'color_type_Blue', 'color_type_Blue Cream',\n",
       "       'color_type_Blue Merle', 'color_type_Blue Point',\n",
       "       'color_type_Blue Smoke', 'color_type_Blue Tabby',\n",
       "       'color_type_Blue Tick', 'color_type_Blue Tiger', 'color_type_Brown',\n",
       "       'color_type_Brown Brindle', 'color_type_Brown Merle',\n",
       "       'color_type_Brown Tabby', 'color_type_Brown Tiger', 'color_type_Buff',\n",
       "       'color_type_Calico', 'color_type_Calico Point', 'color_type_Chocolate',\n",
       "       'color_type_Chocolate Point', 'color_type_Cream',\n",
       "       'color_type_Cream Tabby', 'color_type_Fawn', 'color_type_Flame Point',\n",
       "       'color_type_Gold', 'color_type_Gray', 'color_type_Gray Tabby',\n",
       "       'color_type_Green', 'color_type_Lilac Point', 'color_type_Liver',\n",
       "       'color_type_Liver Tick', 'color_type_Lynx Point', 'color_type_Orange',\n",
       "       'color_type_Orange Tabby', 'color_type_Pink', 'color_type_Red',\n",
       "       'color_type_Red Merle', 'color_type_Red Tick', 'color_type_Sable',\n",
       "       'color_type_Seal Point', 'color_type_Silver',\n",
       "       'color_type_Silver Lynx Point', 'color_type_Silver Tabby',\n",
       "       'color_type_Tan', 'color_type_Torbie', 'color_type_Tortie',\n",
       "       'color_type_Tortie Point', 'color_type_Tricolor', 'color_type_White',\n",
       "       'color_type_Yellow', 'color_type_Yellow Brindle'],\n",
       "      dtype='object')"
      ]
     },
     "execution_count": 14,
     "metadata": {},
     "output_type": "execute_result"
    }
   ],
   "source": [
    "mtest.columns\n",
    "mtrain.columns"
   ]
  },
  {
   "cell_type": "code",
   "execution_count": 72,
   "metadata": {},
   "outputs": [
    {
     "data": {
      "text/plain": [
       "<matplotlib.axes._subplots.AxesSubplot at 0x38e2fc1240>"
      ]
     },
     "execution_count": 72,
     "metadata": {},
     "output_type": "execute_result"
    },
    {
     "data": {
      "image/png": "[encoded data removed]",
      "text/plain": [
       "<Figure size 864x720 with 2 Axes>"
      ]
     },
     "metadata": {},
     "output_type": "display_data"
    }
   ],
   "source": [
    "\n",
    "sns.heatmap(train[[ 'length(m)', 'height(cm)', 'X1', 'X2', 'breed_category',\n",
    "       'pet_category', 'issue_year', 'listing_year', 'issue_month',\n",
    "       'listing_month']].corr(), annot = True)"
   ]
  },
  {
   "cell_type": "code",
   "execution_count": 73,
   "metadata": {},
   "outputs": [
    {
     "data": {
      "text/plain": [
       "<matplotlib.axes._subplots.AxesSubplot at 0x38df35e9e8>"
      ]
     },
     "execution_count": 73,
     "metadata": {},
     "output_type": "execute_result"
    },
    {
     "data": {
      "image/png": "[encoded data removed]",
      "text/plain": [
       "<Figure size 864x720 with 2 Axes>"
      ]
     },
     "metadata": {},
     "output_type": "display_data"
    }
   ],
   "source": [
    "\n",
    "sns.heatmap(test[['condition', 'length(m)', 'height(cm)', 'X1', 'X2', 'issue_year', 'listing_year', 'issue_month',\n",
    "       'listing_month']].corr(), annot = True)"
   ]
  },
  {
   "cell_type": "code",
   "execution_count": 74,
   "metadata": {},
   "outputs": [
    {
     "data": {
      "text/plain": [
       "breed_category  condition\n",
       "0.0             1.0          6819\n",
       "                2.0          2181\n",
       "1.0             0.0          6281\n",
       "                2.0          2076\n",
       "Name: condition, dtype: int64"
      ]
     },
     "execution_count": 74,
     "metadata": {},
     "output_type": "execute_result"
    }
   ],
   "source": [
    "train.groupby('breed_category')['condition'].value_counts()"
   ]
  },
  {
   "cell_type": "code",
   "execution_count": 90,
   "metadata": {},
   "outputs": [
    {
     "data": {
      "text/html": [
       "<div>\n",
       "<style scoped>\n",
       "    .dataframe tbody tr th:only-of-type {\n",
       "        vertical-align: middle;\n",
       "    }\n",
       "\n",
       "    .dataframe tbody tr th {\n",
       "        vertical-align: top;\n",
       "    }\n",
       "\n",
       "    .dataframe thead th {\n",
       "        text-align: right;\n",
       "    }\n",
       "</style>\n",
       "<table border=\"1\" class=\"dataframe\">\n",
       "  <thead>\n",
       "    <tr style=\"text-align: right;\">\n",
       "      <th></th>\n",
       "      <th>condition</th>\n",
       "      <th>length(m)</th>\n",
       "      <th>height(cm)</th>\n",
       "      <th>X1</th>\n",
       "      <th>X2</th>\n",
       "      <th>breed_category</th>\n",
       "      <th>pet_category</th>\n",
       "      <th>issue_year</th>\n",
       "      <th>listing_year</th>\n",
       "      <th>issue_month</th>\n",
       "      <th>...</th>\n",
       "      <th>color_type_Silver Lynx Point</th>\n",
       "      <th>color_type_Silver Tabby</th>\n",
       "      <th>color_type_Tan</th>\n",
       "      <th>color_type_Torbie</th>\n",
       "      <th>color_type_Tortie</th>\n",
       "      <th>color_type_Tortie Point</th>\n",
       "      <th>color_type_Tricolor</th>\n",
       "      <th>color_type_White</th>\n",
       "      <th>color_type_Yellow</th>\n",
       "      <th>color_type_Yellow Brindle</th>\n",
       "    </tr>\n",
       "  </thead>\n",
       "  <tbody>\n",
       "    <tr>\n",
       "      <th>0</th>\n",
       "      <td>2.0</td>\n",
       "      <td>0.80</td>\n",
       "      <td>7.78</td>\n",
       "      <td>13</td>\n",
       "      <td>9</td>\n",
       "      <td>0.0</td>\n",
       "      <td>1</td>\n",
       "      <td>2016</td>\n",
       "      <td>2016</td>\n",
       "      <td>7</td>\n",
       "      <td>...</td>\n",
       "      <td>0</td>\n",
       "      <td>0</td>\n",
       "      <td>0</td>\n",
       "      <td>0</td>\n",
       "      <td>0</td>\n",
       "      <td>0</td>\n",
       "      <td>0</td>\n",
       "      <td>0</td>\n",
       "      <td>0</td>\n",
       "      <td>0</td>\n",
       "    </tr>\n",
       "    <tr>\n",
       "      <th>1</th>\n",
       "      <td>1.0</td>\n",
       "      <td>0.72</td>\n",
       "      <td>14.19</td>\n",
       "      <td>13</td>\n",
       "      <td>9</td>\n",
       "      <td>0.0</td>\n",
       "      <td>2</td>\n",
       "      <td>2013</td>\n",
       "      <td>2018</td>\n",
       "      <td>11</td>\n",
       "      <td>...</td>\n",
       "      <td>0</td>\n",
       "      <td>0</td>\n",
       "      <td>0</td>\n",
       "      <td>0</td>\n",
       "      <td>0</td>\n",
       "      <td>0</td>\n",
       "      <td>0</td>\n",
       "      <td>1</td>\n",
       "      <td>0</td>\n",
       "      <td>0</td>\n",
       "    </tr>\n",
       "    <tr>\n",
       "      <th>2</th>\n",
       "      <td>NaN</td>\n",
       "      <td>0.15</td>\n",
       "      <td>40.90</td>\n",
       "      <td>15</td>\n",
       "      <td>4</td>\n",
       "      <td>2.0</td>\n",
       "      <td>4</td>\n",
       "      <td>2014</td>\n",
       "      <td>2016</td>\n",
       "      <td>9</td>\n",
       "      <td>...</td>\n",
       "      <td>0</td>\n",
       "      <td>0</td>\n",
       "      <td>0</td>\n",
       "      <td>0</td>\n",
       "      <td>0</td>\n",
       "      <td>0</td>\n",
       "      <td>0</td>\n",
       "      <td>0</td>\n",
       "      <td>0</td>\n",
       "      <td>0</td>\n",
       "    </tr>\n",
       "    <tr>\n",
       "      <th>3</th>\n",
       "      <td>1.0</td>\n",
       "      <td>0.62</td>\n",
       "      <td>17.82</td>\n",
       "      <td>0</td>\n",
       "      <td>1</td>\n",
       "      <td>0.0</td>\n",
       "      <td>2</td>\n",
       "      <td>2016</td>\n",
       "      <td>2019</td>\n",
       "      <td>12</td>\n",
       "      <td>...</td>\n",
       "      <td>0</td>\n",
       "      <td>0</td>\n",
       "      <td>0</td>\n",
       "      <td>0</td>\n",
       "      <td>0</td>\n",
       "      <td>0</td>\n",
       "      <td>0</td>\n",
       "      <td>1</td>\n",
       "      <td>0</td>\n",
       "      <td>0</td>\n",
       "    </tr>\n",
       "    <tr>\n",
       "      <th>4</th>\n",
       "      <td>2.0</td>\n",
       "      <td>0.50</td>\n",
       "      <td>11.06</td>\n",
       "      <td>18</td>\n",
       "      <td>4</td>\n",
       "      <td>0.0</td>\n",
       "      <td>1</td>\n",
       "      <td>2017</td>\n",
       "      <td>2017</td>\n",
       "      <td>9</td>\n",
       "      <td>...</td>\n",
       "      <td>0</td>\n",
       "      <td>0</td>\n",
       "      <td>0</td>\n",
       "      <td>0</td>\n",
       "      <td>0</td>\n",
       "      <td>0</td>\n",
       "      <td>0</td>\n",
       "      <td>0</td>\n",
       "      <td>0</td>\n",
       "      <td>0</td>\n",
       "    </tr>\n",
       "  </tbody>\n",
       "</table>\n",
       "<p>5 rows × 67 columns</p>\n",
       "</div>"
      ],
      "text/plain": [
       "   condition  length(m)  height(cm)  X1  X2  breed_category  pet_category  \\\n",
       "0        2.0       0.80        7.78  13   9             0.0             1   \n",
       "1        1.0       0.72       14.19  13   9             0.0             2   \n",
       "2        NaN       0.15       40.90  15   4             2.0             4   \n",
       "3        1.0       0.62       17.82   0   1             0.0             2   \n",
       "4        2.0       0.50       11.06  18   4             0.0             1   \n",
       "\n",
       "   issue_year  listing_year  issue_month  ...  color_type_Silver Lynx Point  \\\n",
       "0        2016          2016            7  ...                             0   \n",
       "1        2013          2018           11  ...                             0   \n",
       "2        2014          2016            9  ...                             0   \n",
       "3        2016          2019           12  ...                             0   \n",
       "4        2017          2017            9  ...                             0   \n",
       "\n",
       "   color_type_Silver Tabby  color_type_Tan  color_type_Torbie  \\\n",
       "0                        0               0                  0   \n",
       "1                        0               0                  0   \n",
       "2                        0               0                  0   \n",
       "3                        0               0                  0   \n",
       "4                        0               0                  0   \n",
       "\n",
       "   color_type_Tortie  color_type_Tortie Point  color_type_Tricolor  \\\n",
       "0                  0                        0                    0   \n",
       "1                  0                        0                    0   \n",
       "2                  0                        0                    0   \n",
       "3                  0                        0                    0   \n",
       "4                  0                        0                    0   \n",
       "\n",
       "   color_type_White  color_type_Yellow  color_type_Yellow Brindle  \n",
       "0                 0                  0                          0  \n",
       "1                 1                  0                          0  \n",
       "2                 0                  0                          0  \n",
       "3                 1                  0                          0  \n",
       "4                 0                  0                          0  \n",
       "\n",
       "[5 rows x 67 columns]"
      ]
     },
     "execution_count": 90,
     "metadata": {},
     "output_type": "execute_result"
    }
   ],
   "source": [
    "train.head()"
   ]
  },
  {
   "cell_type": "code",
   "execution_count": 15,
   "metadata": {},
   "outputs": [],
   "source": [
    "X=train.drop(['breed_category','pet_category','color_type_Black Tiger','color_type_Brown Tiger'],axis=1)\n",
    "Y=train.breed_category"
   ]
  },
  {
   "cell_type": "code",
   "execution_count": 16,
   "metadata": {},
   "outputs": [],
   "source": [
    "X_train, X_test, y_train, y_test = train_test_split(X, Y, test_size=0.25, random_state=27)"
   ]
  },
  {
   "cell_type": "code",
   "execution_count": 28,
   "metadata": {},
   "outputs": [
    {
     "name": "stderr",
     "output_type": "stream",
     "text": [
      "[Parallel(n_jobs=-1)]: Using backend LokyBackend with 2 concurrent workers.\n",
      "[Parallel(n_jobs=-1)]: Done   5 out of   5 | elapsed:  6.3min finished\n"
     ]
    },
    {
     "data": {
      "text/plain": [
       "0.9000676156261086"
      ]
     },
     "execution_count": 28,
     "metadata": {},
     "output_type": "execute_result"
    }
   ],
   "source": [
    "xgb=XGBClassifier(n_estimators=400,learning_rate=0.06,objective='multi:softprob')\n",
    "cross_val_score(xgb, X, Y, cv=5, n_jobs=-1, verbose=1, scoring='f1_weighted').mean()"
   ]
  },
  {
   "cell_type": "code",
   "execution_count": 36,
   "metadata": {},
   "outputs": [
    {
     "name": "stderr",
     "output_type": "stream",
     "text": [
      "[Parallel(n_jobs=-1)]: Using backend LokyBackend with 2 concurrent workers.\n",
      "[Parallel(n_jobs=-1)]: Done   5 out of   5 | elapsed:   24.3s finished\n"
     ]
    },
    {
     "data": {
      "text/plain": [
       "0.8991110354064679"
      ]
     },
     "execution_count": 36,
     "metadata": {},
     "output_type": "execute_result"
    }
   ],
   "source": [
    "lgbmc = LGBMClassifier(random_state=201, n_estimators=420,sample_bytree=1, \n",
    "                       max_depth=31, learning_rate=0.06, boosting_type='gbdt')\n",
    "cross_val_score(lgbmc, X, Y, cv=5, n_jobs=-1, verbose=1, scoring='f1_weighted').mean()"
   ]
  },
  {
   "cell_type": "code",
   "execution_count": 29,
   "metadata": {},
   "outputs": [
    {
     "name": "stderr",
     "output_type": "stream",
     "text": [
      "[Parallel(n_jobs=-1)]: Using backend LokyBackend with 2 concurrent workers.\n",
      "[Parallel(n_jobs=-1)]: Done   5 out of   5 | elapsed:   36.2s finished\n"
     ]
    },
    {
     "data": {
      "text/plain": [
       "0.9027123105415147"
      ]
     },
     "execution_count": 29,
     "metadata": {},
     "output_type": "execute_result"
    }
   ],
   "source": [
    "cb=CatBoostClassifier(iterations=400,learning_rate=0.06)\n",
    "cross_val_score(cb, X, Y, cv=5, n_jobs=-1, verbose=1, scoring='f1_weighted').mean()"
   ]
  },
  {
   "cell_type": "code",
   "execution_count": 30,
   "metadata": {},
   "outputs": [
    {
     "data": {
      "text/plain": [
       "XGBClassifier(base_score=0.5, booster='gbtree', colsample_bylevel=1,\n",
       "              colsample_bynode=1, colsample_bytree=1, gamma=0, gpu_id=-1,\n",
       "              importance_type='gain', interaction_constraints='',\n",
       "              learning_rate=0.06, max_delta_step=0, max_depth=6,\n",
       "              min_child_weight=1, missing=nan, monotone_constraints='()',\n",
       "              n_estimators=400, n_jobs=0, num_parallel_tree=1,\n",
       "              objective='multi:softprob', random_state=0, reg_alpha=0,\n",
       "              reg_lambda=1, scale_pos_weight=None, subsample=1,\n",
       "              tree_method='exact', validate_parameters=1, verbosity=None)"
      ]
     },
     "execution_count": 30,
     "metadata": {},
     "output_type": "execute_result"
    }
   ],
   "source": [
    "xgb.fit(X_train,y_train)\n",
    "pred=xgb.predict(X_test)"
   ]
  },
  {
   "cell_type": "code",
   "execution_count": 39,
   "metadata": {},
   "outputs": [
    {
     "data": {
      "text/plain": [
       "LGBMClassifier(learning_rate=0.06, max_depth=31, n_estimators=420,\n",
       "               random_state=201, sample_bytree=1)"
      ]
     },
     "execution_count": 39,
     "metadata": {},
     "output_type": "execute_result"
    }
   ],
   "source": [
    "lgbmc.fit(X_train, y_train)\n",
    "j = lgbmc.predict(X_test)"
   ]
  },
  {
   "cell_type": "code",
   "execution_count": 32,
   "metadata": {},
   "outputs": [
    {
     "name": "stdout",
     "output_type": "stream",
     "text": [
      "0:\tlearn: 1.0028491\ttotal: 19.3ms\tremaining: 7.71s\n",
      "1:\tlearn: 0.9223611\ttotal: 31.6ms\tremaining: 6.3s\n",
      "2:\tlearn: 0.8527261\ttotal: 45.1ms\tremaining: 5.97s\n",
      "3:\tlearn: 0.7924494\ttotal: 59.8ms\tremaining: 5.92s\n",
      "4:\tlearn: 0.7397074\ttotal: 85.7ms\tremaining: 6.77s\n",
      "5:\tlearn: 0.6926031\ttotal: 99.3ms\tremaining: 6.52s\n",
      "6:\tlearn: 0.6507902\ttotal: 111ms\tremaining: 6.24s\n",
      "7:\tlearn: 0.6128071\ttotal: 121ms\tremaining: 5.94s\n",
      "8:\tlearn: 0.5788789\ttotal: 133ms\tremaining: 5.79s\n",
      "9:\tlearn: 0.5480612\ttotal: 145ms\tremaining: 5.66s\n",
      "10:\tlearn: 0.5197567\ttotal: 156ms\tremaining: 5.52s\n",
      "11:\tlearn: 0.4939483\ttotal: 168ms\tremaining: 5.43s\n",
      "12:\tlearn: 0.4704164\ttotal: 180ms\tremaining: 5.35s\n",
      "13:\tlearn: 0.4488707\ttotal: 191ms\tremaining: 5.28s\n",
      "14:\tlearn: 0.4288647\ttotal: 208ms\tremaining: 5.35s\n",
      "15:\tlearn: 0.4105780\ttotal: 233ms\tremaining: 5.58s\n",
      "16:\tlearn: 0.3937364\ttotal: 246ms\tremaining: 5.55s\n",
      "17:\tlearn: 0.3781805\ttotal: 263ms\tremaining: 5.57s\n",
      "18:\tlearn: 0.3637425\ttotal: 274ms\tremaining: 5.5s\n",
      "19:\tlearn: 0.3503503\ttotal: 286ms\tremaining: 5.43s\n",
      "20:\tlearn: 0.3379140\ttotal: 299ms\tremaining: 5.39s\n",
      "21:\tlearn: 0.3260017\ttotal: 311ms\tremaining: 5.33s\n",
      "22:\tlearn: 0.3152274\ttotal: 323ms\tremaining: 5.29s\n",
      "23:\tlearn: 0.3049188\ttotal: 334ms\tremaining: 5.24s\n",
      "24:\tlearn: 0.2952801\ttotal: 346ms\tremaining: 5.18s\n",
      "25:\tlearn: 0.2866327\ttotal: 358ms\tremaining: 5.14s\n",
      "26:\tlearn: 0.2778128\ttotal: 370ms\tremaining: 5.11s\n",
      "27:\tlearn: 0.2702018\ttotal: 382ms\tremaining: 5.07s\n",
      "28:\tlearn: 0.2637441\ttotal: 403ms\tremaining: 5.15s\n",
      "29:\tlearn: 0.2577727\ttotal: 425ms\tremaining: 5.24s\n",
      "30:\tlearn: 0.2512412\ttotal: 438ms\tremaining: 5.22s\n",
      "31:\tlearn: 0.2451687\ttotal: 450ms\tremaining: 5.18s\n",
      "32:\tlearn: 0.2398499\ttotal: 462ms\tremaining: 5.13s\n",
      "33:\tlearn: 0.2346073\ttotal: 473ms\tremaining: 5.09s\n",
      "34:\tlearn: 0.2295191\ttotal: 485ms\tremaining: 5.06s\n",
      "35:\tlearn: 0.2251546\ttotal: 496ms\tremaining: 5.02s\n",
      "36:\tlearn: 0.2206068\ttotal: 508ms\tremaining: 4.99s\n",
      "37:\tlearn: 0.2164194\ttotal: 520ms\tremaining: 4.95s\n",
      "38:\tlearn: 0.2124971\ttotal: 531ms\tremaining: 4.92s\n",
      "39:\tlearn: 0.2086138\ttotal: 542ms\tremaining: 4.88s\n",
      "40:\tlearn: 0.2051303\ttotal: 554ms\tremaining: 4.85s\n",
      "41:\tlearn: 0.2026886\ttotal: 565ms\tremaining: 4.82s\n",
      "42:\tlearn: 0.1993031\ttotal: 584ms\tremaining: 4.85s\n",
      "43:\tlearn: 0.1968302\ttotal: 608ms\tremaining: 4.92s\n",
      "44:\tlearn: 0.1944181\ttotal: 621ms\tremaining: 4.9s\n",
      "45:\tlearn: 0.1922034\ttotal: 635ms\tremaining: 4.88s\n",
      "46:\tlearn: 0.1896582\ttotal: 647ms\tremaining: 4.86s\n",
      "47:\tlearn: 0.1871777\ttotal: 658ms\tremaining: 4.83s\n",
      "48:\tlearn: 0.1848068\ttotal: 669ms\tremaining: 4.79s\n",
      "49:\tlearn: 0.1831865\ttotal: 681ms\tremaining: 4.77s\n",
      "50:\tlearn: 0.1811262\ttotal: 692ms\tremaining: 4.74s\n",
      "51:\tlearn: 0.1798631\ttotal: 704ms\tremaining: 4.71s\n",
      "52:\tlearn: 0.1783343\ttotal: 716ms\tremaining: 4.68s\n",
      "53:\tlearn: 0.1769493\ttotal: 727ms\tremaining: 4.66s\n",
      "54:\tlearn: 0.1752961\ttotal: 739ms\tremaining: 4.63s\n",
      "55:\tlearn: 0.1735426\ttotal: 758ms\tremaining: 4.65s\n",
      "56:\tlearn: 0.1726180\ttotal: 781ms\tremaining: 4.7s\n",
      "57:\tlearn: 0.1720891\ttotal: 794ms\tremaining: 4.68s\n",
      "58:\tlearn: 0.1708269\ttotal: 806ms\tremaining: 4.66s\n",
      "59:\tlearn: 0.1694334\ttotal: 818ms\tremaining: 4.63s\n",
      "60:\tlearn: 0.1684925\ttotal: 830ms\tremaining: 4.61s\n",
      "61:\tlearn: 0.1680775\ttotal: 841ms\tremaining: 4.59s\n",
      "62:\tlearn: 0.1668623\ttotal: 853ms\tremaining: 4.56s\n",
      "63:\tlearn: 0.1658745\ttotal: 866ms\tremaining: 4.55s\n",
      "64:\tlearn: 0.1650560\ttotal: 878ms\tremaining: 4.53s\n",
      "65:\tlearn: 0.1639679\ttotal: 890ms\tremaining: 4.5s\n",
      "66:\tlearn: 0.1636083\ttotal: 902ms\tremaining: 4.48s\n",
      "67:\tlearn: 0.1627898\ttotal: 913ms\tremaining: 4.46s\n",
      "68:\tlearn: 0.1624587\ttotal: 925ms\tremaining: 4.44s\n",
      "69:\tlearn: 0.1618296\ttotal: 945ms\tremaining: 4.45s\n",
      "70:\tlearn: 0.1615269\ttotal: 969ms\tremaining: 4.49s\n",
      "71:\tlearn: 0.1608076\ttotal: 982ms\tremaining: 4.47s\n",
      "72:\tlearn: 0.1605677\ttotal: 994ms\tremaining: 4.45s\n",
      "73:\tlearn: 0.1603253\ttotal: 1.01s\tremaining: 4.43s\n",
      "74:\tlearn: 0.1601572\ttotal: 1.02s\tremaining: 4.41s\n",
      "75:\tlearn: 0.1597339\ttotal: 1.03s\tremaining: 4.39s\n",
      "76:\tlearn: 0.1589231\ttotal: 1.04s\tremaining: 4.37s\n",
      "77:\tlearn: 0.1587155\ttotal: 1.05s\tremaining: 4.35s\n",
      "78:\tlearn: 0.1582969\ttotal: 1.07s\tremaining: 4.35s\n",
      "79:\tlearn: 0.1579093\ttotal: 1.08s\tremaining: 4.33s\n",
      "80:\tlearn: 0.1577225\ttotal: 1.09s\tremaining: 4.31s\n",
      "81:\tlearn: 0.1575913\ttotal: 1.14s\tremaining: 4.44s\n",
      "82:\tlearn: 0.1574149\ttotal: 1.16s\tremaining: 4.42s\n",
      "83:\tlearn: 0.1571792\ttotal: 1.17s\tremaining: 4.39s\n",
      "84:\tlearn: 0.1570676\ttotal: 1.18s\tremaining: 4.37s\n",
      "85:\tlearn: 0.1569477\ttotal: 1.19s\tremaining: 4.35s\n",
      "86:\tlearn: 0.1565782\ttotal: 1.2s\tremaining: 4.33s\n",
      "87:\tlearn: 0.1564589\ttotal: 1.21s\tremaining: 4.3s\n",
      "88:\tlearn: 0.1559060\ttotal: 1.23s\tremaining: 4.28s\n",
      "89:\tlearn: 0.1554305\ttotal: 1.24s\tremaining: 4.26s\n",
      "90:\tlearn: 0.1552838\ttotal: 1.25s\tremaining: 4.24s\n",
      "91:\tlearn: 0.1551917\ttotal: 1.26s\tremaining: 4.21s\n",
      "92:\tlearn: 0.1550476\ttotal: 1.27s\tremaining: 4.19s\n",
      "93:\tlearn: 0.1547410\ttotal: 1.28s\tremaining: 4.17s\n",
      "94:\tlearn: 0.1546163\ttotal: 1.3s\tremaining: 4.18s\n",
      "95:\tlearn: 0.1545095\ttotal: 1.32s\tremaining: 4.2s\n",
      "96:\tlearn: 0.1543388\ttotal: 1.34s\tremaining: 4.18s\n",
      "97:\tlearn: 0.1540246\ttotal: 1.35s\tremaining: 4.16s\n",
      "98:\tlearn: 0.1538624\ttotal: 1.36s\tremaining: 4.14s\n",
      "99:\tlearn: 0.1534452\ttotal: 1.38s\tremaining: 4.13s\n",
      "100:\tlearn: 0.1532213\ttotal: 1.39s\tremaining: 4.11s\n",
      "101:\tlearn: 0.1530686\ttotal: 1.4s\tremaining: 4.09s\n",
      "102:\tlearn: 0.1529442\ttotal: 1.41s\tremaining: 4.07s\n",
      "103:\tlearn: 0.1528427\ttotal: 1.42s\tremaining: 4.04s\n",
      "104:\tlearn: 0.1524637\ttotal: 1.43s\tremaining: 4.03s\n",
      "105:\tlearn: 0.1523382\ttotal: 1.44s\tremaining: 4.01s\n",
      "106:\tlearn: 0.1522663\ttotal: 1.46s\tremaining: 3.99s\n",
      "107:\tlearn: 0.1520217\ttotal: 1.48s\tremaining: 3.99s\n",
      "108:\tlearn: 0.1519494\ttotal: 1.53s\tremaining: 4.09s\n",
      "109:\tlearn: 0.1518244\ttotal: 1.54s\tremaining: 4.07s\n",
      "110:\tlearn: 0.1517363\ttotal: 1.55s\tremaining: 4.05s\n",
      "111:\tlearn: 0.1516769\ttotal: 1.59s\tremaining: 4.08s\n",
      "112:\tlearn: 0.1515063\ttotal: 1.6s\tremaining: 4.07s\n",
      "113:\tlearn: 0.1513960\ttotal: 1.61s\tremaining: 4.05s\n",
      "114:\tlearn: 0.1512062\ttotal: 1.63s\tremaining: 4.03s\n",
      "115:\tlearn: 0.1510841\ttotal: 1.64s\tremaining: 4.01s\n",
      "116:\tlearn: 0.1509805\ttotal: 1.65s\tremaining: 3.99s\n",
      "117:\tlearn: 0.1508816\ttotal: 1.67s\tremaining: 3.99s\n",
      "118:\tlearn: 0.1506447\ttotal: 1.69s\tremaining: 3.99s\n",
      "119:\tlearn: 0.1504810\ttotal: 1.7s\tremaining: 3.97s\n",
      "120:\tlearn: 0.1502289\ttotal: 1.71s\tremaining: 3.95s\n",
      "121:\tlearn: 0.1499295\ttotal: 1.73s\tremaining: 3.93s\n",
      "122:\tlearn: 0.1496984\ttotal: 1.74s\tremaining: 3.91s\n",
      "123:\tlearn: 0.1496264\ttotal: 1.75s\tremaining: 3.89s\n",
      "124:\tlearn: 0.1493530\ttotal: 1.76s\tremaining: 3.87s\n",
      "125:\tlearn: 0.1492249\ttotal: 1.77s\tremaining: 3.85s\n",
      "126:\tlearn: 0.1491519\ttotal: 1.78s\tremaining: 3.83s\n",
      "127:\tlearn: 0.1490694\ttotal: 1.79s\tremaining: 3.81s\n",
      "128:\tlearn: 0.1490094\ttotal: 1.8s\tremaining: 3.79s\n",
      "129:\tlearn: 0.1489540\ttotal: 1.82s\tremaining: 3.77s\n",
      "130:\tlearn: 0.1488773\ttotal: 1.83s\tremaining: 3.76s\n",
      "131:\tlearn: 0.1487391\ttotal: 1.85s\tremaining: 3.75s\n",
      "132:\tlearn: 0.1486279\ttotal: 1.87s\tremaining: 3.75s\n",
      "133:\tlearn: 0.1485342\ttotal: 1.88s\tremaining: 3.73s\n",
      "134:\tlearn: 0.1483785\ttotal: 1.89s\tremaining: 3.71s\n",
      "135:\tlearn: 0.1481747\ttotal: 1.9s\tremaining: 3.7s\n",
      "136:\tlearn: 0.1480704\ttotal: 1.92s\tremaining: 3.68s\n",
      "137:\tlearn: 0.1479592\ttotal: 1.93s\tremaining: 3.66s\n",
      "138:\tlearn: 0.1478664\ttotal: 1.94s\tremaining: 3.64s\n",
      "139:\tlearn: 0.1476886\ttotal: 1.95s\tremaining: 3.63s\n",
      "140:\tlearn: 0.1476492\ttotal: 1.96s\tremaining: 3.61s\n",
      "141:\tlearn: 0.1475434\ttotal: 1.98s\tremaining: 3.59s\n",
      "142:\tlearn: 0.1474855\ttotal: 1.99s\tremaining: 3.57s\n",
      "143:\tlearn: 0.1474584\ttotal: 2s\tremaining: 3.55s\n",
      "144:\tlearn: 0.1473489\ttotal: 2.01s\tremaining: 3.53s\n",
      "145:\tlearn: 0.1472673\ttotal: 2.03s\tremaining: 3.54s\n",
      "146:\tlearn: 0.1471575\ttotal: 2.05s\tremaining: 3.53s\n",
      "147:\tlearn: 0.1469223\ttotal: 2.06s\tremaining: 3.51s\n",
      "148:\tlearn: 0.1468638\ttotal: 2.07s\tremaining: 3.49s\n",
      "149:\tlearn: 0.1467956\ttotal: 2.09s\tremaining: 3.48s\n",
      "150:\tlearn: 0.1467208\ttotal: 2.1s\tremaining: 3.46s\n",
      "151:\tlearn: 0.1466032\ttotal: 2.11s\tremaining: 3.44s\n",
      "152:\tlearn: 0.1464888\ttotal: 2.12s\tremaining: 3.43s\n",
      "153:\tlearn: 0.1463914\ttotal: 2.13s\tremaining: 3.41s\n",
      "154:\tlearn: 0.1461997\ttotal: 2.15s\tremaining: 3.39s\n",
      "155:\tlearn: 0.1461282\ttotal: 2.16s\tremaining: 3.38s\n",
      "156:\tlearn: 0.1460489\ttotal: 2.18s\tremaining: 3.37s\n",
      "157:\tlearn: 0.1459772\ttotal: 2.2s\tremaining: 3.37s\n",
      "158:\tlearn: 0.1459116\ttotal: 2.24s\tremaining: 3.4s\n",
      "159:\tlearn: 0.1456370\ttotal: 2.26s\tremaining: 3.38s\n",
      "160:\tlearn: 0.1455653\ttotal: 2.27s\tremaining: 3.37s\n",
      "161:\tlearn: 0.1455394\ttotal: 2.31s\tremaining: 3.4s\n",
      "162:\tlearn: 0.1454797\ttotal: 2.33s\tremaining: 3.39s\n",
      "163:\tlearn: 0.1454169\ttotal: 2.34s\tremaining: 3.37s\n",
      "164:\tlearn: 0.1453237\ttotal: 2.36s\tremaining: 3.36s\n"
     ]
    },
    {
     "name": "stdout",
     "output_type": "stream",
     "text": [
      "165:\tlearn: 0.1452654\ttotal: 2.38s\tremaining: 3.36s\n",
      "166:\tlearn: 0.1451701\ttotal: 2.4s\tremaining: 3.35s\n",
      "167:\tlearn: 0.1450759\ttotal: 2.42s\tremaining: 3.34s\n",
      "168:\tlearn: 0.1450214\ttotal: 2.43s\tremaining: 3.32s\n",
      "169:\tlearn: 0.1449476\ttotal: 2.44s\tremaining: 3.3s\n",
      "170:\tlearn: 0.1447606\ttotal: 2.45s\tremaining: 3.29s\n",
      "171:\tlearn: 0.1446555\ttotal: 2.47s\tremaining: 3.27s\n",
      "172:\tlearn: 0.1445744\ttotal: 2.48s\tremaining: 3.25s\n",
      "173:\tlearn: 0.1445039\ttotal: 2.49s\tremaining: 3.23s\n",
      "174:\tlearn: 0.1443981\ttotal: 2.5s\tremaining: 3.22s\n",
      "175:\tlearn: 0.1443350\ttotal: 2.52s\tremaining: 3.21s\n",
      "176:\tlearn: 0.1442343\ttotal: 2.53s\tremaining: 3.19s\n",
      "177:\tlearn: 0.1441485\ttotal: 2.55s\tremaining: 3.18s\n",
      "178:\tlearn: 0.1440774\ttotal: 2.58s\tremaining: 3.18s\n",
      "179:\tlearn: 0.1440427\ttotal: 2.59s\tremaining: 3.16s\n",
      "180:\tlearn: 0.1439815\ttotal: 2.6s\tremaining: 3.15s\n",
      "181:\tlearn: 0.1438975\ttotal: 2.61s\tremaining: 3.13s\n",
      "182:\tlearn: 0.1438265\ttotal: 2.63s\tremaining: 3.12s\n",
      "183:\tlearn: 0.1436844\ttotal: 2.64s\tremaining: 3.1s\n",
      "184:\tlearn: 0.1436270\ttotal: 2.65s\tremaining: 3.08s\n",
      "185:\tlearn: 0.1436079\ttotal: 2.66s\tremaining: 3.06s\n",
      "186:\tlearn: 0.1433749\ttotal: 2.67s\tremaining: 3.05s\n",
      "187:\tlearn: 0.1433201\ttotal: 2.69s\tremaining: 3.03s\n",
      "188:\tlearn: 0.1430628\ttotal: 2.7s\tremaining: 3.01s\n",
      "189:\tlearn: 0.1429896\ttotal: 2.71s\tremaining: 2.99s\n",
      "190:\tlearn: 0.1429129\ttotal: 2.72s\tremaining: 2.98s\n",
      "191:\tlearn: 0.1428592\ttotal: 2.73s\tremaining: 2.96s\n",
      "192:\tlearn: 0.1427704\ttotal: 2.75s\tremaining: 2.95s\n",
      "193:\tlearn: 0.1426987\ttotal: 2.76s\tremaining: 2.93s\n",
      "194:\tlearn: 0.1424460\ttotal: 2.77s\tremaining: 2.92s\n",
      "195:\tlearn: 0.1424033\ttotal: 2.79s\tremaining: 2.9s\n",
      "196:\tlearn: 0.1423400\ttotal: 2.8s\tremaining: 2.88s\n",
      "197:\tlearn: 0.1422713\ttotal: 2.81s\tremaining: 2.87s\n",
      "198:\tlearn: 0.1422185\ttotal: 2.82s\tremaining: 2.85s\n",
      "199:\tlearn: 0.1421576\ttotal: 2.83s\tremaining: 2.83s\n",
      "200:\tlearn: 0.1420998\ttotal: 2.84s\tremaining: 2.81s\n",
      "201:\tlearn: 0.1420378\ttotal: 2.85s\tremaining: 2.8s\n",
      "202:\tlearn: 0.1419815\ttotal: 2.87s\tremaining: 2.78s\n",
      "203:\tlearn: 0.1418280\ttotal: 2.88s\tremaining: 2.77s\n",
      "204:\tlearn: 0.1417569\ttotal: 2.89s\tremaining: 2.75s\n",
      "205:\tlearn: 0.1416898\ttotal: 2.9s\tremaining: 2.73s\n",
      "206:\tlearn: 0.1416593\ttotal: 2.91s\tremaining: 2.71s\n",
      "207:\tlearn: 0.1415691\ttotal: 2.92s\tremaining: 2.7s\n",
      "208:\tlearn: 0.1415135\ttotal: 2.94s\tremaining: 2.69s\n",
      "209:\tlearn: 0.1414589\ttotal: 2.96s\tremaining: 2.67s\n",
      "210:\tlearn: 0.1414075\ttotal: 2.98s\tremaining: 2.67s\n",
      "211:\tlearn: 0.1413600\ttotal: 2.99s\tremaining: 2.65s\n",
      "212:\tlearn: 0.1412800\ttotal: 3s\tremaining: 2.63s\n",
      "213:\tlearn: 0.1412479\ttotal: 3.01s\tremaining: 2.62s\n",
      "214:\tlearn: 0.1412363\ttotal: 3.02s\tremaining: 2.6s\n",
      "215:\tlearn: 0.1411968\ttotal: 3.04s\tremaining: 2.59s\n",
      "216:\tlearn: 0.1411310\ttotal: 3.06s\tremaining: 2.58s\n",
      "217:\tlearn: 0.1410463\ttotal: 3.07s\tremaining: 2.56s\n",
      "218:\tlearn: 0.1409239\ttotal: 3.08s\tremaining: 2.55s\n",
      "219:\tlearn: 0.1408691\ttotal: 3.1s\tremaining: 2.54s\n",
      "220:\tlearn: 0.1407837\ttotal: 3.12s\tremaining: 2.53s\n",
      "221:\tlearn: 0.1406735\ttotal: 3.13s\tremaining: 2.51s\n",
      "222:\tlearn: 0.1405346\ttotal: 3.15s\tremaining: 2.5s\n",
      "223:\tlearn: 0.1404508\ttotal: 3.16s\tremaining: 2.48s\n",
      "224:\tlearn: 0.1403672\ttotal: 3.17s\tremaining: 2.47s\n",
      "225:\tlearn: 0.1402721\ttotal: 3.19s\tremaining: 2.45s\n",
      "226:\tlearn: 0.1402178\ttotal: 3.2s\tremaining: 2.44s\n",
      "227:\tlearn: 0.1401642\ttotal: 3.21s\tremaining: 2.42s\n",
      "228:\tlearn: 0.1401062\ttotal: 3.22s\tremaining: 2.41s\n",
      "229:\tlearn: 0.1400292\ttotal: 3.23s\tremaining: 2.39s\n",
      "230:\tlearn: 0.1399726\ttotal: 3.25s\tremaining: 2.38s\n",
      "231:\tlearn: 0.1399332\ttotal: 3.26s\tremaining: 2.36s\n",
      "232:\tlearn: 0.1398792\ttotal: 3.28s\tremaining: 2.35s\n",
      "233:\tlearn: 0.1398655\ttotal: 3.3s\tremaining: 2.34s\n",
      "234:\tlearn: 0.1397792\ttotal: 3.31s\tremaining: 2.33s\n",
      "235:\tlearn: 0.1397376\ttotal: 3.32s\tremaining: 2.31s\n",
      "236:\tlearn: 0.1396897\ttotal: 3.34s\tremaining: 2.29s\n",
      "237:\tlearn: 0.1396568\ttotal: 3.35s\tremaining: 2.28s\n",
      "238:\tlearn: 0.1396340\ttotal: 3.36s\tremaining: 2.27s\n",
      "239:\tlearn: 0.1395461\ttotal: 3.38s\tremaining: 2.25s\n",
      "240:\tlearn: 0.1394895\ttotal: 3.39s\tremaining: 2.24s\n",
      "241:\tlearn: 0.1394513\ttotal: 3.4s\tremaining: 2.22s\n",
      "242:\tlearn: 0.1393876\ttotal: 3.41s\tremaining: 2.21s\n",
      "243:\tlearn: 0.1393213\ttotal: 3.42s\tremaining: 2.19s\n",
      "244:\tlearn: 0.1393048\ttotal: 3.44s\tremaining: 2.17s\n",
      "245:\tlearn: 0.1392471\ttotal: 3.45s\tremaining: 2.16s\n",
      "246:\tlearn: 0.1392027\ttotal: 3.46s\tremaining: 2.14s\n",
      "247:\tlearn: 0.1391558\ttotal: 3.48s\tremaining: 2.13s\n",
      "248:\tlearn: 0.1391032\ttotal: 3.5s\tremaining: 2.12s\n",
      "249:\tlearn: 0.1390715\ttotal: 3.51s\tremaining: 2.1s\n",
      "250:\tlearn: 0.1390378\ttotal: 3.52s\tremaining: 2.09s\n",
      "251:\tlearn: 0.1388762\ttotal: 3.53s\tremaining: 2.07s\n",
      "252:\tlearn: 0.1387290\ttotal: 3.54s\tremaining: 2.06s\n",
      "253:\tlearn: 0.1386787\ttotal: 3.56s\tremaining: 2.04s\n",
      "254:\tlearn: 0.1385920\ttotal: 3.58s\tremaining: 2.03s\n",
      "255:\tlearn: 0.1385177\ttotal: 3.59s\tremaining: 2.02s\n",
      "256:\tlearn: 0.1384879\ttotal: 3.61s\tremaining: 2.01s\n",
      "257:\tlearn: 0.1384334\ttotal: 3.63s\tremaining: 2s\n",
      "258:\tlearn: 0.1383717\ttotal: 3.65s\tremaining: 1.99s\n",
      "259:\tlearn: 0.1383395\ttotal: 3.66s\tremaining: 1.97s\n",
      "260:\tlearn: 0.1383061\ttotal: 3.68s\tremaining: 1.96s\n",
      "261:\tlearn: 0.1382629\ttotal: 3.7s\tremaining: 1.95s\n",
      "262:\tlearn: 0.1382416\ttotal: 3.71s\tremaining: 1.93s\n",
      "263:\tlearn: 0.1381938\ttotal: 3.73s\tremaining: 1.92s\n",
      "264:\tlearn: 0.1381631\ttotal: 3.74s\tremaining: 1.91s\n",
      "265:\tlearn: 0.1381146\ttotal: 3.76s\tremaining: 1.89s\n",
      "266:\tlearn: 0.1380774\ttotal: 3.77s\tremaining: 1.88s\n",
      "267:\tlearn: 0.1380532\ttotal: 3.78s\tremaining: 1.86s\n",
      "268:\tlearn: 0.1380078\ttotal: 3.79s\tremaining: 1.85s\n",
      "269:\tlearn: 0.1379000\ttotal: 3.81s\tremaining: 1.83s\n",
      "270:\tlearn: 0.1378319\ttotal: 3.82s\tremaining: 1.82s\n",
      "271:\tlearn: 0.1378026\ttotal: 3.84s\tremaining: 1.81s\n",
      "272:\tlearn: 0.1377081\ttotal: 3.87s\tremaining: 1.8s\n",
      "273:\tlearn: 0.1376356\ttotal: 3.88s\tremaining: 1.78s\n",
      "274:\tlearn: 0.1376016\ttotal: 3.9s\tremaining: 1.77s\n",
      "275:\tlearn: 0.1375400\ttotal: 3.92s\tremaining: 1.76s\n",
      "276:\tlearn: 0.1374960\ttotal: 3.94s\tremaining: 1.75s\n",
      "277:\tlearn: 0.1374409\ttotal: 3.96s\tremaining: 1.74s\n",
      "278:\tlearn: 0.1373869\ttotal: 3.98s\tremaining: 1.73s\n",
      "279:\tlearn: 0.1373660\ttotal: 3.99s\tremaining: 1.71s\n",
      "280:\tlearn: 0.1372505\ttotal: 4.01s\tremaining: 1.7s\n",
      "281:\tlearn: 0.1371632\ttotal: 4.04s\tremaining: 1.69s\n",
      "282:\tlearn: 0.1371425\ttotal: 4.06s\tremaining: 1.68s\n",
      "283:\tlearn: 0.1370620\ttotal: 4.07s\tremaining: 1.66s\n",
      "284:\tlearn: 0.1370182\ttotal: 4.08s\tremaining: 1.65s\n",
      "285:\tlearn: 0.1370055\ttotal: 4.09s\tremaining: 1.63s\n",
      "286:\tlearn: 0.1369423\ttotal: 4.1s\tremaining: 1.61s\n",
      "287:\tlearn: 0.1368796\ttotal: 4.12s\tremaining: 1.6s\n",
      "288:\tlearn: 0.1368636\ttotal: 4.14s\tremaining: 1.59s\n",
      "289:\tlearn: 0.1368286\ttotal: 4.16s\tremaining: 1.58s\n",
      "290:\tlearn: 0.1367921\ttotal: 4.17s\tremaining: 1.56s\n",
      "291:\tlearn: 0.1367043\ttotal: 4.19s\tremaining: 1.55s\n",
      "292:\tlearn: 0.1366654\ttotal: 4.2s\tremaining: 1.53s\n",
      "293:\tlearn: 0.1365886\ttotal: 4.22s\tremaining: 1.52s\n",
      "294:\tlearn: 0.1365566\ttotal: 4.24s\tremaining: 1.51s\n",
      "295:\tlearn: 0.1364594\ttotal: 4.26s\tremaining: 1.5s\n",
      "296:\tlearn: 0.1364240\ttotal: 4.27s\tremaining: 1.48s\n",
      "297:\tlearn: 0.1363593\ttotal: 4.29s\tremaining: 1.47s\n",
      "298:\tlearn: 0.1362739\ttotal: 4.31s\tremaining: 1.46s\n",
      "299:\tlearn: 0.1362359\ttotal: 4.32s\tremaining: 1.44s\n",
      "300:\tlearn: 0.1361841\ttotal: 4.33s\tremaining: 1.43s\n",
      "301:\tlearn: 0.1361182\ttotal: 4.35s\tremaining: 1.41s\n",
      "302:\tlearn: 0.1360684\ttotal: 4.36s\tremaining: 1.4s\n",
      "303:\tlearn: 0.1360280\ttotal: 4.38s\tremaining: 1.38s\n",
      "304:\tlearn: 0.1359843\ttotal: 4.39s\tremaining: 1.37s\n",
      "305:\tlearn: 0.1359224\ttotal: 4.41s\tremaining: 1.35s\n",
      "306:\tlearn: 0.1359031\ttotal: 4.42s\tremaining: 1.34s\n",
      "307:\tlearn: 0.1358705\ttotal: 4.43s\tremaining: 1.32s\n",
      "308:\tlearn: 0.1358495\ttotal: 4.46s\tremaining: 1.31s\n",
      "309:\tlearn: 0.1358228\ttotal: 4.47s\tremaining: 1.3s\n",
      "310:\tlearn: 0.1356959\ttotal: 4.49s\tremaining: 1.29s\n",
      "311:\tlearn: 0.1356487\ttotal: 4.51s\tremaining: 1.27s\n",
      "312:\tlearn: 0.1356110\ttotal: 4.52s\tremaining: 1.26s\n",
      "313:\tlearn: 0.1355732\ttotal: 4.54s\tremaining: 1.24s\n",
      "314:\tlearn: 0.1355393\ttotal: 4.59s\tremaining: 1.24s\n",
      "315:\tlearn: 0.1354644\ttotal: 4.61s\tremaining: 1.22s\n",
      "316:\tlearn: 0.1354319\ttotal: 4.62s\tremaining: 1.21s\n",
      "317:\tlearn: 0.1353428\ttotal: 4.64s\tremaining: 1.2s\n",
      "318:\tlearn: 0.1353090\ttotal: 4.66s\tremaining: 1.18s\n",
      "319:\tlearn: 0.1352815\ttotal: 4.67s\tremaining: 1.17s\n",
      "320:\tlearn: 0.1352624\ttotal: 4.69s\tremaining: 1.15s\n",
      "321:\tlearn: 0.1351571\ttotal: 4.7s\tremaining: 1.14s\n",
      "322:\tlearn: 0.1350935\ttotal: 4.71s\tremaining: 1.12s\n",
      "323:\tlearn: 0.1349948\ttotal: 4.73s\tremaining: 1.11s\n",
      "324:\tlearn: 0.1349430\ttotal: 4.74s\tremaining: 1.09s\n",
      "325:\tlearn: 0.1348933\ttotal: 4.76s\tremaining: 1.08s\n",
      "326:\tlearn: 0.1348496\ttotal: 4.78s\tremaining: 1.07s\n",
      "327:\tlearn: 0.1348123\ttotal: 4.8s\tremaining: 1.05s\n",
      "328:\tlearn: 0.1347730\ttotal: 4.82s\tremaining: 1.04s\n",
      "329:\tlearn: 0.1347564\ttotal: 4.83s\tremaining: 1.02s\n",
      "330:\tlearn: 0.1347087\ttotal: 4.85s\tremaining: 1.01s\n",
      "331:\tlearn: 0.1346499\ttotal: 4.87s\tremaining: 997ms\n",
      "332:\tlearn: 0.1345918\ttotal: 4.88s\tremaining: 983ms\n",
      "333:\tlearn: 0.1345731\ttotal: 4.9s\tremaining: 969ms\n"
     ]
    },
    {
     "name": "stdout",
     "output_type": "stream",
     "text": [
      "334:\tlearn: 0.1345346\ttotal: 4.92s\tremaining: 955ms\n",
      "335:\tlearn: 0.1344754\ttotal: 4.93s\tremaining: 940ms\n",
      "336:\tlearn: 0.1344171\ttotal: 4.95s\tremaining: 925ms\n",
      "337:\tlearn: 0.1343053\ttotal: 4.99s\tremaining: 915ms\n",
      "338:\tlearn: 0.1342628\ttotal: 5s\tremaining: 901ms\n",
      "339:\tlearn: 0.1341602\ttotal: 5.02s\tremaining: 886ms\n",
      "340:\tlearn: 0.1341094\ttotal: 5.03s\tremaining: 870ms\n",
      "341:\tlearn: 0.1340667\ttotal: 5.04s\tremaining: 855ms\n",
      "342:\tlearn: 0.1340432\ttotal: 5.05s\tremaining: 840ms\n",
      "343:\tlearn: 0.1339897\ttotal: 5.07s\tremaining: 825ms\n",
      "344:\tlearn: 0.1339629\ttotal: 5.08s\tremaining: 809ms\n",
      "345:\tlearn: 0.1339282\ttotal: 5.1s\tremaining: 796ms\n",
      "346:\tlearn: 0.1338532\ttotal: 5.12s\tremaining: 783ms\n",
      "347:\tlearn: 0.1338342\ttotal: 5.15s\tremaining: 769ms\n",
      "348:\tlearn: 0.1338046\ttotal: 5.16s\tremaining: 754ms\n",
      "349:\tlearn: 0.1337572\ttotal: 5.18s\tremaining: 741ms\n",
      "350:\tlearn: 0.1336832\ttotal: 5.2s\tremaining: 726ms\n",
      "351:\tlearn: 0.1336458\ttotal: 5.22s\tremaining: 712ms\n",
      "352:\tlearn: 0.1335708\ttotal: 5.24s\tremaining: 697ms\n",
      "353:\tlearn: 0.1335398\ttotal: 5.25s\tremaining: 682ms\n",
      "354:\tlearn: 0.1335316\ttotal: 5.26s\tremaining: 667ms\n",
      "355:\tlearn: 0.1334777\ttotal: 5.27s\tremaining: 652ms\n",
      "356:\tlearn: 0.1334101\ttotal: 5.3s\tremaining: 638ms\n",
      "357:\tlearn: 0.1333457\ttotal: 5.32s\tremaining: 625ms\n",
      "358:\tlearn: 0.1333127\ttotal: 5.33s\tremaining: 609ms\n",
      "359:\tlearn: 0.1332819\ttotal: 5.35s\tremaining: 594ms\n",
      "360:\tlearn: 0.1332613\ttotal: 5.36s\tremaining: 579ms\n",
      "361:\tlearn: 0.1332373\ttotal: 5.37s\tremaining: 564ms\n",
      "362:\tlearn: 0.1332154\ttotal: 5.38s\tremaining: 549ms\n",
      "363:\tlearn: 0.1331646\ttotal: 5.39s\tremaining: 533ms\n",
      "364:\tlearn: 0.1331283\ttotal: 5.41s\tremaining: 519ms\n",
      "365:\tlearn: 0.1330796\ttotal: 5.43s\tremaining: 504ms\n",
      "366:\tlearn: 0.1330203\ttotal: 5.45s\tremaining: 490ms\n",
      "367:\tlearn: 0.1329756\ttotal: 5.47s\tremaining: 475ms\n",
      "368:\tlearn: 0.1329303\ttotal: 5.48s\tremaining: 461ms\n",
      "369:\tlearn: 0.1328594\ttotal: 5.5s\tremaining: 446ms\n",
      "370:\tlearn: 0.1328087\ttotal: 5.52s\tremaining: 432ms\n",
      "371:\tlearn: 0.1327692\ttotal: 5.54s\tremaining: 417ms\n",
      "372:\tlearn: 0.1327511\ttotal: 5.56s\tremaining: 402ms\n",
      "373:\tlearn: 0.1327191\ttotal: 5.58s\tremaining: 388ms\n",
      "374:\tlearn: 0.1326572\ttotal: 5.59s\tremaining: 372ms\n",
      "375:\tlearn: 0.1326273\ttotal: 5.6s\tremaining: 357ms\n",
      "376:\tlearn: 0.1325850\ttotal: 5.62s\tremaining: 343ms\n",
      "377:\tlearn: 0.1325268\ttotal: 5.63s\tremaining: 328ms\n",
      "378:\tlearn: 0.1324812\ttotal: 5.64s\tremaining: 313ms\n",
      "379:\tlearn: 0.1324523\ttotal: 5.66s\tremaining: 298ms\n",
      "380:\tlearn: 0.1324058\ttotal: 5.67s\tremaining: 283ms\n",
      "381:\tlearn: 0.1323717\ttotal: 5.69s\tremaining: 268ms\n",
      "382:\tlearn: 0.1323183\ttotal: 5.71s\tremaining: 253ms\n",
      "383:\tlearn: 0.1322392\ttotal: 5.72s\tremaining: 238ms\n",
      "384:\tlearn: 0.1321740\ttotal: 5.74s\tremaining: 224ms\n",
      "385:\tlearn: 0.1321376\ttotal: 5.76s\tremaining: 209ms\n",
      "386:\tlearn: 0.1320509\ttotal: 5.78s\tremaining: 194ms\n",
      "387:\tlearn: 0.1320105\ttotal: 5.79s\tremaining: 179ms\n",
      "388:\tlearn: 0.1318950\ttotal: 5.81s\tremaining: 164ms\n",
      "389:\tlearn: 0.1318356\ttotal: 5.83s\tremaining: 149ms\n",
      "390:\tlearn: 0.1317701\ttotal: 5.84s\tremaining: 134ms\n",
      "391:\tlearn: 0.1317289\ttotal: 5.86s\tremaining: 120ms\n",
      "392:\tlearn: 0.1317035\ttotal: 5.91s\tremaining: 105ms\n",
      "393:\tlearn: 0.1316247\ttotal: 5.92s\tremaining: 90.2ms\n",
      "394:\tlearn: 0.1315822\ttotal: 5.95s\tremaining: 75.3ms\n",
      "395:\tlearn: 0.1315321\ttotal: 5.99s\tremaining: 60.5ms\n",
      "396:\tlearn: 0.1314999\ttotal: 6.02s\tremaining: 45.5ms\n",
      "397:\tlearn: 0.1314108\ttotal: 6.04s\tremaining: 30.4ms\n",
      "398:\tlearn: 0.1313403\ttotal: 6.07s\tremaining: 15.2ms\n",
      "399:\tlearn: 0.1313118\ttotal: 6.09s\tremaining: 0us\n"
     ]
    },
    {
     "data": {
      "text/plain": [
       "<catboost.core.CatBoostClassifier at 0x58abe887b8>"
      ]
     },
     "execution_count": 32,
     "metadata": {},
     "output_type": "execute_result"
    }
   ],
   "source": [
    "cb.fit(X_train,y_train)\n",
    "cpred=cb.predict(X_test)"
   ]
  },
  {
   "cell_type": "code",
   "execution_count": 40,
   "metadata": {},
   "outputs": [
    {
     "name": "stdout",
     "output_type": "stream",
     "text": [
      "0.8997664047568485\n",
      "0.898067530261202\n",
      "0.8965810150775112\n"
     ]
    }
   ],
   "source": [
    "print(accuracy_score(pred,y_test))\n",
    "print(accuracy_score(cpred,y_test))\n",
    "print(accuracy_score(j,y_test))"
   ]
  },
  {
   "cell_type": "code",
   "execution_count": 41,
   "metadata": {},
   "outputs": [],
   "source": [
    "lpred=xgb.predict(test)"
   ]
  },
  {
   "cell_type": "markdown",
   "metadata": {},
   "source": [
    "<h5>Prediciton for Pet_Category</h5>"
   ]
  },
  {
   "cell_type": "code",
   "execution_count": 42,
   "metadata": {},
   "outputs": [],
   "source": [
    "trainp=mtrain.copy()"
   ]
  },
  {
   "cell_type": "code",
   "execution_count": 43,
   "metadata": {},
   "outputs": [],
   "source": [
    "XP=trainp.drop(['pet_category','color_type_Black Tiger', 'breed_category', 'color_type_Brown Tiger'],axis=1)\n",
    "YP=trainp.pet_category"
   ]
  },
  {
   "cell_type": "code",
   "execution_count": 44,
   "metadata": {},
   "outputs": [],
   "source": [
    "X_trainp, X_testp, y_trainp, y_testp = train_test_split(XP, YP, test_size=0.25, random_state=27)"
   ]
  },
  {
   "cell_type": "code",
   "execution_count": 45,
   "metadata": {},
   "outputs": [
    {
     "name": "stderr",
     "output_type": "stream",
     "text": [
      "[Parallel(n_jobs=-1)]: Using backend LokyBackend with 2 concurrent workers.\n",
      "[Parallel(n_jobs=-1)]: Done   5 out of   5 | elapsed: 10.8min finished\n"
     ]
    },
    {
     "data": {
      "text/plain": [
       "0.8873006852339577"
      ]
     },
     "execution_count": 45,
     "metadata": {},
     "output_type": "execute_result"
    }
   ],
   "source": [
    "xgbp=XGBClassifier(n_estimators=400,objective='multi:softprob')\n",
    "cross_val_score(xgbp, XP, YP, cv=5, n_jobs=-1, verbose=1, scoring='f1_weighted').mean()"
   ]
  },
  {
   "cell_type": "code",
   "execution_count": 46,
   "metadata": {},
   "outputs": [
    {
     "name": "stderr",
     "output_type": "stream",
     "text": [
      "[Parallel(n_jobs=-1)]: Using backend LokyBackend with 2 concurrent workers.\n",
      "[Parallel(n_jobs=-1)]: Done   5 out of   5 | elapsed:   35.1s finished\n"
     ]
    },
    {
     "data": {
      "text/plain": [
       "0.8900208003008944"
      ]
     },
     "execution_count": 46,
     "metadata": {},
     "output_type": "execute_result"
    }
   ],
   "source": [
    "cbp=CatBoostClassifier(iterations=400,learning_rate=0.06)\n",
    "cross_val_score(cbp, XP, YP, cv=5, n_jobs=-1, verbose=1, scoring='f1_weighted').mean()"
   ]
  },
  {
   "cell_type": "code",
   "execution_count": 47,
   "metadata": {},
   "outputs": [
    {
     "name": "stderr",
     "output_type": "stream",
     "text": [
      "[Parallel(n_jobs=-1)]: Using backend LokyBackend with 2 concurrent workers.\n",
      "[Parallel(n_jobs=-1)]: Done   5 out of   5 | elapsed:   37.8s finished\n"
     ]
    },
    {
     "data": {
      "text/plain": [
       "0.894080223646936"
      ]
     },
     "execution_count": 47,
     "metadata": {},
     "output_type": "execute_result"
    }
   ],
   "source": [
    "lgbmp = LGBMClassifier(random_state=201, n_estimators=410, colsample_bytree=1, \n",
    "                       max_depth=31, learning_rate=0.06, boosting_type='gbdt')\n",
    "cross_val_score(lgbmc, XP, YP, cv=5, n_jobs=-1, verbose=1, scoring='f1_weighted').mean()"
   ]
  },
  {
   "cell_type": "code",
   "execution_count": 48,
   "metadata": {},
   "outputs": [
    {
     "data": {
      "text/plain": [
       "LGBMClassifier(colsample_bytree=1, learning_rate=0.06, max_depth=31,\n",
       "               n_estimators=410, random_state=201)"
      ]
     },
     "execution_count": 48,
     "metadata": {},
     "output_type": "execute_result"
    }
   ],
   "source": [
    "lgbmp.fit(X_trainp,y_trainp)\n",
    "j=lgbmp.predict(X_testp)"
   ]
  },
  {
   "cell_type": "code",
   "execution_count": 49,
   "metadata": {},
   "outputs": [
    {
     "data": {
      "text/plain": [
       "XGBClassifier(base_score=0.5, booster='gbtree', colsample_bylevel=1,\n",
       "              colsample_bynode=1, colsample_bytree=1, gamma=0, gpu_id=-1,\n",
       "              importance_type='gain', interaction_constraints='',\n",
       "              learning_rate=0.300000012, max_delta_step=0, max_depth=6,\n",
       "              min_child_weight=1, missing=nan, monotone_constraints='()',\n",
       "              n_estimators=400, n_jobs=0, num_parallel_tree=1,\n",
       "              objective='multi:softprob', random_state=0, reg_alpha=0,\n",
       "              reg_lambda=1, scale_pos_weight=None, subsample=1,\n",
       "              tree_method='exact', validate_parameters=1, verbosity=None)"
      ]
     },
     "execution_count": 49,
     "metadata": {},
     "output_type": "execute_result"
    }
   ],
   "source": [
    "xgbp.fit(X_trainp,y_trainp)"
   ]
  },
  {
   "cell_type": "code",
   "execution_count": 50,
   "metadata": {},
   "outputs": [
    {
     "name": "stdout",
     "output_type": "stream",
     "text": [
      "0:\tlearn: 1.2900808\ttotal: 16.7ms\tremaining: 6.67s\n",
      "1:\tlearn: 1.2096080\ttotal: 31.4ms\tremaining: 6.25s\n",
      "2:\tlearn: 1.1427051\ttotal: 52.2ms\tremaining: 6.9s\n",
      "3:\tlearn: 1.0848621\ttotal: 66.9ms\tremaining: 6.62s\n",
      "4:\tlearn: 1.0309255\ttotal: 81.7ms\tremaining: 6.45s\n",
      "5:\tlearn: 0.9883183\ttotal: 96.4ms\tremaining: 6.33s\n",
      "6:\tlearn: 0.9472121\ttotal: 110ms\tremaining: 6.2s\n",
      "7:\tlearn: 0.9083996\ttotal: 124ms\tremaining: 6.08s\n",
      "8:\tlearn: 0.8736185\ttotal: 139ms\tremaining: 6.02s\n",
      "9:\tlearn: 0.8434863\ttotal: 153ms\tremaining: 5.95s\n",
      "10:\tlearn: 0.8146390\ttotal: 166ms\tremaining: 5.88s\n",
      "11:\tlearn: 0.7893466\ttotal: 180ms\tremaining: 5.83s\n",
      "12:\tlearn: 0.7668910\ttotal: 194ms\tremaining: 5.79s\n",
      "13:\tlearn: 0.7459687\ttotal: 227ms\tremaining: 6.26s\n",
      "14:\tlearn: 0.7257447\ttotal: 246ms\tremaining: 6.32s\n",
      "15:\tlearn: 0.7056871\ttotal: 260ms\tremaining: 6.25s\n",
      "16:\tlearn: 0.6855653\ttotal: 275ms\tremaining: 6.19s\n",
      "17:\tlearn: 0.6695630\ttotal: 289ms\tremaining: 6.13s\n",
      "18:\tlearn: 0.6536049\ttotal: 303ms\tremaining: 6.07s\n",
      "19:\tlearn: 0.6397208\ttotal: 317ms\tremaining: 6.02s\n",
      "20:\tlearn: 0.6271793\ttotal: 331ms\tremaining: 5.98s\n",
      "21:\tlearn: 0.6135365\ttotal: 345ms\tremaining: 5.93s\n",
      "22:\tlearn: 0.6026781\ttotal: 360ms\tremaining: 5.89s\n",
      "23:\tlearn: 0.5909736\ttotal: 373ms\tremaining: 5.84s\n",
      "24:\tlearn: 0.5808563\ttotal: 386ms\tremaining: 5.8s\n",
      "25:\tlearn: 0.5699885\ttotal: 417ms\tremaining: 6s\n",
      "26:\tlearn: 0.5609188\ttotal: 436ms\tremaining: 6.02s\n",
      "27:\tlearn: 0.5497679\ttotal: 450ms\tremaining: 5.98s\n",
      "28:\tlearn: 0.5414463\ttotal: 464ms\tremaining: 5.94s\n",
      "29:\tlearn: 0.5353097\ttotal: 478ms\tremaining: 5.9s\n",
      "30:\tlearn: 0.5282949\ttotal: 492ms\tremaining: 5.85s\n",
      "31:\tlearn: 0.5218157\ttotal: 505ms\tremaining: 5.81s\n",
      "32:\tlearn: 0.5126699\ttotal: 520ms\tremaining: 5.78s\n",
      "33:\tlearn: 0.5064534\ttotal: 533ms\tremaining: 5.74s\n",
      "34:\tlearn: 0.5010670\ttotal: 547ms\tremaining: 5.7s\n",
      "35:\tlearn: 0.4957869\ttotal: 560ms\tremaining: 5.67s\n",
      "36:\tlearn: 0.4913860\ttotal: 586ms\tremaining: 5.75s\n",
      "37:\tlearn: 0.4869843\ttotal: 607ms\tremaining: 5.79s\n",
      "38:\tlearn: 0.4823352\ttotal: 622ms\tremaining: 5.76s\n",
      "39:\tlearn: 0.4767203\ttotal: 636ms\tremaining: 5.72s\n",
      "40:\tlearn: 0.4702071\ttotal: 650ms\tremaining: 5.69s\n",
      "41:\tlearn: 0.4643527\ttotal: 665ms\tremaining: 5.66s\n",
      "42:\tlearn: 0.4597560\ttotal: 678ms\tremaining: 5.63s\n",
      "43:\tlearn: 0.4543606\ttotal: 692ms\tremaining: 5.6s\n",
      "44:\tlearn: 0.4513950\ttotal: 706ms\tremaining: 5.57s\n",
      "45:\tlearn: 0.4478874\ttotal: 720ms\tremaining: 5.54s\n",
      "46:\tlearn: 0.4433584\ttotal: 735ms\tremaining: 5.52s\n",
      "47:\tlearn: 0.4408009\ttotal: 748ms\tremaining: 5.48s\n",
      "48:\tlearn: 0.4369181\ttotal: 772ms\tremaining: 5.53s\n",
      "49:\tlearn: 0.4340638\ttotal: 792ms\tremaining: 5.54s\n",
      "50:\tlearn: 0.4302217\ttotal: 809ms\tremaining: 5.54s\n",
      "51:\tlearn: 0.4259045\ttotal: 825ms\tremaining: 5.52s\n",
      "52:\tlearn: 0.4232597\ttotal: 839ms\tremaining: 5.49s\n",
      "53:\tlearn: 0.4214062\ttotal: 853ms\tremaining: 5.46s\n",
      "54:\tlearn: 0.4183795\ttotal: 868ms\tremaining: 5.44s\n",
      "55:\tlearn: 0.4166567\ttotal: 882ms\tremaining: 5.42s\n",
      "56:\tlearn: 0.4139251\ttotal: 896ms\tremaining: 5.39s\n",
      "57:\tlearn: 0.4122587\ttotal: 909ms\tremaining: 5.36s\n",
      "58:\tlearn: 0.4105133\ttotal: 922ms\tremaining: 5.33s\n",
      "59:\tlearn: 0.4073114\ttotal: 951ms\tremaining: 5.39s\n",
      "60:\tlearn: 0.4056766\ttotal: 972ms\tremaining: 5.4s\n",
      "61:\tlearn: 0.4024175\ttotal: 988ms\tremaining: 5.39s\n",
      "62:\tlearn: 0.4008662\ttotal: 1s\tremaining: 5.36s\n",
      "63:\tlearn: 0.3991952\ttotal: 1.02s\tremaining: 5.34s\n",
      "64:\tlearn: 0.3973840\ttotal: 1.03s\tremaining: 5.33s\n",
      "65:\tlearn: 0.3945070\ttotal: 1.05s\tremaining: 5.31s\n",
      "66:\tlearn: 0.3930494\ttotal: 1.06s\tremaining: 5.28s\n",
      "67:\tlearn: 0.3919491\ttotal: 1.08s\tremaining: 5.25s\n",
      "68:\tlearn: 0.3900121\ttotal: 1.09s\tremaining: 5.23s\n",
      "69:\tlearn: 0.3887867\ttotal: 1.1s\tremaining: 5.2s\n",
      "70:\tlearn: 0.3879801\ttotal: 1.13s\tremaining: 5.22s\n",
      "71:\tlearn: 0.3861911\ttotal: 1.15s\tremaining: 5.25s\n",
      "72:\tlearn: 0.3851143\ttotal: 1.17s\tremaining: 5.22s\n",
      "73:\tlearn: 0.3840716\ttotal: 1.18s\tremaining: 5.2s\n",
      "74:\tlearn: 0.3822091\ttotal: 1.2s\tremaining: 5.18s\n",
      "75:\tlearn: 0.3811064\ttotal: 1.21s\tremaining: 5.15s\n",
      "76:\tlearn: 0.3804065\ttotal: 1.22s\tremaining: 5.13s\n",
      "77:\tlearn: 0.3795189\ttotal: 1.24s\tremaining: 5.1s\n",
      "78:\tlearn: 0.3788250\ttotal: 1.25s\tremaining: 5.08s\n",
      "79:\tlearn: 0.3777489\ttotal: 1.26s\tremaining: 5.05s\n",
      "80:\tlearn: 0.3768759\ttotal: 1.28s\tremaining: 5.03s\n",
      "81:\tlearn: 0.3757093\ttotal: 1.29s\tremaining: 5s\n",
      "82:\tlearn: 0.3745421\ttotal: 1.32s\tremaining: 5.03s\n",
      "83:\tlearn: 0.3735998\ttotal: 1.34s\tremaining: 5.03s\n",
      "84:\tlearn: 0.3727646\ttotal: 1.35s\tremaining: 5.01s\n",
      "85:\tlearn: 0.3720028\ttotal: 1.37s\tremaining: 4.99s\n",
      "86:\tlearn: 0.3714579\ttotal: 1.38s\tremaining: 4.97s\n",
      "87:\tlearn: 0.3707670\ttotal: 1.39s\tremaining: 4.95s\n",
      "88:\tlearn: 0.3698596\ttotal: 1.41s\tremaining: 4.92s\n",
      "89:\tlearn: 0.3679608\ttotal: 1.42s\tremaining: 4.9s\n",
      "90:\tlearn: 0.3671259\ttotal: 1.44s\tremaining: 4.88s\n",
      "91:\tlearn: 0.3664492\ttotal: 1.45s\tremaining: 4.86s\n",
      "92:\tlearn: 0.3654797\ttotal: 1.46s\tremaining: 4.83s\n",
      "93:\tlearn: 0.3643632\ttotal: 1.49s\tremaining: 4.84s\n",
      "94:\tlearn: 0.3637347\ttotal: 1.51s\tremaining: 4.84s\n",
      "95:\tlearn: 0.3629794\ttotal: 1.53s\tremaining: 4.83s\n",
      "96:\tlearn: 0.3620882\ttotal: 1.54s\tremaining: 4.81s\n",
      "97:\tlearn: 0.3613866\ttotal: 1.55s\tremaining: 4.79s\n",
      "98:\tlearn: 0.3607321\ttotal: 1.57s\tremaining: 4.76s\n",
      "99:\tlearn: 0.3604850\ttotal: 1.58s\tremaining: 4.74s\n",
      "100:\tlearn: 0.3597708\ttotal: 1.59s\tremaining: 4.72s\n",
      "101:\tlearn: 0.3593997\ttotal: 1.61s\tremaining: 4.7s\n",
      "102:\tlearn: 0.3586738\ttotal: 1.62s\tremaining: 4.67s\n",
      "103:\tlearn: 0.3581475\ttotal: 1.63s\tremaining: 4.65s\n",
      "104:\tlearn: 0.3572999\ttotal: 1.65s\tremaining: 4.63s\n",
      "105:\tlearn: 0.3569656\ttotal: 1.67s\tremaining: 4.63s\n",
      "106:\tlearn: 0.3561651\ttotal: 1.69s\tremaining: 4.63s\n",
      "107:\tlearn: 0.3554146\ttotal: 1.71s\tremaining: 4.62s\n",
      "108:\tlearn: 0.3548853\ttotal: 1.72s\tremaining: 4.6s\n",
      "109:\tlearn: 0.3543006\ttotal: 1.74s\tremaining: 4.58s\n",
      "110:\tlearn: 0.3527559\ttotal: 1.75s\tremaining: 4.56s\n",
      "111:\tlearn: 0.3520565\ttotal: 1.76s\tremaining: 4.54s\n",
      "112:\tlearn: 0.3514959\ttotal: 1.78s\tremaining: 4.52s\n",
      "113:\tlearn: 0.3507817\ttotal: 1.79s\tremaining: 4.5s\n",
      "114:\tlearn: 0.3502717\ttotal: 1.81s\tremaining: 4.48s\n",
      "115:\tlearn: 0.3497227\ttotal: 1.82s\tremaining: 4.46s\n",
      "116:\tlearn: 0.3493176\ttotal: 1.83s\tremaining: 4.44s\n",
      "117:\tlearn: 0.3484936\ttotal: 1.85s\tremaining: 4.42s\n",
      "118:\tlearn: 0.3478711\ttotal: 1.87s\tremaining: 4.42s\n",
      "119:\tlearn: 0.3474579\ttotal: 1.91s\tremaining: 4.45s\n",
      "120:\tlearn: 0.3469888\ttotal: 1.92s\tremaining: 4.43s\n",
      "121:\tlearn: 0.3463574\ttotal: 1.95s\tremaining: 4.45s\n",
      "122:\tlearn: 0.3458793\ttotal: 1.97s\tremaining: 4.43s\n",
      "123:\tlearn: 0.3445916\ttotal: 1.99s\tremaining: 4.42s\n",
      "124:\tlearn: 0.3442692\ttotal: 2s\tremaining: 4.4s\n",
      "125:\tlearn: 0.3435347\ttotal: 2.02s\tremaining: 4.38s\n",
      "126:\tlearn: 0.3430346\ttotal: 2.04s\tremaining: 4.39s\n",
      "127:\tlearn: 0.3424629\ttotal: 2.06s\tremaining: 4.37s\n",
      "128:\tlearn: 0.3420598\ttotal: 2.07s\tremaining: 4.35s\n",
      "129:\tlearn: 0.3416828\ttotal: 2.08s\tremaining: 4.33s\n",
      "130:\tlearn: 0.3413629\ttotal: 2.1s\tremaining: 4.31s\n",
      "131:\tlearn: 0.3403759\ttotal: 2.11s\tremaining: 4.29s\n",
      "132:\tlearn: 0.3401985\ttotal: 2.13s\tremaining: 4.27s\n",
      "133:\tlearn: 0.3398008\ttotal: 2.14s\tremaining: 4.25s\n",
      "134:\tlearn: 0.3388870\ttotal: 2.15s\tremaining: 4.23s\n",
      "135:\tlearn: 0.3384398\ttotal: 2.17s\tremaining: 4.21s\n",
      "136:\tlearn: 0.3377037\ttotal: 2.18s\tremaining: 4.19s\n",
      "137:\tlearn: 0.3371863\ttotal: 2.19s\tremaining: 4.17s\n",
      "138:\tlearn: 0.3367447\ttotal: 2.22s\tremaining: 4.17s\n",
      "139:\tlearn: 0.3359893\ttotal: 2.24s\tremaining: 4.15s\n",
      "140:\tlearn: 0.3351916\ttotal: 2.25s\tremaining: 4.13s\n",
      "141:\tlearn: 0.3347862\ttotal: 2.27s\tremaining: 4.12s\n",
      "142:\tlearn: 0.3341912\ttotal: 2.28s\tremaining: 4.1s\n",
      "143:\tlearn: 0.3337917\ttotal: 2.29s\tremaining: 4.08s\n",
      "144:\tlearn: 0.3333432\ttotal: 2.31s\tremaining: 4.06s\n",
      "145:\tlearn: 0.3328725\ttotal: 2.32s\tremaining: 4.04s\n",
      "146:\tlearn: 0.3327405\ttotal: 2.33s\tremaining: 4.02s\n",
      "147:\tlearn: 0.3324434\ttotal: 2.35s\tremaining: 4s\n",
      "148:\tlearn: 0.3317812\ttotal: 2.36s\tremaining: 3.98s\n",
      "149:\tlearn: 0.3313862\ttotal: 2.37s\tremaining: 3.96s\n",
      "150:\tlearn: 0.3310565\ttotal: 2.4s\tremaining: 3.95s\n",
      "151:\tlearn: 0.3306960\ttotal: 2.41s\tremaining: 3.94s\n",
      "152:\tlearn: 0.3298018\ttotal: 2.43s\tremaining: 3.92s\n",
      "153:\tlearn: 0.3292888\ttotal: 2.44s\tremaining: 3.9s\n",
      "154:\tlearn: 0.3284417\ttotal: 2.46s\tremaining: 3.88s\n",
      "155:\tlearn: 0.3283272\ttotal: 2.47s\tremaining: 3.87s\n",
      "156:\tlearn: 0.3280383\ttotal: 2.48s\tremaining: 3.85s\n",
      "157:\tlearn: 0.3278148\ttotal: 2.5s\tremaining: 3.83s\n",
      "158:\tlearn: 0.3272797\ttotal: 2.51s\tremaining: 3.81s\n",
      "159:\tlearn: 0.3269571\ttotal: 2.53s\tremaining: 3.79s\n",
      "160:\tlearn: 0.3265161\ttotal: 2.54s\tremaining: 3.77s\n",
      "161:\tlearn: 0.3258646\ttotal: 2.55s\tremaining: 3.75s\n",
      "162:\tlearn: 0.3253002\ttotal: 2.57s\tremaining: 3.73s\n"
     ]
    },
    {
     "name": "stdout",
     "output_type": "stream",
     "text": [
      "163:\tlearn: 0.3249295\ttotal: 2.59s\tremaining: 3.73s\n",
      "164:\tlearn: 0.3245777\ttotal: 2.61s\tremaining: 3.72s\n",
      "165:\tlearn: 0.3243427\ttotal: 2.62s\tremaining: 3.7s\n",
      "166:\tlearn: 0.3239584\ttotal: 2.64s\tremaining: 3.68s\n",
      "167:\tlearn: 0.3236730\ttotal: 2.65s\tremaining: 3.66s\n",
      "168:\tlearn: 0.3229989\ttotal: 2.67s\tremaining: 3.64s\n",
      "169:\tlearn: 0.3227067\ttotal: 2.68s\tremaining: 3.62s\n",
      "170:\tlearn: 0.3221457\ttotal: 2.69s\tremaining: 3.61s\n",
      "171:\tlearn: 0.3218724\ttotal: 2.71s\tremaining: 3.59s\n",
      "172:\tlearn: 0.3213572\ttotal: 2.72s\tremaining: 3.57s\n",
      "173:\tlearn: 0.3205066\ttotal: 2.73s\tremaining: 3.55s\n",
      "174:\tlearn: 0.3200528\ttotal: 2.75s\tremaining: 3.53s\n",
      "175:\tlearn: 0.3196376\ttotal: 2.77s\tremaining: 3.52s\n",
      "176:\tlearn: 0.3192811\ttotal: 2.78s\tremaining: 3.51s\n",
      "177:\tlearn: 0.3187587\ttotal: 2.8s\tremaining: 3.49s\n",
      "178:\tlearn: 0.3183393\ttotal: 2.81s\tremaining: 3.47s\n",
      "179:\tlearn: 0.3178351\ttotal: 2.83s\tremaining: 3.45s\n",
      "180:\tlearn: 0.3176558\ttotal: 2.84s\tremaining: 3.44s\n",
      "181:\tlearn: 0.3173209\ttotal: 2.85s\tremaining: 3.42s\n",
      "182:\tlearn: 0.3169608\ttotal: 2.87s\tremaining: 3.4s\n",
      "183:\tlearn: 0.3166265\ttotal: 2.88s\tremaining: 3.38s\n",
      "184:\tlearn: 0.3162837\ttotal: 2.89s\tremaining: 3.36s\n",
      "185:\tlearn: 0.3158592\ttotal: 2.91s\tremaining: 3.35s\n",
      "186:\tlearn: 0.3156499\ttotal: 2.92s\tremaining: 3.33s\n",
      "187:\tlearn: 0.3152870\ttotal: 2.94s\tremaining: 3.32s\n",
      "188:\tlearn: 0.3150877\ttotal: 2.96s\tremaining: 3.3s\n",
      "189:\tlearn: 0.3148239\ttotal: 2.97s\tremaining: 3.28s\n",
      "190:\tlearn: 0.3143564\ttotal: 2.98s\tremaining: 3.26s\n",
      "191:\tlearn: 0.3136897\ttotal: 3s\tremaining: 3.25s\n",
      "192:\tlearn: 0.3134528\ttotal: 3.01s\tremaining: 3.23s\n",
      "193:\tlearn: 0.3130951\ttotal: 3.02s\tremaining: 3.21s\n",
      "194:\tlearn: 0.3128316\ttotal: 3.04s\tremaining: 3.19s\n",
      "195:\tlearn: 0.3125211\ttotal: 3.05s\tremaining: 3.17s\n",
      "196:\tlearn: 0.3123243\ttotal: 3.06s\tremaining: 3.16s\n",
      "197:\tlearn: 0.3120524\ttotal: 3.08s\tremaining: 3.14s\n",
      "198:\tlearn: 0.3118463\ttotal: 3.09s\tremaining: 3.12s\n",
      "199:\tlearn: 0.3110538\ttotal: 3.1s\tremaining: 3.1s\n",
      "200:\tlearn: 0.3106877\ttotal: 3.13s\tremaining: 3.09s\n",
      "201:\tlearn: 0.3103112\ttotal: 3.14s\tremaining: 3.08s\n",
      "202:\tlearn: 0.3100578\ttotal: 3.15s\tremaining: 3.06s\n",
      "203:\tlearn: 0.3098462\ttotal: 3.17s\tremaining: 3.04s\n",
      "204:\tlearn: 0.3096338\ttotal: 3.18s\tremaining: 3.03s\n",
      "205:\tlearn: 0.3091413\ttotal: 3.19s\tremaining: 3.01s\n",
      "206:\tlearn: 0.3089801\ttotal: 3.21s\tremaining: 2.99s\n",
      "207:\tlearn: 0.3086483\ttotal: 3.22s\tremaining: 2.98s\n",
      "208:\tlearn: 0.3083431\ttotal: 3.24s\tremaining: 2.96s\n",
      "209:\tlearn: 0.3080828\ttotal: 3.25s\tremaining: 2.94s\n",
      "210:\tlearn: 0.3079244\ttotal: 3.26s\tremaining: 2.92s\n",
      "211:\tlearn: 0.3077730\ttotal: 3.28s\tremaining: 2.9s\n",
      "212:\tlearn: 0.3075149\ttotal: 3.29s\tremaining: 2.89s\n",
      "213:\tlearn: 0.3072316\ttotal: 3.31s\tremaining: 2.88s\n",
      "214:\tlearn: 0.3069803\ttotal: 3.33s\tremaining: 2.86s\n",
      "215:\tlearn: 0.3066433\ttotal: 3.34s\tremaining: 2.85s\n",
      "216:\tlearn: 0.3061890\ttotal: 3.35s\tremaining: 2.83s\n",
      "217:\tlearn: 0.3059573\ttotal: 3.37s\tremaining: 2.81s\n",
      "218:\tlearn: 0.3058122\ttotal: 3.38s\tremaining: 2.79s\n",
      "219:\tlearn: 0.3056172\ttotal: 3.39s\tremaining: 2.78s\n",
      "220:\tlearn: 0.3053397\ttotal: 3.41s\tremaining: 2.76s\n",
      "221:\tlearn: 0.3051117\ttotal: 3.42s\tremaining: 2.74s\n",
      "222:\tlearn: 0.3049785\ttotal: 3.43s\tremaining: 2.72s\n",
      "223:\tlearn: 0.3046666\ttotal: 3.44s\tremaining: 2.71s\n",
      "224:\tlearn: 0.3040107\ttotal: 3.46s\tremaining: 2.69s\n",
      "225:\tlearn: 0.3036703\ttotal: 3.47s\tremaining: 2.67s\n",
      "226:\tlearn: 0.3035419\ttotal: 3.49s\tremaining: 2.66s\n",
      "227:\tlearn: 0.3029753\ttotal: 3.51s\tremaining: 2.65s\n",
      "228:\tlearn: 0.3028715\ttotal: 3.52s\tremaining: 2.63s\n",
      "229:\tlearn: 0.3024984\ttotal: 3.54s\tremaining: 2.61s\n",
      "230:\tlearn: 0.3022901\ttotal: 3.55s\tremaining: 2.6s\n",
      "231:\tlearn: 0.3021515\ttotal: 3.57s\tremaining: 2.58s\n",
      "232:\tlearn: 0.3020474\ttotal: 3.58s\tremaining: 2.56s\n",
      "233:\tlearn: 0.3018845\ttotal: 3.59s\tremaining: 2.55s\n",
      "234:\tlearn: 0.3016757\ttotal: 3.6s\tremaining: 2.53s\n",
      "235:\tlearn: 0.3014240\ttotal: 3.62s\tremaining: 2.52s\n",
      "236:\tlearn: 0.3013041\ttotal: 3.63s\tremaining: 2.5s\n",
      "237:\tlearn: 0.3012147\ttotal: 3.64s\tremaining: 2.48s\n",
      "238:\tlearn: 0.3005998\ttotal: 3.67s\tremaining: 2.47s\n",
      "239:\tlearn: 0.3000447\ttotal: 3.68s\tremaining: 2.46s\n",
      "240:\tlearn: 0.2996180\ttotal: 3.7s\tremaining: 2.44s\n",
      "241:\tlearn: 0.2991395\ttotal: 3.71s\tremaining: 2.42s\n",
      "242:\tlearn: 0.2987420\ttotal: 3.72s\tremaining: 2.41s\n",
      "243:\tlearn: 0.2985375\ttotal: 3.74s\tremaining: 2.39s\n",
      "244:\tlearn: 0.2980004\ttotal: 3.75s\tremaining: 2.37s\n",
      "245:\tlearn: 0.2976619\ttotal: 3.76s\tremaining: 2.36s\n",
      "246:\tlearn: 0.2975195\ttotal: 3.78s\tremaining: 2.34s\n",
      "247:\tlearn: 0.2973529\ttotal: 3.79s\tremaining: 2.32s\n",
      "248:\tlearn: 0.2972467\ttotal: 3.8s\tremaining: 2.31s\n",
      "249:\tlearn: 0.2971318\ttotal: 3.82s\tremaining: 2.29s\n",
      "250:\tlearn: 0.2968072\ttotal: 3.83s\tremaining: 2.27s\n",
      "251:\tlearn: 0.2966899\ttotal: 3.85s\tremaining: 2.26s\n",
      "252:\tlearn: 0.2963898\ttotal: 3.87s\tremaining: 2.25s\n",
      "253:\tlearn: 0.2961243\ttotal: 3.88s\tremaining: 2.23s\n",
      "254:\tlearn: 0.2958512\ttotal: 3.9s\tremaining: 2.22s\n",
      "255:\tlearn: 0.2955031\ttotal: 3.91s\tremaining: 2.2s\n",
      "256:\tlearn: 0.2952777\ttotal: 3.92s\tremaining: 2.18s\n",
      "257:\tlearn: 0.2951774\ttotal: 3.94s\tremaining: 2.17s\n",
      "258:\tlearn: 0.2950224\ttotal: 3.95s\tremaining: 2.15s\n",
      "259:\tlearn: 0.2949038\ttotal: 3.96s\tremaining: 2.13s\n",
      "260:\tlearn: 0.2946352\ttotal: 3.98s\tremaining: 2.12s\n",
      "261:\tlearn: 0.2944437\ttotal: 3.99s\tremaining: 2.1s\n",
      "262:\tlearn: 0.2941940\ttotal: 4s\tremaining: 2.08s\n",
      "263:\tlearn: 0.2940968\ttotal: 4.02s\tremaining: 2.07s\n",
      "264:\tlearn: 0.2939564\ttotal: 4.04s\tremaining: 2.06s\n",
      "265:\tlearn: 0.2938025\ttotal: 4.05s\tremaining: 2.04s\n",
      "266:\tlearn: 0.2933046\ttotal: 4.07s\tremaining: 2.03s\n",
      "267:\tlearn: 0.2929415\ttotal: 4.08s\tremaining: 2.01s\n",
      "268:\tlearn: 0.2925448\ttotal: 4.1s\tremaining: 2s\n",
      "269:\tlearn: 0.2924355\ttotal: 4.11s\tremaining: 1.98s\n",
      "270:\tlearn: 0.2921778\ttotal: 4.13s\tremaining: 1.96s\n",
      "271:\tlearn: 0.2919052\ttotal: 4.14s\tremaining: 1.95s\n",
      "272:\tlearn: 0.2917594\ttotal: 4.15s\tremaining: 1.93s\n",
      "273:\tlearn: 0.2915039\ttotal: 4.17s\tremaining: 1.92s\n",
      "274:\tlearn: 0.2910516\ttotal: 4.18s\tremaining: 1.9s\n",
      "275:\tlearn: 0.2909513\ttotal: 4.19s\tremaining: 1.88s\n",
      "276:\tlearn: 0.2908446\ttotal: 4.22s\tremaining: 1.87s\n",
      "277:\tlearn: 0.2907934\ttotal: 4.23s\tremaining: 1.86s\n",
      "278:\tlearn: 0.2904700\ttotal: 4.25s\tremaining: 1.84s\n",
      "279:\tlearn: 0.2901619\ttotal: 4.26s\tremaining: 1.83s\n",
      "280:\tlearn: 0.2898682\ttotal: 4.28s\tremaining: 1.81s\n",
      "281:\tlearn: 0.2895686\ttotal: 4.29s\tremaining: 1.8s\n",
      "282:\tlearn: 0.2893527\ttotal: 4.31s\tremaining: 1.78s\n",
      "283:\tlearn: 0.2892462\ttotal: 4.32s\tremaining: 1.76s\n",
      "284:\tlearn: 0.2890497\ttotal: 4.33s\tremaining: 1.75s\n",
      "285:\tlearn: 0.2885754\ttotal: 4.35s\tremaining: 1.73s\n",
      "286:\tlearn: 0.2885078\ttotal: 4.36s\tremaining: 1.72s\n",
      "287:\tlearn: 0.2883678\ttotal: 4.37s\tremaining: 1.7s\n",
      "288:\tlearn: 0.2882888\ttotal: 4.39s\tremaining: 1.69s\n",
      "289:\tlearn: 0.2882203\ttotal: 4.41s\tremaining: 1.67s\n",
      "290:\tlearn: 0.2879784\ttotal: 4.42s\tremaining: 1.66s\n",
      "291:\tlearn: 0.2878284\ttotal: 4.44s\tremaining: 1.64s\n",
      "292:\tlearn: 0.2875308\ttotal: 4.45s\tremaining: 1.63s\n",
      "293:\tlearn: 0.2871737\ttotal: 4.47s\tremaining: 1.61s\n",
      "294:\tlearn: 0.2870773\ttotal: 4.48s\tremaining: 1.59s\n",
      "295:\tlearn: 0.2868997\ttotal: 4.49s\tremaining: 1.58s\n",
      "296:\tlearn: 0.2867584\ttotal: 4.51s\tremaining: 1.56s\n",
      "297:\tlearn: 0.2865099\ttotal: 4.52s\tremaining: 1.55s\n",
      "298:\tlearn: 0.2860974\ttotal: 4.53s\tremaining: 1.53s\n",
      "299:\tlearn: 0.2857884\ttotal: 4.55s\tremaining: 1.51s\n",
      "300:\tlearn: 0.2856572\ttotal: 4.56s\tremaining: 1.5s\n",
      "301:\tlearn: 0.2855051\ttotal: 4.59s\tremaining: 1.49s\n",
      "302:\tlearn: 0.2852007\ttotal: 4.61s\tremaining: 1.47s\n",
      "303:\tlearn: 0.2850787\ttotal: 4.62s\tremaining: 1.46s\n",
      "304:\tlearn: 0.2849476\ttotal: 4.63s\tremaining: 1.44s\n",
      "305:\tlearn: 0.2846772\ttotal: 4.64s\tremaining: 1.43s\n",
      "306:\tlearn: 0.2842510\ttotal: 4.66s\tremaining: 1.41s\n",
      "307:\tlearn: 0.2841632\ttotal: 4.67s\tremaining: 1.4s\n",
      "308:\tlearn: 0.2838360\ttotal: 4.69s\tremaining: 1.38s\n",
      "309:\tlearn: 0.2836340\ttotal: 4.7s\tremaining: 1.36s\n",
      "310:\tlearn: 0.2835629\ttotal: 4.71s\tremaining: 1.35s\n",
      "311:\tlearn: 0.2833463\ttotal: 4.73s\tremaining: 1.33s\n",
      "312:\tlearn: 0.2831922\ttotal: 4.74s\tremaining: 1.32s\n",
      "313:\tlearn: 0.2830322\ttotal: 4.76s\tremaining: 1.3s\n",
      "314:\tlearn: 0.2826060\ttotal: 4.78s\tremaining: 1.29s\n",
      "315:\tlearn: 0.2822585\ttotal: 4.8s\tremaining: 1.27s\n",
      "316:\tlearn: 0.2820267\ttotal: 4.81s\tremaining: 1.26s\n",
      "317:\tlearn: 0.2818937\ttotal: 4.82s\tremaining: 1.24s\n",
      "318:\tlearn: 0.2817350\ttotal: 4.84s\tremaining: 1.23s\n",
      "319:\tlearn: 0.2816027\ttotal: 4.85s\tremaining: 1.21s\n",
      "320:\tlearn: 0.2814761\ttotal: 4.87s\tremaining: 1.2s\n",
      "321:\tlearn: 0.2814197\ttotal: 4.88s\tremaining: 1.18s\n",
      "322:\tlearn: 0.2813407\ttotal: 4.89s\tremaining: 1.17s\n",
      "323:\tlearn: 0.2812865\ttotal: 4.91s\tremaining: 1.15s\n",
      "324:\tlearn: 0.2811909\ttotal: 4.92s\tremaining: 1.14s\n",
      "325:\tlearn: 0.2809938\ttotal: 4.93s\tremaining: 1.12s\n"
     ]
    },
    {
     "name": "stdout",
     "output_type": "stream",
     "text": [
      "326:\tlearn: 0.2809473\ttotal: 4.96s\tremaining: 1.11s\n",
      "327:\tlearn: 0.2808469\ttotal: 4.97s\tremaining: 1.09s\n",
      "328:\tlearn: 0.2807061\ttotal: 4.99s\tremaining: 1.08s\n",
      "329:\tlearn: 0.2804973\ttotal: 5s\tremaining: 1.06s\n",
      "330:\tlearn: 0.2804509\ttotal: 5.01s\tremaining: 1.04s\n",
      "331:\tlearn: 0.2802941\ttotal: 5.03s\tremaining: 1.03s\n",
      "332:\tlearn: 0.2801219\ttotal: 5.04s\tremaining: 1.01s\n",
      "333:\tlearn: 0.2799699\ttotal: 5.05s\tremaining: 999ms\n",
      "334:\tlearn: 0.2799252\ttotal: 5.07s\tremaining: 983ms\n",
      "335:\tlearn: 0.2798224\ttotal: 5.08s\tremaining: 968ms\n",
      "336:\tlearn: 0.2796796\ttotal: 5.09s\tremaining: 952ms\n",
      "337:\tlearn: 0.2795464\ttotal: 5.11s\tremaining: 937ms\n",
      "338:\tlearn: 0.2792939\ttotal: 5.13s\tremaining: 923ms\n",
      "339:\tlearn: 0.2790853\ttotal: 5.15s\tremaining: 908ms\n",
      "340:\tlearn: 0.2788299\ttotal: 5.16s\tremaining: 893ms\n",
      "341:\tlearn: 0.2784367\ttotal: 5.17s\tremaining: 878ms\n",
      "342:\tlearn: 0.2783632\ttotal: 5.19s\tremaining: 862ms\n",
      "343:\tlearn: 0.2783084\ttotal: 5.2s\tremaining: 847ms\n",
      "344:\tlearn: 0.2779831\ttotal: 5.22s\tremaining: 832ms\n",
      "345:\tlearn: 0.2778895\ttotal: 5.23s\tremaining: 816ms\n",
      "346:\tlearn: 0.2777423\ttotal: 5.24s\tremaining: 801ms\n",
      "347:\tlearn: 0.2775973\ttotal: 5.26s\tremaining: 786ms\n",
      "348:\tlearn: 0.2772439\ttotal: 5.27s\tremaining: 770ms\n",
      "349:\tlearn: 0.2770992\ttotal: 5.29s\tremaining: 755ms\n",
      "350:\tlearn: 0.2768426\ttotal: 5.31s\tremaining: 741ms\n",
      "351:\tlearn: 0.2767838\ttotal: 5.32s\tremaining: 726ms\n",
      "352:\tlearn: 0.2764043\ttotal: 5.33s\tremaining: 710ms\n",
      "353:\tlearn: 0.2763002\ttotal: 5.35s\tremaining: 695ms\n",
      "354:\tlearn: 0.2761913\ttotal: 5.36s\tremaining: 680ms\n",
      "355:\tlearn: 0.2760326\ttotal: 5.38s\tremaining: 665ms\n",
      "356:\tlearn: 0.2759350\ttotal: 5.39s\tremaining: 649ms\n",
      "357:\tlearn: 0.2755861\ttotal: 5.4s\tremaining: 634ms\n",
      "358:\tlearn: 0.2754279\ttotal: 5.42s\tremaining: 619ms\n",
      "359:\tlearn: 0.2750351\ttotal: 5.43s\tremaining: 604ms\n",
      "360:\tlearn: 0.2749501\ttotal: 5.45s\tremaining: 588ms\n",
      "361:\tlearn: 0.2746442\ttotal: 5.46s\tremaining: 573ms\n",
      "362:\tlearn: 0.2743976\ttotal: 5.47s\tremaining: 558ms\n",
      "363:\tlearn: 0.2743075\ttotal: 5.5s\tremaining: 543ms\n",
      "364:\tlearn: 0.2739636\ttotal: 5.51s\tremaining: 529ms\n",
      "365:\tlearn: 0.2738460\ttotal: 5.52s\tremaining: 513ms\n",
      "366:\tlearn: 0.2737626\ttotal: 5.54s\tremaining: 498ms\n",
      "367:\tlearn: 0.2736570\ttotal: 5.55s\tremaining: 483ms\n",
      "368:\tlearn: 0.2735675\ttotal: 5.57s\tremaining: 468ms\n",
      "369:\tlearn: 0.2734482\ttotal: 5.58s\tremaining: 452ms\n",
      "370:\tlearn: 0.2733555\ttotal: 5.59s\tremaining: 437ms\n",
      "371:\tlearn: 0.2730575\ttotal: 5.61s\tremaining: 422ms\n",
      "372:\tlearn: 0.2727773\ttotal: 5.62s\tremaining: 407ms\n",
      "373:\tlearn: 0.2726833\ttotal: 5.63s\tremaining: 392ms\n",
      "374:\tlearn: 0.2726464\ttotal: 5.65s\tremaining: 376ms\n",
      "375:\tlearn: 0.2723795\ttotal: 5.67s\tremaining: 362ms\n",
      "376:\tlearn: 0.2721400\ttotal: 5.68s\tremaining: 347ms\n",
      "377:\tlearn: 0.2719676\ttotal: 5.7s\tremaining: 332ms\n",
      "378:\tlearn: 0.2718818\ttotal: 5.71s\tremaining: 317ms\n",
      "379:\tlearn: 0.2716228\ttotal: 5.73s\tremaining: 301ms\n",
      "380:\tlearn: 0.2715012\ttotal: 5.74s\tremaining: 286ms\n",
      "381:\tlearn: 0.2714446\ttotal: 5.75s\tremaining: 271ms\n",
      "382:\tlearn: 0.2711520\ttotal: 5.77s\tremaining: 256ms\n",
      "383:\tlearn: 0.2710678\ttotal: 5.78s\tremaining: 241ms\n",
      "384:\tlearn: 0.2709698\ttotal: 5.79s\tremaining: 226ms\n",
      "385:\tlearn: 0.2708491\ttotal: 5.81s\tremaining: 211ms\n",
      "386:\tlearn: 0.2707363\ttotal: 5.82s\tremaining: 196ms\n",
      "387:\tlearn: 0.2705066\ttotal: 5.83s\tremaining: 180ms\n",
      "388:\tlearn: 0.2704132\ttotal: 5.86s\tremaining: 166ms\n",
      "389:\tlearn: 0.2702743\ttotal: 5.87s\tremaining: 151ms\n",
      "390:\tlearn: 0.2700570\ttotal: 5.88s\tremaining: 135ms\n",
      "391:\tlearn: 0.2699685\ttotal: 5.9s\tremaining: 120ms\n",
      "392:\tlearn: 0.2699158\ttotal: 5.91s\tremaining: 105ms\n",
      "393:\tlearn: 0.2697580\ttotal: 5.93s\tremaining: 90.3ms\n",
      "394:\tlearn: 0.2696047\ttotal: 5.94s\tremaining: 75.2ms\n",
      "395:\tlearn: 0.2693055\ttotal: 5.95s\tremaining: 60.1ms\n",
      "396:\tlearn: 0.2692306\ttotal: 5.97s\tremaining: 45.1ms\n",
      "397:\tlearn: 0.2691847\ttotal: 5.98s\tremaining: 30.1ms\n",
      "398:\tlearn: 0.2691425\ttotal: 5.99s\tremaining: 15ms\n",
      "399:\tlearn: 0.2690655\ttotal: 6s\tremaining: 0us\n"
     ]
    },
    {
     "data": {
      "text/plain": [
       "<catboost.core.CatBoostClassifier at 0x58a52f88d0>"
      ]
     },
     "execution_count": 50,
     "metadata": {},
     "output_type": "execute_result"
    }
   ],
   "source": [
    "cbp.fit(X_trainp,y_trainp)"
   ]
  },
  {
   "cell_type": "code",
   "execution_count": 51,
   "metadata": {},
   "outputs": [],
   "source": [
    "predp=xgbp.predict(X_testp)"
   ]
  },
  {
   "cell_type": "code",
   "execution_count": 52,
   "metadata": {},
   "outputs": [],
   "source": [
    "cpredp=cbp.predict(X_testp)"
   ]
  },
  {
   "cell_type": "code",
   "execution_count": 53,
   "metadata": {},
   "outputs": [
    {
     "name": "stdout",
     "output_type": "stream",
     "text": [
      "0.8891484391590572\n",
      "0.8970057337014228\n",
      "0.8965810150775112\n"
     ]
    }
   ],
   "source": [
    "print(accuracy_score(predp,y_testp))\n",
    "print(accuracy_score(j,y_testp))\n",
    "print(accuracy_score(cpredp,y_testp))"
   ]
  },
  {
   "cell_type": "code",
   "execution_count": 54,
   "metadata": {},
   "outputs": [],
   "source": [
    "finalpredp=lgbmp.predict(test)"
   ]
  },
  {
   "cell_type": "code",
   "execution_count": 55,
   "metadata": {},
   "outputs": [],
   "source": [
    "submission = pd.DataFrame({'pet_id':i_d, 'breed_category':lpred,'pet_category':finalpredp})"
   ]
  },
  {
   "cell_type": "code",
   "execution_count": 56,
   "metadata": {},
   "outputs": [],
   "source": [
    "submission.to_csv(r'C:\\Users\\My PC\\Desktop\\Machine Learning\\Hackerearth\\pet\\sub80.csv',index=False)"
   ]
  },
  {
   "cell_type": "code",
   "execution_count": null,
   "metadata": {},
   "outputs": [],
   "source": []
  },
  {
   "cell_type": "code",
   "execution_count": null,
   "metadata": {},
   "outputs": [],
   "source": []
  },
  {
   "cell_type": "markdown",
   "metadata": {},
   "source": [
    "Sampling\n"
   ]
  },
  {
   "cell_type": "code",
   "execution_count": null,
   "metadata": {},
   "outputs": [],
   "source": [
    "# class0= train[train.breed_category==0]\n",
    "# class1 = train[train.breed_category==1]\n",
    "# class2 = train[train.breed_category==2]"
   ]
  },
  {
   "cell_type": "code",
   "execution_count": null,
   "metadata": {},
   "outputs": [],
   "source": [
    "# from sklearn.utils import resample\n",
    "# class2= resample(class2,\n",
    "#                           replace=True, # sample with replacement\n",
    "#                           n_samples=len(class0), # match number in majority class\n",
    "#                           random_state=27)"
   ]
  },
  {
   "cell_type": "code",
   "execution_count": null,
   "metadata": {},
   "outputs": [],
   "source": [
    "# upsampled = pd.concat([class0,class1,class2])\n",
    "# upsampled=upsampled.drop('condition',axis=1)\n",
    "# X=upsampled.drop('breed_category',axis=1)\n",
    "# # Y=upsampled.breed_category"
   ]
  },
  {
   "cell_type": "code",
   "execution_count": null,
   "metadata": {},
   "outputs": [],
   "source": [
    "# train['train_flag'] = 1\n",
    "# test['train_flag'] = 0\n",
    "# test['pet_category'] = 0\n",
    "# test['breed_category'] = 0\n",
    "# print(train.shape,test.shape)\n",
    "# # \n",
    "# df_data1 = pd.concat((train, test))\n",
    "# df_data2 = pd.concat((train, test))\n",
    "# print(df_data1.shape)\n",
    "# print(df_data2.shape)"
   ]
  },
  {
   "cell_type": "code",
   "execution_count": 19,
   "metadata": {},
   "outputs": [],
   "source": [
    "# df_data1 = df_data1.drop('pet_category',axis=1)\n",
    "# df_data2 = df_data2.drop('breed_category',axis=1)"
   ]
  },
  {
   "cell_type": "code",
   "execution_count": 20,
   "metadata": {},
   "outputs": [],
   "source": [
    "# df_data1['issue_year']=pd.DatetimeIndex(df_data1['issue_date']).year\n",
    "# df_data1['listing_year']=pd.DatetimeIndex(df_data1['listing_date']).year\n",
    "# df_data1['issue_month']=pd.DatetimeIndex(df_data1['issue_date']).month\n",
    "# df_data1['listing_month']=pd.DatetimeIndex(df_data1['listing_date']).year"
   ]
  },
  {
   "cell_type": "code",
   "execution_count": 21,
   "metadata": {},
   "outputs": [],
   "source": [
    "# df_data2['issue_year']=pd.DatetimeIndex(df_data2['issue_date']).year\n",
    "# df_data2['listing_year']=pd.DatetimeIndex(df_data2['listing_date']).year\n",
    "# df_data2['issue_month']=pd.DatetimeIndex(df_data2['issue_date']).month\n",
    "# df_data2['listing_month']=pd.DatetimeIndex(df_data2['listing_date']).year"
   ]
  },
  {
   "cell_type": "code",
   "execution_count": 22,
   "metadata": {},
   "outputs": [],
   "source": [
    "# df_data1=df_data1.drop(['issue_date','listing_date'],axis=1)\n",
    "# # df_data2=df_data2.drop(['issue_date','listing_date'],axis=1)"
   ]
  },
  {
   "cell_type": "code",
   "execution_count": 23,
   "metadata": {},
   "outputs": [],
   "source": [
    "# df_data1=pd.get_dummies(df_data1, columns=[\"color_type\"])\n",
    "# df_data2=pd.get_dummies(df_data2, columns=[\"color_type\"])"
   ]
  },
  {
   "cell_type": "code",
   "execution_count": 24,
   "metadata": {},
   "outputs": [],
   "source": [
    "# df_data2.shape"
   ]
  },
  {
   "cell_type": "code",
   "execution_count": 25,
   "metadata": {},
   "outputs": [],
   "source": [
    "# # feature_cols = train.columns.tolist()\n",
    "# # feature_cols.remove('pet_id')\n",
    "# # feature_cols.remove('pet_category')\n",
    "# # feature_cols.remove('train_flag')\n",
    "# # feature_cols.remove('breed_category')\n",
    "# label_col1 = 'breed_category'\n",
    "# label_col2 = 'pet_category'\n",
    "# # print(feature_cols1)"
   ]
  },
  {
   "cell_type": "code",
   "execution_count": 26,
   "metadata": {},
   "outputs": [],
   "source": [
    "# df_data1['ID_value'] = df_data1['pet_id'].apply(lambda x: x.strip('ANSL_')).astype('int')\n",
    "# df_data2['ID_value'] = df_data2['pet_id'].apply(lambda x: x.strip('ANSL_')).astype('int')"
   ]
  },
  {
   "cell_type": "code",
   "execution_count": 27,
   "metadata": {},
   "outputs": [],
   "source": [
    "# df_data1 = df_data1.sort_values(['ID_value'])\n",
    "# df_data2 = df_data2.sort_values(['ID_value'])\n"
   ]
  },
  {
   "cell_type": "code",
   "execution_count": 28,
   "metadata": {},
   "outputs": [],
   "source": [
    "# df_data1 = df_data1.reset_index(drop=True)\n",
    "# df_data2 = df_data2.reset_index(drop=True)"
   ]
  },
  {
   "cell_type": "code",
   "execution_count": 29,
   "metadata": {},
   "outputs": [],
   "source": [
    "# df_data.isnull().sum()"
   ]
  },
  {
   "cell_type": "code",
   "execution_count": 30,
   "metadata": {},
   "outputs": [],
   "source": [
    "# df_train1, df_test1 = df_data1[df_data1.train_flag == 1], df_data1[df_data1.train_flag == 0]\n",
    "# df_train2, df_test2 = df_data2[df_data2.train_flag == 1], df_data2[df_data2.train_flag == 0]"
   ]
  },
  {
   "cell_type": "code",
   "execution_count": 31,
   "metadata": {},
   "outputs": [],
   "source": [
    "# print(df_train1.shape, df_test1.shape)"
   ]
  },
  {
   "cell_type": "code",
   "execution_count": 32,
   "metadata": {},
   "outputs": [],
   "source": [
    "# missing_impute = -999\n",
    "# df_train1['condition'] = df_train1['condition'].apply(lambda x: missing_impute if pd.isna(x) else x)\n",
    "# df_test1['condition'] = df_test1['condition'].apply(lambda x: missing_impute if pd.isna(x) else x)\n",
    "# df_train2['condition'] = df_train2['condition'].apply(lambda x: missing_impute if pd.isna(x) else x)\n",
    "# df_test2['condition'] = df_test2['condition'].apply(lambda x: missing_impute if pd.isna(x) else x)"
   ]
  }
 ],
 "metadata": {
  "kernelspec": {
   "display_name": "Python 3",
   "language": "python",
   "name": "python3"
  },
  "language_info": {
   "codemirror_mode": {
    "name": "ipython",
    "version": 3
   },
   "file_extension": ".py",
   "mimetype": "text/x-python",
   "name": "python",
   "nbconvert_exporter": "python",
   "pygments_lexer": "ipython3",
   "version": "3.7.3"
  }
 },
 "nbformat": 4,
 "nbformat_minor": 2
}
