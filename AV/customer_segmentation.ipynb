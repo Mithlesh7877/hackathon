{
 "cells": [
  {
   "cell_type": "code",
   "execution_count": 11,
   "metadata": {},
   "outputs": [],
   "source": [
    "import pandas as pd\n",
    "import numpy as np\n",
    "import matplotlib.pyplot as plt \n",
    "import seaborn as sns \n",
    "import time \n",
    "# from __future__ import print_function, division\n",
    "import numpy as np\n",
    "import pandas as pd\n",
    "from sklearn.preprocessing import LabelEncoder, StandardScaler\n",
    "from sklearn.metrics import accuracy_score\n",
    "from sklearn.model_selection import KFold\n",
    "\n",
    "import lightgbm as lgb\n",
    "from IPython.core.interactiveshell import InteractiveShell\n",
    "InteractiveShell.ast_node_interactivity = \"all\""
   ]
  },
  {
   "cell_type": "code",
   "execution_count": 12,
   "metadata": {},
   "outputs": [
    {
     "name": "stdout",
     "output_type": "stream",
     "text": [
      "0.02101302146911621 sec\n"
     ]
    }
   ],
   "source": [
    "start=time.time()\n",
    "train_t=pd.read_csv(r'C:\\Users\\My PC\\Desktop\\Machine Learning\\Hackerearth\\analytics_vidhya\\Customer segmentation\\train.csv',chunksize=1000)\n",
    "test_t=pd.read_csv(r'C:\\Users\\My PC\\Desktop\\Machine Learning\\Hackerearth\\analytics_vidhya\\Customer segmentation\\test.csv',chunksize=1000)\n",
    "sample_t=pd.read_csv(r'C:\\Users\\My PC\\Desktop\\Machine Learning\\Hackerearth\\analytics_vidhya\\Customer segmentation\\sample.csv',chunksize=1000)\n",
    "end=time.time()\n",
    "train=pd.concat(train_t)\n",
    "test=pd.concat(test_t)\n",
    "sample=pd.concat(sample_t)\n",
    "print(end-start,'sec')"
   ]
  },
  {
   "cell_type": "code",
   "execution_count": 13,
   "metadata": {},
   "outputs": [
    {
     "data": {
      "text/html": [
       "<div>\n",
       "<style scoped>\n",
       "    .dataframe tbody tr th:only-of-type {\n",
       "        vertical-align: middle;\n",
       "    }\n",
       "\n",
       "    .dataframe tbody tr th {\n",
       "        vertical-align: top;\n",
       "    }\n",
       "\n",
       "    .dataframe thead th {\n",
       "        text-align: right;\n",
       "    }\n",
       "</style>\n",
       "<table border=\"1\" class=\"dataframe\">\n",
       "  <thead>\n",
       "    <tr style=\"text-align: right;\">\n",
       "      <th></th>\n",
       "      <th>ID</th>\n",
       "      <th>Gender</th>\n",
       "      <th>Ever_Married</th>\n",
       "      <th>Age</th>\n",
       "      <th>Graduated</th>\n",
       "      <th>Profession</th>\n",
       "      <th>Work_Experience</th>\n",
       "      <th>Spending_Score</th>\n",
       "      <th>Family_Size</th>\n",
       "      <th>Var_1</th>\n",
       "      <th>Segmentation</th>\n",
       "    </tr>\n",
       "  </thead>\n",
       "  <tbody>\n",
       "    <tr>\n",
       "      <th>0</th>\n",
       "      <td>462809</td>\n",
       "      <td>Male</td>\n",
       "      <td>No</td>\n",
       "      <td>22</td>\n",
       "      <td>No</td>\n",
       "      <td>Healthcare</td>\n",
       "      <td>1.0</td>\n",
       "      <td>Low</td>\n",
       "      <td>4.0</td>\n",
       "      <td>Cat_4</td>\n",
       "      <td>D</td>\n",
       "    </tr>\n",
       "    <tr>\n",
       "      <th>1</th>\n",
       "      <td>462643</td>\n",
       "      <td>Female</td>\n",
       "      <td>Yes</td>\n",
       "      <td>38</td>\n",
       "      <td>Yes</td>\n",
       "      <td>Engineer</td>\n",
       "      <td>NaN</td>\n",
       "      <td>Average</td>\n",
       "      <td>3.0</td>\n",
       "      <td>Cat_4</td>\n",
       "      <td>A</td>\n",
       "    </tr>\n",
       "    <tr>\n",
       "      <th>2</th>\n",
       "      <td>466315</td>\n",
       "      <td>Female</td>\n",
       "      <td>Yes</td>\n",
       "      <td>67</td>\n",
       "      <td>Yes</td>\n",
       "      <td>Engineer</td>\n",
       "      <td>1.0</td>\n",
       "      <td>Low</td>\n",
       "      <td>1.0</td>\n",
       "      <td>Cat_6</td>\n",
       "      <td>B</td>\n",
       "    </tr>\n",
       "    <tr>\n",
       "      <th>3</th>\n",
       "      <td>461735</td>\n",
       "      <td>Male</td>\n",
       "      <td>Yes</td>\n",
       "      <td>67</td>\n",
       "      <td>Yes</td>\n",
       "      <td>Lawyer</td>\n",
       "      <td>0.0</td>\n",
       "      <td>High</td>\n",
       "      <td>2.0</td>\n",
       "      <td>Cat_6</td>\n",
       "      <td>B</td>\n",
       "    </tr>\n",
       "    <tr>\n",
       "      <th>4</th>\n",
       "      <td>462669</td>\n",
       "      <td>Female</td>\n",
       "      <td>Yes</td>\n",
       "      <td>40</td>\n",
       "      <td>Yes</td>\n",
       "      <td>Entertainment</td>\n",
       "      <td>NaN</td>\n",
       "      <td>High</td>\n",
       "      <td>6.0</td>\n",
       "      <td>Cat_6</td>\n",
       "      <td>A</td>\n",
       "    </tr>\n",
       "  </tbody>\n",
       "</table>\n",
       "</div>"
      ],
      "text/plain": [
       "       ID  Gender Ever_Married  Age Graduated     Profession  Work_Experience  \\\n",
       "0  462809    Male           No   22        No     Healthcare              1.0   \n",
       "1  462643  Female          Yes   38       Yes       Engineer              NaN   \n",
       "2  466315  Female          Yes   67       Yes       Engineer              1.0   \n",
       "3  461735    Male          Yes   67       Yes         Lawyer              0.0   \n",
       "4  462669  Female          Yes   40       Yes  Entertainment              NaN   \n",
       "\n",
       "  Spending_Score  Family_Size  Var_1 Segmentation  \n",
       "0            Low          4.0  Cat_4            D  \n",
       "1        Average          3.0  Cat_4            A  \n",
       "2            Low          1.0  Cat_6            B  \n",
       "3           High          2.0  Cat_6            B  \n",
       "4           High          6.0  Cat_6            A  "
      ]
     },
     "execution_count": 13,
     "metadata": {},
     "output_type": "execute_result"
    }
   ],
   "source": [
    "train.head()"
   ]
  },
  {
   "cell_type": "code",
   "execution_count": 14,
   "metadata": {},
   "outputs": [],
   "source": [
    "\n",
    "train = train.fillna('')\n",
    "#df = train.copy(deep=True)\n",
    "df =train\n",
    "test = test.fillna('')\n",
    "\n",
    "le = LabelEncoder()\n",
    "categorical = np.array(['Gender', 'Ever_Married', 'Graduated', 'Profession', 'Var_1', 'Spending_Score', 'Segmentation'])\n",
    "\n",
    "for i in range(len(categorical)):\n",
    "    train[categorical[i]] = le.fit_transform(train[categorical[i]])\n",
    "    if i < len(categorical)-1:\n",
    "        test[categorical[i]] = le.fit_transform(test[categorical[i]])\n",
    "\n"
   ]
  },
  {
   "cell_type": "code",
   "execution_count": 15,
   "metadata": {},
   "outputs": [
    {
     "data": {
      "text/plain": [
       "StandardScaler()"
      ]
     },
     "execution_count": 15,
     "metadata": {},
     "output_type": "execute_result"
    },
    {
     "name": "stderr",
     "output_type": "stream",
     "text": [
      "D:\\Anaconda\\lib\\site-packages\\sklearn\\model_selection\\_split.py:297: FutureWarning: Setting a random_state has no effect since shuffle is False. This will raise an error in 0.24. You should leave random_state to its default (None), or set shuffle=True.\n",
      "  FutureWarning\n"
     ]
    },
    {
     "data": {
      "text/plain": [
       "LGBMClassifier(max_depth=7, max_iter=1000, min_data_in_leaf=307, num_leaves=80)"
      ]
     },
     "execution_count": 15,
     "metadata": {},
     "output_type": "execute_result"
    },
    {
     "data": {
      "text/plain": [
       "LGBMClassifier(max_depth=7, max_iter=1000, min_data_in_leaf=307, num_leaves=80)"
      ]
     },
     "execution_count": 15,
     "metadata": {},
     "output_type": "execute_result"
    },
    {
     "data": {
      "text/plain": [
       "LGBMClassifier(max_depth=7, max_iter=1000, min_data_in_leaf=307, num_leaves=80)"
      ]
     },
     "execution_count": 15,
     "metadata": {},
     "output_type": "execute_result"
    },
    {
     "data": {
      "text/plain": [
       "LGBMClassifier(max_depth=7, max_iter=1000, min_data_in_leaf=307, num_leaves=80)"
      ]
     },
     "execution_count": 15,
     "metadata": {},
     "output_type": "execute_result"
    },
    {
     "data": {
      "text/plain": [
       "LGBMClassifier(max_depth=7, max_iter=1000, min_data_in_leaf=307, num_leaves=80)"
      ]
     },
     "execution_count": 15,
     "metadata": {},
     "output_type": "execute_result"
    }
   ],
   "source": [
    "train = train.replace('', np.nan)\n",
    "test = test.replace('', np.nan)\n",
    "\n",
    "df_test = test.copy(deep=True)\n",
    "\n",
    "labels = train['Segmentation'].values\n",
    "train = train.drop(['Segmentation'], axis = 1)\n",
    "train = train.drop(['ID'], axis = 1)\n",
    "test = test.drop(['ID'], axis = 1)\n",
    "\n",
    "temp, age_temp = list(df['Age'].values), list()\n",
    "for age in range(len(temp)):\n",
    "    i = temp[age]\n",
    "    if i <=33:\n",
    "        age_temp.append(0)\n",
    "    elif i <=67:\n",
    "        age_temp.append(1)\n",
    "    elif i <=89:\n",
    "        age_temp.append(2)\n",
    "\n",
    "train['Age_Prof'] = age_temp\n",
    "\n",
    "temp, age_temp = list(df_test['Age'].values), list()\n",
    "for age in range(len(temp)):\n",
    "    i = temp[age]\n",
    "    if i <=33:\n",
    "        age_temp.append(0)\n",
    "    elif i <=67:\n",
    "        age_temp.append(1)\n",
    "    elif i <=89:\n",
    "        age_temp.append(2)\n",
    "\n",
    "test['Age_Prof'] = age_temp\n",
    "\n",
    "train = train.values\n",
    "test = test.values\n",
    "\n",
    "scaler = StandardScaler()\n",
    "X_train = train\n",
    "y_train = labels\n",
    "scaler.fit(X_train)\n",
    "\n",
    "X_train = scaler.transform(X_train)\n",
    "models_rf, models_lgb = list(), list()\n",
    "kf = KFold(n_splits=5, random_state=28, shuffle=False)\n",
    "for train_index, test_index in kf.split(X_train):\n",
    "    X_traink, X_testk = X_train[train_index], X_train[test_index]\n",
    "    y_traink, y_testk = y_train[train_index], y_train[test_index]\n",
    "    clf2 = lgb.LGBMClassifier(boosting_type='gbdt', num_leaves=80, min_data_in_leaf=307, max_iter=1000, max_depth=7, learning_rate=0.1)\n",
    "    clf2.fit(X_traink, y_traink)\n",
    "    models_lgb.append(clf2)\n",
    "    scores = clf2.predict(X_testk)\n",
    "    #print(accuracy_score(scores, y_testk))\n",
    "\n",
    "best_model_lgb = models_lgb[1]\n",
    "\n",
    "test = scaler.transform(test)\n",
    "preds2 = best_model_lgb.predict(test)\n",
    "\n",
    "final_preds2, temp_train, temp_test = list(), list(df[\"ID\"].values), list(df_test[\"ID\"].values)\n",
    "for i in range(len(temp_test)):\n",
    "    id_ = temp_test[i]\n",
    "    if (id_ in temp_train):\n",
    "        temp = df[df['ID'] == id_]\n",
    "        final_preds2.append(temp['Segmentation'].values[0])\n",
    "    else:\n",
    "        final_preds2.append(preds2[i])\n",
    "\n",
    "new_preds2 = []\n",
    "\n",
    "for i in range(len(preds2)):\n",
    "    if final_preds2[i] == 0:\n",
    "        new_preds2.append('A')\n",
    "    elif final_preds2[i] == 1:\n",
    "        new_preds2.append('B')\n",
    "    elif final_preds2[i] == 2:\n",
    "        new_preds2.append('C')\n",
    "    elif final_preds2[i] == 3:\n",
    "        new_preds2.append('D')\n",
    "        \n",
    "\n",
    "df_submit = pd.DataFrame({'ID': df_test['ID'].values, 'Segmentation':new_preds2})\n",
    "df_submit.to_csv('Customer_seg_submit2.csv', index = False)"
   ]
  },
  {
   "cell_type": "code",
   "execution_count": null,
   "metadata": {},
   "outputs": [],
   "source": []
  }
 ],
 "metadata": {
  "kernelspec": {
   "display_name": "Python 3",
   "language": "python",
   "name": "python3"
  },
  "language_info": {
   "codemirror_mode": {
    "name": "ipython",
    "version": 3
   },
   "file_extension": ".py",
   "mimetype": "text/x-python",
   "name": "python",
   "nbconvert_exporter": "python",
   "pygments_lexer": "ipython3",
   "version": "3.7.3"
  }
 },
 "nbformat": 4,
 "nbformat_minor": 2
}
