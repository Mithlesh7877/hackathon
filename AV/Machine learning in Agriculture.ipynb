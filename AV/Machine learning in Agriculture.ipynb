{
 "cells": [
  {
   "cell_type": "code",
   "execution_count": 54,
   "metadata": {},
   "outputs": [],
   "source": [
    "import pandas as pd\n",
    "import numpy as np\n",
    "import matplotlib.pyplot as plt\n",
    "from imblearn.over_sampling import SMOTE\n",
    "from collections import Counter\n",
    "import seaborn as sns\n",
    "from sklearn.model_selection import cross_val_score\n",
    "\n",
    "from catboost import CatBoostClassifier\n",
    "from xgboost import XGBClassifier\n",
    "from lightgbm import LGBMClassifier"
   ]
  },
  {
   "cell_type": "code",
   "execution_count": 27,
   "metadata": {},
   "outputs": [],
   "source": [
    "train=pd.read_csv(r'C:\\Users\\My PC\\Desktop\\Machine Learning\\Hackerearth\\janta\\train.csv')\n",
    "test=pd.read_csv(r'C:\\Users\\My PC\\Desktop\\Machine Learning\\Hackerearth\\janta\\test.csv')\n",
    "sub=pd.read_csv(r'C:\\Users\\My PC\\Desktop\\Machine Learning\\Hackerearth\\janta\\sample_submission.csv')"
   ]
  },
  {
   "cell_type": "code",
   "execution_count": 29,
   "metadata": {},
   "outputs": [
    {
     "data": {
      "text/html": [
       "<div>\n",
       "<style scoped>\n",
       "    .dataframe tbody tr th:only-of-type {\n",
       "        vertical-align: middle;\n",
       "    }\n",
       "\n",
       "    .dataframe tbody tr th {\n",
       "        vertical-align: top;\n",
       "    }\n",
       "\n",
       "    .dataframe thead th {\n",
       "        text-align: right;\n",
       "    }\n",
       "</style>\n",
       "<table border=\"1\" class=\"dataframe\">\n",
       "  <thead>\n",
       "    <tr style=\"text-align: right;\">\n",
       "      <th></th>\n",
       "      <th>ID</th>\n",
       "      <th>Estimated_Insects_Count</th>\n",
       "      <th>Crop_Type</th>\n",
       "      <th>Soil_Type</th>\n",
       "      <th>Pesticide_Use_Category</th>\n",
       "      <th>Number_Doses_Week</th>\n",
       "      <th>Number_Weeks_Used</th>\n",
       "      <th>Number_Weeks_Quit</th>\n",
       "      <th>Season</th>\n",
       "      <th>Crop_Damage</th>\n",
       "    </tr>\n",
       "  </thead>\n",
       "  <tbody>\n",
       "    <tr>\n",
       "      <th>0</th>\n",
       "      <td>F00000001</td>\n",
       "      <td>188</td>\n",
       "      <td>1</td>\n",
       "      <td>0</td>\n",
       "      <td>1</td>\n",
       "      <td>0</td>\n",
       "      <td>0.0</td>\n",
       "      <td>0</td>\n",
       "      <td>1</td>\n",
       "      <td>0</td>\n",
       "    </tr>\n",
       "    <tr>\n",
       "      <th>1</th>\n",
       "      <td>F00000003</td>\n",
       "      <td>209</td>\n",
       "      <td>1</td>\n",
       "      <td>0</td>\n",
       "      <td>1</td>\n",
       "      <td>0</td>\n",
       "      <td>0.0</td>\n",
       "      <td>0</td>\n",
       "      <td>2</td>\n",
       "      <td>1</td>\n",
       "    </tr>\n",
       "    <tr>\n",
       "      <th>2</th>\n",
       "      <td>F00000004</td>\n",
       "      <td>257</td>\n",
       "      <td>1</td>\n",
       "      <td>0</td>\n",
       "      <td>1</td>\n",
       "      <td>0</td>\n",
       "      <td>0.0</td>\n",
       "      <td>0</td>\n",
       "      <td>2</td>\n",
       "      <td>1</td>\n",
       "    </tr>\n",
       "    <tr>\n",
       "      <th>3</th>\n",
       "      <td>F00000005</td>\n",
       "      <td>257</td>\n",
       "      <td>1</td>\n",
       "      <td>1</td>\n",
       "      <td>1</td>\n",
       "      <td>0</td>\n",
       "      <td>0.0</td>\n",
       "      <td>0</td>\n",
       "      <td>2</td>\n",
       "      <td>1</td>\n",
       "    </tr>\n",
       "    <tr>\n",
       "      <th>4</th>\n",
       "      <td>F00000006</td>\n",
       "      <td>342</td>\n",
       "      <td>1</td>\n",
       "      <td>0</td>\n",
       "      <td>1</td>\n",
       "      <td>0</td>\n",
       "      <td>0.0</td>\n",
       "      <td>0</td>\n",
       "      <td>2</td>\n",
       "      <td>1</td>\n",
       "    </tr>\n",
       "  </tbody>\n",
       "</table>\n",
       "</div>"
      ],
      "text/plain": [
       "          ID  Estimated_Insects_Count  Crop_Type  Soil_Type  \\\n",
       "0  F00000001                      188          1          0   \n",
       "1  F00000003                      209          1          0   \n",
       "2  F00000004                      257          1          0   \n",
       "3  F00000005                      257          1          1   \n",
       "4  F00000006                      342          1          0   \n",
       "\n",
       "   Pesticide_Use_Category  Number_Doses_Week  Number_Weeks_Used  \\\n",
       "0                       1                  0                0.0   \n",
       "1                       1                  0                0.0   \n",
       "2                       1                  0                0.0   \n",
       "3                       1                  0                0.0   \n",
       "4                       1                  0                0.0   \n",
       "\n",
       "   Number_Weeks_Quit  Season  Crop_Damage  \n",
       "0                  0       1            0  \n",
       "1                  0       2            1  \n",
       "2                  0       2            1  \n",
       "3                  0       2            1  \n",
       "4                  0       2            1  "
      ]
     },
     "execution_count": 29,
     "metadata": {},
     "output_type": "execute_result"
    }
   ],
   "source": [
    "train.head()"
   ]
  },
  {
   "cell_type": "code",
   "execution_count": 30,
   "metadata": {},
   "outputs": [],
   "source": [
    "y = train.pop('Crop_Damage')\n",
    "X = train\n",
    "test_id = test.pop('ID')"
   ]
  },
  {
   "cell_type": "code",
   "execution_count": 31,
   "metadata": {},
   "outputs": [],
   "source": [
    "X=X.drop('ID',axis=1)"
   ]
  },
  {
   "cell_type": "code",
   "execution_count": 32,
   "metadata": {},
   "outputs": [],
   "source": [
    "import random\n",
    "nans = X['Number_Weeks_Used'].isna()\n",
    "length = sum(nans)\n",
    "length\n",
    "replacement = random.choices([10,15,20,22,25,30,35,40,45,50], weights=[.1,.1,.1,.1,.1,.1,.1,.1,.1,.1], k=length)\n",
    "X.loc[nans,'Number_Weeks_Used'] = replacement"
   ]
  },
  {
   "cell_type": "code",
   "execution_count": 33,
   "metadata": {},
   "outputs": [],
   "source": [
    "nant = test['Number_Weeks_Used'].isna()\n",
    "length1 = sum(nant)\n",
    "length1\n",
    "replacement1 = random.choices([10,15,20,22,25,30,35,40,45,50], weights=[.1,.1,.1,.1,.1,.1,.1,.1,.1,.1], k=length1)\n",
    "test.loc[nant,'Number_Weeks_Used'] = replacement1"
   ]
  },
  {
   "cell_type": "code",
   "execution_count": 57,
   "metadata": {},
   "outputs": [],
   "source": [
    "# cat_features=[2,3,4,6]\n",
    "# final_model = CatBoostClassifier(\n",
    "#         iterations=1500,logging_level=\"Silent\", random_seed=0,\n",
    "#         eval_metric=\"AUC\")\n",
    "# final_model.fit(X,y, cat_features=cat_features )"
   ]
  },
  {
   "cell_type": "code",
   "execution_count": 58,
   "metadata": {},
   "outputs": [],
   "source": [
    "# sum(cross_val_score(final_model, X, y, cv=5))/5"
   ]
  },
  {
   "cell_type": "code",
   "execution_count": 34,
   "metadata": {},
   "outputs": [
    {
     "name": "stdout",
     "output_type": "stream",
     "text": [
      "0:\tlearn: 1.0617418\ttotal: 144ms\tremaining: 4m 47s\n",
      "500:\tlearn: 0.4171930\ttotal: 31.7s\tremaining: 1m 34s\n",
      "1000:\tlearn: 0.4103808\ttotal: 59.8s\tremaining: 59.7s\n",
      "1500:\tlearn: 0.4057883\ttotal: 1m 28s\tremaining: 29.3s\n",
      "1999:\tlearn: 0.4018535\ttotal: 1m 54s\tremaining: 0us\n"
     ]
    },
    {
     "data": {
      "text/plain": [
       "<catboost.core.CatBoostClassifier at 0xc0ea55eda0>"
      ]
     },
     "execution_count": 34,
     "metadata": {},
     "output_type": "execute_result"
    }
   ],
   "source": [
    "catboost = CatBoostClassifier(iterations=2000, learning_rate=0.003,metrics='auc',verbose=500)\n",
    "catboost.fit(X, y)"
   ]
  },
  {
   "cell_type": "code",
   "execution_count": 35,
   "metadata": {},
   "outputs": [
    {
     "name": "stdout",
     "output_type": "stream",
     "text": [
      "0:\tlearn: 1.0618045\ttotal: 111ms\tremaining: 3m 41s\n",
      "500:\tlearn: 0.4176660\ttotal: 23.6s\tremaining: 1m 10s\n",
      "1000:\tlearn: 0.4101215\ttotal: 44.8s\tremaining: 44.7s\n",
      "1500:\tlearn: 0.4046069\ttotal: 1m 8s\tremaining: 22.8s\n",
      "1999:\tlearn: 0.3999731\ttotal: 1m 31s\tremaining: 0us\n",
      "0:\tlearn: 1.0617699\ttotal: 82.6ms\tremaining: 2m 45s\n",
      "500:\tlearn: 0.4160890\ttotal: 25.7s\tremaining: 1m 16s\n",
      "1000:\tlearn: 0.4084662\ttotal: 47.8s\tremaining: 47.7s\n",
      "1500:\tlearn: 0.4029323\ttotal: 1m 9s\tremaining: 23.1s\n",
      "1999:\tlearn: 0.3982547\ttotal: 1m 34s\tremaining: 0us\n",
      "0:\tlearn: 1.0617748\ttotal: 53.8ms\tremaining: 1m 47s\n",
      "500:\tlearn: 0.4167975\ttotal: 28s\tremaining: 1m 23s\n",
      "1000:\tlearn: 0.4089400\ttotal: 52.7s\tremaining: 52.6s\n",
      "1500:\tlearn: 0.4036203\ttotal: 1m 14s\tremaining: 24.9s\n",
      "1999:\tlearn: 0.3989657\ttotal: 1m 36s\tremaining: 0us\n",
      "0:\tlearn: 1.0617276\ttotal: 122ms\tremaining: 4m 4s\n",
      "500:\tlearn: 0.4162898\ttotal: 26.4s\tremaining: 1m 18s\n",
      "1000:\tlearn: 0.4083898\ttotal: 47.9s\tremaining: 47.8s\n",
      "1500:\tlearn: 0.4029176\ttotal: 1m 9s\tremaining: 23.1s\n",
      "1999:\tlearn: 0.3982546\ttotal: 1m 33s\tremaining: 0us\n",
      "0:\tlearn: 1.0617309\ttotal: 46.6ms\tremaining: 1m 33s\n",
      "500:\tlearn: 0.4152042\ttotal: 24.5s\tremaining: 1m 13s\n",
      "1000:\tlearn: 0.4077942\ttotal: 50.9s\tremaining: 50.8s\n",
      "1500:\tlearn: 0.4024082\ttotal: 1m 19s\tremaining: 26.4s\n",
      "1999:\tlearn: 0.3978478\ttotal: 1m 43s\tremaining: 0us\n"
     ]
    },
    {
     "data": {
      "text/plain": [
       "0.8456638526253798"
      ]
     },
     "execution_count": 35,
     "metadata": {},
     "output_type": "execute_result"
    }
   ],
   "source": [
    "sum(cross_val_score(catboost, X, y, cv=5))/5"
   ]
  },
  {
   "cell_type": "code",
   "execution_count": 41,
   "metadata": {},
   "outputs": [
    {
     "data": {
      "text/plain": [
       "0.8457876498230614"
      ]
     },
     "execution_count": 41,
     "metadata": {},
     "output_type": "execute_result"
    }
   ],
   "source": [
    "xgboost = XGBClassifier()\n",
    "xgboost.fit(X, y)\n",
    "sum(cross_val_score(xgboost, X, y, cv=5))/5"
   ]
  },
  {
   "cell_type": "code",
   "execution_count": 37,
   "metadata": {},
   "outputs": [],
   "source": [
    "pred_c = catboost.predict_proba(test)\n",
    "pred_x = xgboost.predict_proba(test)"
   ]
  },
  {
   "cell_type": "code",
   "execution_count": 38,
   "metadata": {},
   "outputs": [],
   "source": [
    "final_res = []\n",
    "for i in range(len(pred_x)):\n",
    "    final_res.append(np.argmax((pred_x[i]*.4 + pred_c[i]*.6)/2))\n",
    "\n",
    "pd.DataFrame({'ID': test_id, 'Crop_Damage':final_res}).to_csv(r'C:\\Users\\My PC\\Desktop\\Machine Learning\\Hackerearth\\janta\\submissionM.csv', index=False)"
   ]
  },
  {
   "cell_type": "code",
   "execution_count": null,
   "metadata": {},
   "outputs": [],
   "source": [
    "# sub[\"target\"] = (sub_lgb[\"target\"] * 0.5 + sub_xgb[\"target\"] * 0.3 + sub_cat[\"target\"] * 0.2)"
   ]
  }
 ],
 "metadata": {
  "kernelspec": {
   "display_name": "Python 3",
   "language": "python",
   "name": "python3"
  },
  "language_info": {
   "codemirror_mode": {
    "name": "ipython",
    "version": 3
   },
   "file_extension": ".py",
   "mimetype": "text/x-python",
   "name": "python",
   "nbconvert_exporter": "python",
   "pygments_lexer": "ipython3",
   "version": "3.7.3"
  }
 },
 "nbformat": 4,
 "nbformat_minor": 2
}
