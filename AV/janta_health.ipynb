{
 "cells": [
  {
   "cell_type": "code",
   "execution_count": 1,
   "metadata": {},
   "outputs": [],
   "source": [
    "import pandas as pd\n",
    "import numpy as np \n",
    "import pandas as pd\n",
    "import numpy as np\n",
    "import seaborn as sns\n",
    "import matplotlib as mpl\n",
    "from datetime import datetime\n",
    "from sklearn import preprocessing, model_selection, metrics, ensemble\n",
    "from sklearn.ensemble import RandomForestClassifier\n",
    "from xgboost import XGBClassifier"
   ]
  },
  {
   "cell_type": "code",
   "execution_count": 2,
   "metadata": {},
   "outputs": [],
   "source": [
    "train=pd.read_csv(r'C:\\Users\\My PC\\Desktop\\Machine Learning\\Hackerearth\\dataset\\health\\train.csv')\n",
    "test=pd.read_csv(r'C:\\Users\\My PC\\Desktop\\Machine Learning\\Hackerearth\\dataset\\health\\test.csv')\n",
    "sub=pd.read_csv(r'C:\\Users\\My PC\\Desktop\\Machine Learning\\Hackerearth\\dataset\\health\\sample.csv')\n",
    "# dd=pd.read_csv(r'C:\\Users\\My PC\\Desktop\\Machine Learning\\Hackerearth\\dataset\\health\\Data_Dictionary.xlsx')\n",
    "first=pd.read_csv(r'C:\\Users\\My PC\\Desktop\\Machine Learning\\Hackerearth\\dataset\\health\\First_Health_Camp_Attended.csv')\n",
    "second=pd.read_csv(r'C:\\Users\\My PC\\Desktop\\Machine Learning\\Hackerearth\\dataset\\health\\Second_Health_Camp_Attended.csv')\n",
    "third=pd.read_csv(r'C:\\Users\\My PC\\Desktop\\Machine Learning\\Hackerearth\\dataset\\health\\Third_Health_Camp_Attended.csv')\n",
    "hdet=pd.read_csv(r'C:\\Users\\My PC\\Desktop\\Machine Learning\\Hackerearth\\dataset\\health\\Health_Camp_Detail.csv')\n",
    "pp=pd.read_csv(r'C:\\Users\\My PC\\Desktop\\Machine Learning\\Hackerearth\\dataset\\health\\Patient_Profile.csv')"
   ]
  },
  {
   "cell_type": "code",
   "execution_count": 3,
   "metadata": {},
   "outputs": [
    {
     "data": {
      "text/html": [
       "<div>\n",
       "<style scoped>\n",
       "    .dataframe tbody tr th:only-of-type {\n",
       "        vertical-align: middle;\n",
       "    }\n",
       "\n",
       "    .dataframe tbody tr th {\n",
       "        vertical-align: top;\n",
       "    }\n",
       "\n",
       "    .dataframe thead th {\n",
       "        text-align: right;\n",
       "    }\n",
       "</style>\n",
       "<table border=\"1\" class=\"dataframe\">\n",
       "  <thead>\n",
       "    <tr style=\"text-align: right;\">\n",
       "      <th></th>\n",
       "      <th>Patient_ID</th>\n",
       "      <th>Health_Camp_ID</th>\n",
       "      <th>Registration_Date</th>\n",
       "      <th>Var1</th>\n",
       "      <th>Var2</th>\n",
       "      <th>Var3</th>\n",
       "      <th>Var4</th>\n",
       "      <th>Var5</th>\n",
       "    </tr>\n",
       "  </thead>\n",
       "  <tbody>\n",
       "    <tr>\n",
       "      <th>0</th>\n",
       "      <td>489652</td>\n",
       "      <td>6578</td>\n",
       "      <td>10-Sep-05</td>\n",
       "      <td>4</td>\n",
       "      <td>0</td>\n",
       "      <td>0</td>\n",
       "      <td>0</td>\n",
       "      <td>2</td>\n",
       "    </tr>\n",
       "    <tr>\n",
       "      <th>1</th>\n",
       "      <td>507246</td>\n",
       "      <td>6578</td>\n",
       "      <td>18-Aug-05</td>\n",
       "      <td>45</td>\n",
       "      <td>5</td>\n",
       "      <td>0</td>\n",
       "      <td>0</td>\n",
       "      <td>7</td>\n",
       "    </tr>\n",
       "  </tbody>\n",
       "</table>\n",
       "</div>"
      ],
      "text/plain": [
       "   Patient_ID  Health_Camp_ID Registration_Date  Var1  Var2  Var3  Var4  Var5\n",
       "0      489652            6578         10-Sep-05     4     0     0     0     2\n",
       "1      507246            6578         18-Aug-05    45     5     0     0     7"
      ]
     },
     "execution_count": 3,
     "metadata": {},
     "output_type": "execute_result"
    }
   ],
   "source": [
    "train.head(2)"
   ]
  },
  {
   "cell_type": "code",
   "execution_count": 4,
   "metadata": {},
   "outputs": [
    {
     "data": {
      "text/html": [
       "<div>\n",
       "<style scoped>\n",
       "    .dataframe tbody tr th:only-of-type {\n",
       "        vertical-align: middle;\n",
       "    }\n",
       "\n",
       "    .dataframe tbody tr th {\n",
       "        vertical-align: top;\n",
       "    }\n",
       "\n",
       "    .dataframe thead th {\n",
       "        text-align: right;\n",
       "    }\n",
       "</style>\n",
       "<table border=\"1\" class=\"dataframe\">\n",
       "  <thead>\n",
       "    <tr style=\"text-align: right;\">\n",
       "      <th></th>\n",
       "      <th>Patient_ID</th>\n",
       "      <th>Health_Camp_ID</th>\n",
       "      <th>Donation</th>\n",
       "      <th>Health_Score</th>\n",
       "      <th>Unnamed: 4</th>\n",
       "    </tr>\n",
       "  </thead>\n",
       "  <tbody>\n",
       "    <tr>\n",
       "      <th>0</th>\n",
       "      <td>506181</td>\n",
       "      <td>6560</td>\n",
       "      <td>40</td>\n",
       "      <td>0.439024</td>\n",
       "      <td>NaN</td>\n",
       "    </tr>\n",
       "    <tr>\n",
       "      <th>1</th>\n",
       "      <td>494977</td>\n",
       "      <td>6560</td>\n",
       "      <td>20</td>\n",
       "      <td>0.097561</td>\n",
       "      <td>NaN</td>\n",
       "    </tr>\n",
       "  </tbody>\n",
       "</table>\n",
       "</div>"
      ],
      "text/plain": [
       "   Patient_ID  Health_Camp_ID  Donation  Health_Score  Unnamed: 4\n",
       "0      506181            6560        40      0.439024         NaN\n",
       "1      494977            6560        20      0.097561         NaN"
      ]
     },
     "execution_count": 4,
     "metadata": {},
     "output_type": "execute_result"
    }
   ],
   "source": [
    "first.head(2)"
   ]
  },
  {
   "cell_type": "code",
   "execution_count": 5,
   "metadata": {},
   "outputs": [
    {
     "data": {
      "text/html": [
       "<div>\n",
       "<style scoped>\n",
       "    .dataframe tbody tr th:only-of-type {\n",
       "        vertical-align: middle;\n",
       "    }\n",
       "\n",
       "    .dataframe tbody tr th {\n",
       "        vertical-align: top;\n",
       "    }\n",
       "\n",
       "    .dataframe thead th {\n",
       "        text-align: right;\n",
       "    }\n",
       "</style>\n",
       "<table border=\"1\" class=\"dataframe\">\n",
       "  <thead>\n",
       "    <tr style=\"text-align: right;\">\n",
       "      <th></th>\n",
       "      <th>Patient_ID</th>\n",
       "      <th>Health_Camp_ID</th>\n",
       "      <th>Health Score</th>\n",
       "    </tr>\n",
       "  </thead>\n",
       "  <tbody>\n",
       "    <tr>\n",
       "      <th>0</th>\n",
       "      <td>526631</td>\n",
       "      <td>6536</td>\n",
       "      <td>0.875136</td>\n",
       "    </tr>\n",
       "    <tr>\n",
       "      <th>1</th>\n",
       "      <td>509122</td>\n",
       "      <td>6536</td>\n",
       "      <td>0.755700</td>\n",
       "    </tr>\n",
       "  </tbody>\n",
       "</table>\n",
       "</div>"
      ],
      "text/plain": [
       "   Patient_ID  Health_Camp_ID  Health Score\n",
       "0      526631            6536      0.875136\n",
       "1      509122            6536      0.755700"
      ]
     },
     "execution_count": 5,
     "metadata": {},
     "output_type": "execute_result"
    }
   ],
   "source": [
    "second.head(2)"
   ]
  },
  {
   "cell_type": "code",
   "execution_count": 6,
   "metadata": {},
   "outputs": [
    {
     "data": {
      "text/html": [
       "<div>\n",
       "<style scoped>\n",
       "    .dataframe tbody tr th:only-of-type {\n",
       "        vertical-align: middle;\n",
       "    }\n",
       "\n",
       "    .dataframe tbody tr th {\n",
       "        vertical-align: top;\n",
       "    }\n",
       "\n",
       "    .dataframe thead th {\n",
       "        text-align: right;\n",
       "    }\n",
       "</style>\n",
       "<table border=\"1\" class=\"dataframe\">\n",
       "  <thead>\n",
       "    <tr style=\"text-align: right;\">\n",
       "      <th></th>\n",
       "      <th>Patient_ID</th>\n",
       "      <th>Health_Camp_ID</th>\n",
       "      <th>Number_of_stall_visited</th>\n",
       "      <th>Last_Stall_Visited_Number</th>\n",
       "    </tr>\n",
       "  </thead>\n",
       "  <tbody>\n",
       "    <tr>\n",
       "      <th>0</th>\n",
       "      <td>517875</td>\n",
       "      <td>6527</td>\n",
       "      <td>3</td>\n",
       "      <td>1</td>\n",
       "    </tr>\n",
       "    <tr>\n",
       "      <th>1</th>\n",
       "      <td>504692</td>\n",
       "      <td>6578</td>\n",
       "      <td>1</td>\n",
       "      <td>1</td>\n",
       "    </tr>\n",
       "  </tbody>\n",
       "</table>\n",
       "</div>"
      ],
      "text/plain": [
       "   Patient_ID  Health_Camp_ID  Number_of_stall_visited  \\\n",
       "0      517875            6527                        3   \n",
       "1      504692            6578                        1   \n",
       "\n",
       "   Last_Stall_Visited_Number  \n",
       "0                          1  \n",
       "1                          1  "
      ]
     },
     "execution_count": 6,
     "metadata": {},
     "output_type": "execute_result"
    }
   ],
   "source": [
    "third.head(2)"
   ]
  },
  {
   "cell_type": "code",
   "execution_count": 7,
   "metadata": {},
   "outputs": [
    {
     "data": {
      "text/html": [
       "<div>\n",
       "<style scoped>\n",
       "    .dataframe tbody tr th:only-of-type {\n",
       "        vertical-align: middle;\n",
       "    }\n",
       "\n",
       "    .dataframe tbody tr th {\n",
       "        vertical-align: top;\n",
       "    }\n",
       "\n",
       "    .dataframe thead th {\n",
       "        text-align: right;\n",
       "    }\n",
       "</style>\n",
       "<table border=\"1\" class=\"dataframe\">\n",
       "  <thead>\n",
       "    <tr style=\"text-align: right;\">\n",
       "      <th></th>\n",
       "      <th>Health_Camp_ID</th>\n",
       "      <th>Camp_Start_Date</th>\n",
       "      <th>Camp_End_Date</th>\n",
       "      <th>Category1</th>\n",
       "      <th>Category2</th>\n",
       "      <th>Category3</th>\n",
       "    </tr>\n",
       "  </thead>\n",
       "  <tbody>\n",
       "    <tr>\n",
       "      <th>0</th>\n",
       "      <td>6560</td>\n",
       "      <td>16-Aug-03</td>\n",
       "      <td>20-Aug-03</td>\n",
       "      <td>First</td>\n",
       "      <td>B</td>\n",
       "      <td>2</td>\n",
       "    </tr>\n",
       "    <tr>\n",
       "      <th>1</th>\n",
       "      <td>6530</td>\n",
       "      <td>16-Aug-03</td>\n",
       "      <td>28-Oct-03</td>\n",
       "      <td>First</td>\n",
       "      <td>C</td>\n",
       "      <td>2</td>\n",
       "    </tr>\n",
       "  </tbody>\n",
       "</table>\n",
       "</div>"
      ],
      "text/plain": [
       "   Health_Camp_ID Camp_Start_Date Camp_End_Date Category1 Category2  Category3\n",
       "0            6560       16-Aug-03     20-Aug-03     First         B          2\n",
       "1            6530       16-Aug-03     28-Oct-03     First         C          2"
      ]
     },
     "execution_count": 7,
     "metadata": {},
     "output_type": "execute_result"
    }
   ],
   "source": [
    "hdet.head(2)"
   ]
  },
  {
   "cell_type": "code",
   "execution_count": 8,
   "metadata": {},
   "outputs": [
    {
     "data": {
      "text/html": [
       "<div>\n",
       "<style scoped>\n",
       "    .dataframe tbody tr th:only-of-type {\n",
       "        vertical-align: middle;\n",
       "    }\n",
       "\n",
       "    .dataframe tbody tr th {\n",
       "        vertical-align: top;\n",
       "    }\n",
       "\n",
       "    .dataframe thead th {\n",
       "        text-align: right;\n",
       "    }\n",
       "</style>\n",
       "<table border=\"1\" class=\"dataframe\">\n",
       "  <thead>\n",
       "    <tr style=\"text-align: right;\">\n",
       "      <th></th>\n",
       "      <th>Patient_ID</th>\n",
       "      <th>Online_Follower</th>\n",
       "      <th>LinkedIn_Shared</th>\n",
       "      <th>Twitter_Shared</th>\n",
       "      <th>Facebook_Shared</th>\n",
       "      <th>Income</th>\n",
       "      <th>Education_Score</th>\n",
       "      <th>Age</th>\n",
       "      <th>First_Interaction</th>\n",
       "      <th>City_Type</th>\n",
       "      <th>Employer_Category</th>\n",
       "    </tr>\n",
       "  </thead>\n",
       "  <tbody>\n",
       "    <tr>\n",
       "      <th>0</th>\n",
       "      <td>516956</td>\n",
       "      <td>0</td>\n",
       "      <td>0</td>\n",
       "      <td>0</td>\n",
       "      <td>0</td>\n",
       "      <td>1</td>\n",
       "      <td>90</td>\n",
       "      <td>39</td>\n",
       "      <td>18-Jun-03</td>\n",
       "      <td>NaN</td>\n",
       "      <td>Software Industry</td>\n",
       "    </tr>\n",
       "    <tr>\n",
       "      <th>1</th>\n",
       "      <td>507733</td>\n",
       "      <td>0</td>\n",
       "      <td>0</td>\n",
       "      <td>0</td>\n",
       "      <td>0</td>\n",
       "      <td>1</td>\n",
       "      <td>None</td>\n",
       "      <td>40</td>\n",
       "      <td>20-Jul-03</td>\n",
       "      <td>H</td>\n",
       "      <td>Software Industry</td>\n",
       "    </tr>\n",
       "  </tbody>\n",
       "</table>\n",
       "</div>"
      ],
      "text/plain": [
       "   Patient_ID  Online_Follower  LinkedIn_Shared  Twitter_Shared  \\\n",
       "0      516956                0                0               0   \n",
       "1      507733                0                0               0   \n",
       "\n",
       "   Facebook_Shared Income Education_Score Age First_Interaction City_Type  \\\n",
       "0                0      1              90  39         18-Jun-03       NaN   \n",
       "1                0      1            None  40         20-Jul-03         H   \n",
       "\n",
       "   Employer_Category  \n",
       "0  Software Industry  \n",
       "1  Software Industry  "
      ]
     },
     "execution_count": 8,
     "metadata": {},
     "output_type": "execute_result"
    }
   ],
   "source": [
    "pp.head(2)"
   ]
  },
  {
   "cell_type": "markdown",
   "metadata": {},
   "source": [
    "Train Data Analysis"
   ]
  },
  {
   "cell_type": "code",
   "execution_count": 9,
   "metadata": {},
   "outputs": [
    {
     "name": "stdout",
     "output_type": "stream",
     "text": [
      "<class 'pandas.core.frame.DataFrame'>\n",
      "RangeIndex: 75278 entries, 0 to 75277\n",
      "Data columns (total 8 columns):\n",
      "Patient_ID           75278 non-null int64\n",
      "Health_Camp_ID       75278 non-null int64\n",
      "Registration_Date    74944 non-null object\n",
      "Var1                 75278 non-null int64\n",
      "Var2                 75278 non-null int64\n",
      "Var3                 75278 non-null int64\n",
      "Var4                 75278 non-null int64\n",
      "Var5                 75278 non-null int64\n",
      "dtypes: int64(7), object(1)\n",
      "memory usage: 4.6+ MB\n"
     ]
    }
   ],
   "source": [
    "train.info()"
   ]
  },
  {
   "cell_type": "code",
   "execution_count": 10,
   "metadata": {},
   "outputs": [
    {
     "data": {
      "text/plain": [
       "Patient_ID             0\n",
       "Health_Camp_ID         0\n",
       "Registration_Date    334\n",
       "Var1                   0\n",
       "Var2                   0\n",
       "Var3                   0\n",
       "Var4                   0\n",
       "Var5                   0\n",
       "dtype: int64"
      ]
     },
     "execution_count": 10,
     "metadata": {},
     "output_type": "execute_result"
    }
   ],
   "source": [
    "train.isna().sum()"
   ]
  },
  {
   "cell_type": "code",
   "execution_count": 11,
   "metadata": {},
   "outputs": [
    {
     "data": {
      "text/plain": [
       "29828"
      ]
     },
     "execution_count": 11,
     "metadata": {},
     "output_type": "execute_result"
    }
   ],
   "source": [
    "train.Patient_ID.nunique()"
   ]
  },
  {
   "cell_type": "code",
   "execution_count": 12,
   "metadata": {},
   "outputs": [
    {
     "data": {
      "text/plain": [
       "array([ 2,  1,  5,  4,  8, 14,  3,  6,  7,  9, 12, 13, 10, 19, 11, 22, 16,\n",
       "       18, 20, 15, 23, 17, 28, 24, 21, 32, 25], dtype=int64)"
      ]
     },
     "execution_count": 12,
     "metadata": {},
     "output_type": "execute_result"
    }
   ],
   "source": [
    "train.groupby('Patient_ID')['Health_Camp_ID'].count().unique()"
   ]
  },
  {
   "cell_type": "code",
   "execution_count": 13,
   "metadata": {},
   "outputs": [
    {
     "data": {
      "text/plain": [
       "334"
      ]
     },
     "execution_count": 13,
     "metadata": {},
     "output_type": "execute_result"
    }
   ],
   "source": [
    "train.Registration_Date.isnull().sum()"
   ]
  },
  {
   "cell_type": "code",
   "execution_count": 14,
   "metadata": {},
   "outputs": [
    {
     "data": {
      "text/plain": [
       "1201"
      ]
     },
     "execution_count": 14,
     "metadata": {},
     "output_type": "execute_result"
    }
   ],
   "source": [
    "train.Registration_Date.nunique()"
   ]
  },
  {
   "cell_type": "code",
   "execution_count": 15,
   "metadata": {},
   "outputs": [],
   "source": [
    "train.Registration_Date = pd.to_datetime(train.Registration_Date)\n",
    "train.Registration_Date=train.Registration_Date.fillna(method='bfill')"
   ]
  },
  {
   "cell_type": "markdown",
   "metadata": {},
   "source": [
    "Test Data"
   ]
  },
  {
   "cell_type": "code",
   "execution_count": 16,
   "metadata": {},
   "outputs": [
    {
     "name": "stdout",
     "output_type": "stream",
     "text": [
      "<class 'pandas.core.frame.DataFrame'>\n",
      "RangeIndex: 35249 entries, 0 to 35248\n",
      "Data columns (total 8 columns):\n",
      "Patient_ID           35249 non-null int64\n",
      "Health_Camp_ID       35249 non-null int64\n",
      "Registration_Date    35249 non-null object\n",
      "Var1                 35249 non-null int64\n",
      "Var2                 35249 non-null int64\n",
      "Var3                 35249 non-null int64\n",
      "Var4                 35249 non-null int64\n",
      "Var5                 35249 non-null int64\n",
      "dtypes: int64(7), object(1)\n",
      "memory usage: 2.2+ MB\n"
     ]
    },
    {
     "data": {
      "text/plain": [
       "(None, Patient_ID           0\n",
       " Health_Camp_ID       0\n",
       " Registration_Date    0\n",
       " Var1                 0\n",
       " Var2                 0\n",
       " Var3                 0\n",
       " Var4                 0\n",
       " Var5                 0\n",
       " dtype: int64)"
      ]
     },
     "execution_count": 16,
     "metadata": {},
     "output_type": "execute_result"
    }
   ],
   "source": [
    "test.info(),test.isna().sum()"
   ]
  },
  {
   "cell_type": "code",
   "execution_count": 17,
   "metadata": {},
   "outputs": [
    {
     "data": {
      "text/plain": [
       "15324"
      ]
     },
     "execution_count": 17,
     "metadata": {},
     "output_type": "execute_result"
    }
   ],
   "source": [
    "test.Patient_ID.nunique()"
   ]
  },
  {
   "cell_type": "code",
   "execution_count": 18,
   "metadata": {},
   "outputs": [
    {
     "data": {
      "text/plain": [
       "array([ 1,  5,  2,  4,  8,  3,  7,  6,  9, 10, 12, 13, 15, 14, 11, 17],\n",
       "      dtype=int64)"
      ]
     },
     "execution_count": 18,
     "metadata": {},
     "output_type": "execute_result"
    }
   ],
   "source": [
    "test.groupby('Patient_ID')['Health_Camp_ID'].count().unique()"
   ]
  },
  {
   "cell_type": "code",
   "execution_count": 19,
   "metadata": {},
   "outputs": [],
   "source": [
    "test.Registration_Date = pd.to_datetime(test.Registration_Date)"
   ]
  },
  {
   "cell_type": "markdown",
   "metadata": {},
   "source": [
    "Meta data"
   ]
  },
  {
   "cell_type": "code",
   "execution_count": 20,
   "metadata": {},
   "outputs": [
    {
     "data": {
      "text/plain": [
       "Patient_ID           0\n",
       "Health_Camp_ID       0\n",
       "Donation             0\n",
       "Health_Score         0\n",
       "Unnamed: 4        6218\n",
       "dtype: int64"
      ]
     },
     "execution_count": 20,
     "metadata": {},
     "output_type": "execute_result"
    }
   ],
   "source": [
    "first.isnull().sum()"
   ]
  },
  {
   "cell_type": "code",
   "execution_count": 21,
   "metadata": {},
   "outputs": [],
   "source": [
    "first.drop('Unnamed: 4',axis=1,inplace = True)"
   ]
  },
  {
   "cell_type": "code",
   "execution_count": 22,
   "metadata": {},
   "outputs": [
    {
     "data": {
      "text/plain": [
       "Patient_ID        0\n",
       "Health_Camp_ID    0\n",
       "Health Score      0\n",
       "dtype: int64"
      ]
     },
     "execution_count": 22,
     "metadata": {},
     "output_type": "execute_result"
    }
   ],
   "source": [
    "second.isnull().sum()"
   ]
  },
  {
   "cell_type": "code",
   "execution_count": 23,
   "metadata": {},
   "outputs": [
    {
     "data": {
      "text/plain": [
       "Patient_ID                   0\n",
       "Health_Camp_ID               0\n",
       "Number_of_stall_visited      0\n",
       "Last_Stall_Visited_Number    0\n",
       "dtype: int64"
      ]
     },
     "execution_count": 23,
     "metadata": {},
     "output_type": "execute_result"
    }
   ],
   "source": [
    "third.isnull().sum()"
   ]
  },
  {
   "cell_type": "markdown",
   "metadata": {},
   "source": [
    "pp"
   ]
  },
  {
   "cell_type": "code",
   "execution_count": 24,
   "metadata": {},
   "outputs": [
    {
     "data": {
      "text/plain": [
       "Patient_ID               0\n",
       "Online_Follower          0\n",
       "LinkedIn_Shared          0\n",
       "Twitter_Shared           0\n",
       "Facebook_Shared          0\n",
       "Income                   0\n",
       "Education_Score          0\n",
       "Age                      0\n",
       "First_Interaction        0\n",
       "City_Type            23384\n",
       "Employer_Category    34793\n",
       "dtype: int64"
      ]
     },
     "execution_count": 24,
     "metadata": {},
     "output_type": "execute_result"
    }
   ],
   "source": [
    "pp.isnull().sum()"
   ]
  },
  {
   "cell_type": "code",
   "execution_count": 25,
   "metadata": {},
   "outputs": [],
   "source": [
    "pp.drop(['City_Type','Employer_Category'],axis=1,inplace = True)"
   ]
  },
  {
   "cell_type": "code",
   "execution_count": 26,
   "metadata": {},
   "outputs": [
    {
     "data": {
      "text/plain": [
       "Health_Camp_ID     0\n",
       "Camp_Start_Date    0\n",
       "Camp_End_Date      0\n",
       "Category1          0\n",
       "Category2          0\n",
       "Category3          0\n",
       "dtype: int64"
      ]
     },
     "execution_count": 26,
     "metadata": {},
     "output_type": "execute_result"
    }
   ],
   "source": [
    "hdet.isnull().sum()"
   ]
  },
  {
   "cell_type": "code",
   "execution_count": 27,
   "metadata": {},
   "outputs": [],
   "source": [
    "pp.replace('None',-999,inplace=True)"
   ]
  },
  {
   "cell_type": "code",
   "execution_count": 28,
   "metadata": {},
   "outputs": [],
   "source": [
    "pp['Income'] = pp['Income'].astype('int64')\n",
    "pp['Age'] = pp['Age'].astype('int64')\n",
    "pp['Education_Score'] = pp['Education_Score'].astype('float64')\n",
    "pp.First_Interaction = pd.to_datetime(pp.First_Interaction)"
   ]
  },
  {
   "cell_type": "markdown",
   "metadata": {},
   "source": [
    "hdet"
   ]
  },
  {
   "cell_type": "code",
   "execution_count": 29,
   "metadata": {},
   "outputs": [],
   "source": [
    "hdet.Camp_Start_Date= pd.to_datetime(hdet.Camp_Start_Date)\n",
    "hdet.Camp_End_Date= pd.to_datetime(hdet.Camp_End_Date)"
   ]
  },
  {
   "cell_type": "code",
   "execution_count": 30,
   "metadata": {},
   "outputs": [],
   "source": [
    "hdet['duration'] = hdet['Camp_End_Date'] - hdet['Camp_Start_Date']"
   ]
  },
  {
   "cell_type": "code",
   "execution_count": 31,
   "metadata": {},
   "outputs": [],
   "source": [
    "second.rename(columns = {'Health_Score':'Health_Score2'},inplace = True)"
   ]
  },
  {
   "cell_type": "markdown",
   "metadata": {},
   "source": [
    "Target Variable"
   ]
  },
  {
   "cell_type": "code",
   "execution_count": 32,
   "metadata": {},
   "outputs": [],
   "source": [
    "first['Outcome_1'] = 1\n",
    "second['Outcome_2'] = 1\n",
    "third['Outcome_3'] = np.where(third['Number_of_stall_visited']>0,1,0)"
   ]
  },
  {
   "cell_type": "code",
   "execution_count": 33,
   "metadata": {},
   "outputs": [
    {
     "data": {
      "text/html": [
       "<div>\n",
       "<style scoped>\n",
       "    .dataframe tbody tr th:only-of-type {\n",
       "        vertical-align: middle;\n",
       "    }\n",
       "\n",
       "    .dataframe tbody tr th {\n",
       "        vertical-align: top;\n",
       "    }\n",
       "\n",
       "    .dataframe thead th {\n",
       "        text-align: right;\n",
       "    }\n",
       "</style>\n",
       "<table border=\"1\" class=\"dataframe\">\n",
       "  <thead>\n",
       "    <tr style=\"text-align: right;\">\n",
       "      <th></th>\n",
       "      <th>Patient_ID</th>\n",
       "      <th>Health_Camp_ID</th>\n",
       "      <th>Registration_Date</th>\n",
       "      <th>Var1</th>\n",
       "      <th>Var2</th>\n",
       "      <th>Var3</th>\n",
       "      <th>Var4</th>\n",
       "      <th>Var5</th>\n",
       "      <th>Online_Follower</th>\n",
       "      <th>LinkedIn_Shared</th>\n",
       "      <th>...</th>\n",
       "      <th>Category3</th>\n",
       "      <th>duration</th>\n",
       "      <th>Donation</th>\n",
       "      <th>Health_Score</th>\n",
       "      <th>Outcome_1</th>\n",
       "      <th>Health Score</th>\n",
       "      <th>Outcome_2</th>\n",
       "      <th>Number_of_stall_visited</th>\n",
       "      <th>Last_Stall_Visited_Number</th>\n",
       "      <th>Outcome_3</th>\n",
       "    </tr>\n",
       "  </thead>\n",
       "  <tbody>\n",
       "    <tr>\n",
       "      <th>0</th>\n",
       "      <td>489652</td>\n",
       "      <td>6578</td>\n",
       "      <td>2005-09-10</td>\n",
       "      <td>4</td>\n",
       "      <td>0</td>\n",
       "      <td>0</td>\n",
       "      <td>0</td>\n",
       "      <td>2</td>\n",
       "      <td>0</td>\n",
       "      <td>0</td>\n",
       "      <td>...</td>\n",
       "      <td>2</td>\n",
       "      <td>59 days</td>\n",
       "      <td>NaN</td>\n",
       "      <td>NaN</td>\n",
       "      <td>NaN</td>\n",
       "      <td>NaN</td>\n",
       "      <td>NaN</td>\n",
       "      <td>2.0</td>\n",
       "      <td>1.0</td>\n",
       "      <td>1.0</td>\n",
       "    </tr>\n",
       "    <tr>\n",
       "      <th>1</th>\n",
       "      <td>507246</td>\n",
       "      <td>6578</td>\n",
       "      <td>2005-08-18</td>\n",
       "      <td>45</td>\n",
       "      <td>5</td>\n",
       "      <td>0</td>\n",
       "      <td>0</td>\n",
       "      <td>7</td>\n",
       "      <td>0</td>\n",
       "      <td>0</td>\n",
       "      <td>...</td>\n",
       "      <td>2</td>\n",
       "      <td>59 days</td>\n",
       "      <td>NaN</td>\n",
       "      <td>NaN</td>\n",
       "      <td>NaN</td>\n",
       "      <td>NaN</td>\n",
       "      <td>NaN</td>\n",
       "      <td>NaN</td>\n",
       "      <td>NaN</td>\n",
       "      <td>NaN</td>\n",
       "    </tr>\n",
       "    <tr>\n",
       "      <th>2</th>\n",
       "      <td>523729</td>\n",
       "      <td>6534</td>\n",
       "      <td>2006-04-29</td>\n",
       "      <td>0</td>\n",
       "      <td>0</td>\n",
       "      <td>0</td>\n",
       "      <td>0</td>\n",
       "      <td>0</td>\n",
       "      <td>0</td>\n",
       "      <td>0</td>\n",
       "      <td>...</td>\n",
       "      <td>2</td>\n",
       "      <td>751 days</td>\n",
       "      <td>NaN</td>\n",
       "      <td>NaN</td>\n",
       "      <td>NaN</td>\n",
       "      <td>0.402054</td>\n",
       "      <td>1.0</td>\n",
       "      <td>NaN</td>\n",
       "      <td>NaN</td>\n",
       "      <td>NaN</td>\n",
       "    </tr>\n",
       "    <tr>\n",
       "      <th>3</th>\n",
       "      <td>524931</td>\n",
       "      <td>6535</td>\n",
       "      <td>2004-02-07</td>\n",
       "      <td>0</td>\n",
       "      <td>0</td>\n",
       "      <td>0</td>\n",
       "      <td>0</td>\n",
       "      <td>0</td>\n",
       "      <td>0</td>\n",
       "      <td>0</td>\n",
       "      <td>...</td>\n",
       "      <td>2</td>\n",
       "      <td>17 days</td>\n",
       "      <td>NaN</td>\n",
       "      <td>NaN</td>\n",
       "      <td>NaN</td>\n",
       "      <td>NaN</td>\n",
       "      <td>NaN</td>\n",
       "      <td>NaN</td>\n",
       "      <td>NaN</td>\n",
       "      <td>NaN</td>\n",
       "    </tr>\n",
       "    <tr>\n",
       "      <th>4</th>\n",
       "      <td>521364</td>\n",
       "      <td>6529</td>\n",
       "      <td>2006-02-28</td>\n",
       "      <td>15</td>\n",
       "      <td>1</td>\n",
       "      <td>0</td>\n",
       "      <td>0</td>\n",
       "      <td>7</td>\n",
       "      <td>0</td>\n",
       "      <td>0</td>\n",
       "      <td>...</td>\n",
       "      <td>2</td>\n",
       "      <td>4 days</td>\n",
       "      <td>NaN</td>\n",
       "      <td>NaN</td>\n",
       "      <td>NaN</td>\n",
       "      <td>0.845597</td>\n",
       "      <td>1.0</td>\n",
       "      <td>NaN</td>\n",
       "      <td>NaN</td>\n",
       "      <td>NaN</td>\n",
       "    </tr>\n",
       "  </tbody>\n",
       "</table>\n",
       "<p>5 rows × 30 columns</p>\n",
       "</div>"
      ],
      "text/plain": [
       "   Patient_ID  Health_Camp_ID Registration_Date  Var1  Var2  Var3  Var4  Var5  \\\n",
       "0      489652            6578        2005-09-10     4     0     0     0     2   \n",
       "1      507246            6578        2005-08-18    45     5     0     0     7   \n",
       "2      523729            6534        2006-04-29     0     0     0     0     0   \n",
       "3      524931            6535        2004-02-07     0     0     0     0     0   \n",
       "4      521364            6529        2006-02-28    15     1     0     0     7   \n",
       "\n",
       "   Online_Follower  LinkedIn_Shared  ...  Category3  duration  Donation  \\\n",
       "0                0                0  ...          2   59 days       NaN   \n",
       "1                0                0  ...          2   59 days       NaN   \n",
       "2                0                0  ...          2  751 days       NaN   \n",
       "3                0                0  ...          2   17 days       NaN   \n",
       "4                0                0  ...          2    4 days       NaN   \n",
       "\n",
       "   Health_Score  Outcome_1 Health Score Outcome_2 Number_of_stall_visited  \\\n",
       "0           NaN        NaN          NaN       NaN                     2.0   \n",
       "1           NaN        NaN          NaN       NaN                     NaN   \n",
       "2           NaN        NaN     0.402054       1.0                     NaN   \n",
       "3           NaN        NaN          NaN       NaN                     NaN   \n",
       "4           NaN        NaN     0.845597       1.0                     NaN   \n",
       "\n",
       "  Last_Stall_Visited_Number Outcome_3  \n",
       "0                       1.0       1.0  \n",
       "1                       NaN       NaN  \n",
       "2                       NaN       NaN  \n",
       "3                       NaN       NaN  \n",
       "4                       NaN       NaN  \n",
       "\n",
       "[5 rows x 30 columns]"
      ]
     },
     "execution_count": 33,
     "metadata": {},
     "output_type": "execute_result"
    }
   ],
   "source": [
    "train = pd.merge(train,pp,on='Patient_ID',how = 'left')\n",
    "train = pd.merge(train,hdet,on='Health_Camp_ID',how = 'left')\n",
    "train = pd.merge(train,first,on=['Patient_ID','Health_Camp_ID'],how = 'left')\n",
    "train = pd.merge(train,second,on=['Patient_ID','Health_Camp_ID'],how = 'left')\n",
    "train = pd.merge(train,third,on=['Patient_ID','Health_Camp_ID'],how = 'left')\n",
    "train.head()"
   ]
  },
  {
   "cell_type": "code",
   "execution_count": 34,
   "metadata": {},
   "outputs": [],
   "source": [
    "train['target'] = np.where((train['Outcome_1'] == 1) | (train['Outcome_2'] == 1) | (train['Outcome_3'] == 1),1,0)"
   ]
  },
  {
   "cell_type": "code",
   "execution_count": 35,
   "metadata": {},
   "outputs": [
    {
     "data": {
      "text/plain": [
       "Patient_ID                       0\n",
       "Health_Camp_ID                   0\n",
       "Registration_Date                0\n",
       "Var1                             0\n",
       "Var2                             0\n",
       "Var3                             0\n",
       "Var4                             0\n",
       "Var5                             0\n",
       "Online_Follower                  0\n",
       "LinkedIn_Shared                  0\n",
       "Twitter_Shared                   0\n",
       "Facebook_Shared                  0\n",
       "Income                           0\n",
       "Education_Score                  0\n",
       "Age                              0\n",
       "First_Interaction                0\n",
       "Camp_Start_Date                  0\n",
       "Camp_End_Date                    0\n",
       "Category1                        0\n",
       "Category2                        0\n",
       "Category3                        0\n",
       "duration                         0\n",
       "Donation                     69060\n",
       "Health_Score                 69060\n",
       "Outcome_1                    69060\n",
       "Health Score                 67459\n",
       "Outcome_2                    67459\n",
       "Number_of_stall_visited      68763\n",
       "Last_Stall_Visited_Number    68763\n",
       "Outcome_3                    68763\n",
       "target                           0\n",
       "dtype: int64"
      ]
     },
     "execution_count": 35,
     "metadata": {},
     "output_type": "execute_result"
    }
   ],
   "source": [
    "train.isnull().sum()"
   ]
  },
  {
   "cell_type": "code",
   "execution_count": 36,
   "metadata": {},
   "outputs": [],
   "source": [
    "train.drop(['Health Score','Health_Score','Outcome_1','Outcome_2','Number_of_stall_visited','Last_Stall_Visited_Number','Outcome_3'],axis=1,inplace=True)"
   ]
  },
  {
   "cell_type": "code",
   "execution_count": 37,
   "metadata": {},
   "outputs": [
    {
     "name": "stdout",
     "output_type": "stream",
     "text": [
      "<class 'pandas.core.frame.DataFrame'>\n",
      "Int64Index: 75278 entries, 0 to 75277\n",
      "Data columns (total 24 columns):\n",
      "Patient_ID           75278 non-null int64\n",
      "Health_Camp_ID       75278 non-null int64\n",
      "Registration_Date    75278 non-null datetime64[ns]\n",
      "Var1                 75278 non-null int64\n",
      "Var2                 75278 non-null int64\n",
      "Var3                 75278 non-null int64\n",
      "Var4                 75278 non-null int64\n",
      "Var5                 75278 non-null int64\n",
      "Online_Follower      75278 non-null int64\n",
      "LinkedIn_Shared      75278 non-null int64\n",
      "Twitter_Shared       75278 non-null int64\n",
      "Facebook_Shared      75278 non-null int64\n",
      "Income               75278 non-null int64\n",
      "Education_Score      75278 non-null float64\n",
      "Age                  75278 non-null int64\n",
      "First_Interaction    75278 non-null datetime64[ns]\n",
      "Camp_Start_Date      75278 non-null datetime64[ns]\n",
      "Camp_End_Date        75278 non-null datetime64[ns]\n",
      "Category1            75278 non-null object\n",
      "Category2            75278 non-null object\n",
      "Category3            75278 non-null int64\n",
      "duration             75278 non-null timedelta64[ns]\n",
      "Donation             6218 non-null float64\n",
      "target               75278 non-null int32\n",
      "dtypes: datetime64[ns](4), float64(2), int32(1), int64(14), object(2), timedelta64[ns](1)\n",
      "memory usage: 14.1+ MB\n"
     ]
    }
   ],
   "source": [
    "train.info()"
   ]
  },
  {
   "cell_type": "code",
   "execution_count": 38,
   "metadata": {},
   "outputs": [],
   "source": [
    "train.drop('Donation',axis=1,inplace=True)"
   ]
  },
  {
   "cell_type": "code",
   "execution_count": 39,
   "metadata": {},
   "outputs": [],
   "source": [
    "train.Camp_Start_Date= pd.to_datetime(train.Camp_Start_Date)\n",
    "train.Camp_End_Date= pd.to_datetime(train.Camp_End_Date)\n",
    "train.First_Interaction= pd.to_datetime(train.First_Interaction)"
   ]
  },
  {
   "cell_type": "code",
   "execution_count": 40,
   "metadata": {},
   "outputs": [],
   "source": [
    "train['Camps_Registered_per_patient'] = train.groupby('Patient_ID')['Health_Camp_ID'].transform('count')\n",
    "train['Patients_Registered_per_camp'] = train.groupby('Health_Camp_ID')['Patient_ID'].transform('count')\n",
    "# train['CampStart_Registration_Duration'] = train['Camp_Start_Date'] - train['Registration_Date']\n",
    "# train['CampEnd_Registration_Duration'] = train['Camp_End_Date'] - train['Registration_Date']\n",
    "# train['Registration_FirstInteraction_Duration'] = train['Registration_Date'] - train['First_Interaction']\n",
    "# train['CampStart_FirstInteraction_Duration'] = train['Camp_Start_Date'] - train['First_Interaction']"
   ]
  },
  {
   "cell_type": "code",
   "execution_count": 41,
   "metadata": {},
   "outputs": [
    {
     "data": {
      "text/html": [
       "<div>\n",
       "<style scoped>\n",
       "    .dataframe tbody tr th:only-of-type {\n",
       "        vertical-align: middle;\n",
       "    }\n",
       "\n",
       "    .dataframe tbody tr th {\n",
       "        vertical-align: top;\n",
       "    }\n",
       "\n",
       "    .dataframe thead th {\n",
       "        text-align: right;\n",
       "    }\n",
       "</style>\n",
       "<table border=\"1\" class=\"dataframe\">\n",
       "  <thead>\n",
       "    <tr style=\"text-align: right;\">\n",
       "      <th></th>\n",
       "      <th>Patient_ID</th>\n",
       "      <th>Health_Camp_ID</th>\n",
       "      <th>Registration_Date</th>\n",
       "      <th>Var1</th>\n",
       "      <th>Var2</th>\n",
       "      <th>Var3</th>\n",
       "      <th>Var4</th>\n",
       "      <th>Var5</th>\n",
       "      <th>Online_Follower</th>\n",
       "      <th>LinkedIn_Shared</th>\n",
       "      <th>...</th>\n",
       "      <th>Income</th>\n",
       "      <th>Education_Score</th>\n",
       "      <th>Age</th>\n",
       "      <th>First_Interaction</th>\n",
       "      <th>Camp_Start_Date</th>\n",
       "      <th>Camp_End_Date</th>\n",
       "      <th>Category1</th>\n",
       "      <th>Category2</th>\n",
       "      <th>Category3</th>\n",
       "      <th>duration</th>\n",
       "    </tr>\n",
       "  </thead>\n",
       "  <tbody>\n",
       "    <tr>\n",
       "      <th>0</th>\n",
       "      <td>505701</td>\n",
       "      <td>6548</td>\n",
       "      <td>2006-05-21</td>\n",
       "      <td>1</td>\n",
       "      <td>0</td>\n",
       "      <td>0</td>\n",
       "      <td>0</td>\n",
       "      <td>2</td>\n",
       "      <td>0</td>\n",
       "      <td>0</td>\n",
       "      <td>...</td>\n",
       "      <td>0</td>\n",
       "      <td>-999.0</td>\n",
       "      <td>44</td>\n",
       "      <td>2003-02-05</td>\n",
       "      <td>2006-06-13</td>\n",
       "      <td>2006-08-18</td>\n",
       "      <td>Third</td>\n",
       "      <td>G</td>\n",
       "      <td>2</td>\n",
       "      <td>66 days</td>\n",
       "    </tr>\n",
       "    <tr>\n",
       "      <th>1</th>\n",
       "      <td>500633</td>\n",
       "      <td>6584</td>\n",
       "      <td>2006-06-02</td>\n",
       "      <td>0</td>\n",
       "      <td>0</td>\n",
       "      <td>0</td>\n",
       "      <td>0</td>\n",
       "      <td>0</td>\n",
       "      <td>0</td>\n",
       "      <td>1</td>\n",
       "      <td>...</td>\n",
       "      <td>1</td>\n",
       "      <td>67.0</td>\n",
       "      <td>41</td>\n",
       "      <td>2004-12-11</td>\n",
       "      <td>2006-08-04</td>\n",
       "      <td>2006-08-09</td>\n",
       "      <td>Second</td>\n",
       "      <td>A</td>\n",
       "      <td>2</td>\n",
       "      <td>5 days</td>\n",
       "    </tr>\n",
       "    <tr>\n",
       "      <th>2</th>\n",
       "      <td>506945</td>\n",
       "      <td>6582</td>\n",
       "      <td>2006-08-10</td>\n",
       "      <td>0</td>\n",
       "      <td>0</td>\n",
       "      <td>0</td>\n",
       "      <td>0</td>\n",
       "      <td>0</td>\n",
       "      <td>0</td>\n",
       "      <td>0</td>\n",
       "      <td>...</td>\n",
       "      <td>-999</td>\n",
       "      <td>-999.0</td>\n",
       "      <td>-999</td>\n",
       "      <td>2006-04-19</td>\n",
       "      <td>2006-04-06</td>\n",
       "      <td>2007-11-07</td>\n",
       "      <td>First</td>\n",
       "      <td>F</td>\n",
       "      <td>2</td>\n",
       "      <td>580 days</td>\n",
       "    </tr>\n",
       "    <tr>\n",
       "      <th>3</th>\n",
       "      <td>497447</td>\n",
       "      <td>6551</td>\n",
       "      <td>2006-08-27</td>\n",
       "      <td>0</td>\n",
       "      <td>0</td>\n",
       "      <td>0</td>\n",
       "      <td>0</td>\n",
       "      <td>0</td>\n",
       "      <td>0</td>\n",
       "      <td>0</td>\n",
       "      <td>...</td>\n",
       "      <td>0</td>\n",
       "      <td>-999.0</td>\n",
       "      <td>47</td>\n",
       "      <td>2006-08-25</td>\n",
       "      <td>2006-11-13</td>\n",
       "      <td>2006-11-18</td>\n",
       "      <td>Second</td>\n",
       "      <td>D</td>\n",
       "      <td>2</td>\n",
       "      <td>5 days</td>\n",
       "    </tr>\n",
       "    <tr>\n",
       "      <th>4</th>\n",
       "      <td>496446</td>\n",
       "      <td>6533</td>\n",
       "      <td>2006-09-19</td>\n",
       "      <td>0</td>\n",
       "      <td>0</td>\n",
       "      <td>0</td>\n",
       "      <td>0</td>\n",
       "      <td>0</td>\n",
       "      <td>0</td>\n",
       "      <td>0</td>\n",
       "      <td>...</td>\n",
       "      <td>-999</td>\n",
       "      <td>-999.0</td>\n",
       "      <td>-999</td>\n",
       "      <td>2006-09-19</td>\n",
       "      <td>2006-09-20</td>\n",
       "      <td>2006-09-23</td>\n",
       "      <td>First</td>\n",
       "      <td>E</td>\n",
       "      <td>2</td>\n",
       "      <td>3 days</td>\n",
       "    </tr>\n",
       "  </tbody>\n",
       "</table>\n",
       "<p>5 rows × 22 columns</p>\n",
       "</div>"
      ],
      "text/plain": [
       "   Patient_ID  Health_Camp_ID Registration_Date  Var1  Var2  Var3  Var4  Var5  \\\n",
       "0      505701            6548        2006-05-21     1     0     0     0     2   \n",
       "1      500633            6584        2006-06-02     0     0     0     0     0   \n",
       "2      506945            6582        2006-08-10     0     0     0     0     0   \n",
       "3      497447            6551        2006-08-27     0     0     0     0     0   \n",
       "4      496446            6533        2006-09-19     0     0     0     0     0   \n",
       "\n",
       "   Online_Follower  LinkedIn_Shared  ...  Income  Education_Score  Age  \\\n",
       "0                0                0  ...       0           -999.0   44   \n",
       "1                0                1  ...       1             67.0   41   \n",
       "2                0                0  ...    -999           -999.0 -999   \n",
       "3                0                0  ...       0           -999.0   47   \n",
       "4                0                0  ...    -999           -999.0 -999   \n",
       "\n",
       "   First_Interaction  Camp_Start_Date Camp_End_Date Category1 Category2  \\\n",
       "0         2003-02-05       2006-06-13    2006-08-18     Third         G   \n",
       "1         2004-12-11       2006-08-04    2006-08-09    Second         A   \n",
       "2         2006-04-19       2006-04-06    2007-11-07     First         F   \n",
       "3         2006-08-25       2006-11-13    2006-11-18    Second         D   \n",
       "4         2006-09-19       2006-09-20    2006-09-23     First         E   \n",
       "\n",
       "  Category3 duration  \n",
       "0         2  66 days  \n",
       "1         2   5 days  \n",
       "2         2 580 days  \n",
       "3         2   5 days  \n",
       "4         2   3 days  \n",
       "\n",
       "[5 rows x 22 columns]"
      ]
     },
     "execution_count": 41,
     "metadata": {},
     "output_type": "execute_result"
    }
   ],
   "source": [
    "test = pd.merge(test,pp,on='Patient_ID',how = 'left')\n",
    "test = pd.merge(test,hdet,on='Health_Camp_ID',how = 'left')\n",
    "test.head()"
   ]
  },
  {
   "cell_type": "code",
   "execution_count": 42,
   "metadata": {},
   "outputs": [],
   "source": [
    "test['Camps_Registered_per_patient'] = test.groupby('Patient_ID')['Health_Camp_ID'].transform('count')\n",
    "test['Patients_Registered_per_camp'] = test.groupby('Health_Camp_ID')['Patient_ID'].transform('count')\n",
    "# test[\"CampStart_Registration_Duration\"] = test[\"Camp_Start_Date\"] - test[\"Registration_Date\"]\n",
    "# test[\"CampEnd_Registration_Duration\"] = test[\"Camp_End_Date\"] - test[\"Registration_Date\"]\n",
    "# test[\"Registration_FirstInteraction_Duration\"] = test[\"Registration_Date\"] - test[\"First_Interaction\"]\n",
    "# test[\"CampStart_FirstInteraction_Duration\"] = test[\"Camp_Start_Date\"] - test[\"First_Interaction\"]\n"
   ]
  },
  {
   "cell_type": "code",
   "execution_count": 66,
   "metadata": {},
   "outputs": [
    {
     "name": "stdout",
     "output_type": "stream",
     "text": [
      "<class 'pandas.core.frame.DataFrame'>\n",
      "Int64Index: 35249 entries, 0 to 35248\n",
      "Data columns (total 24 columns):\n",
      "Patient_ID                      35249 non-null int64\n",
      "Health_Camp_ID                  35249 non-null int64\n",
      "Registration_Date               35249 non-null datetime64[ns]\n",
      "Var1                            35249 non-null int64\n",
      "Var2                            35249 non-null int64\n",
      "Var3                            35249 non-null int64\n",
      "Var4                            35249 non-null int64\n",
      "Var5                            35249 non-null int64\n",
      "Online_Follower                 35249 non-null int64\n",
      "LinkedIn_Shared                 35249 non-null int64\n",
      "Twitter_Shared                  35249 non-null int64\n",
      "Facebook_Shared                 35249 non-null int64\n",
      "Income                          35249 non-null int64\n",
      "Education_Score                 35249 non-null float64\n",
      "Age                             35249 non-null int64\n",
      "First_Interaction               35249 non-null datetime64[ns]\n",
      "Camp_Start_Date                 35249 non-null datetime64[ns]\n",
      "Camp_End_Date                   35249 non-null datetime64[ns]\n",
      "Category1                       35249 non-null int64\n",
      "Category2                       35249 non-null int64\n",
      "Category3                       35249 non-null int64\n",
      "duration                        35249 non-null timedelta64[ns]\n",
      "Camps_Registered_per_patient    35249 non-null int64\n",
      "Patients_Registered_per_camp    35249 non-null int64\n",
      "dtypes: datetime64[ns](4), float64(1), int64(18), timedelta64[ns](1)\n",
      "memory usage: 6.7 MB\n"
     ]
    },
    {
     "data": {
      "text/plain": [
       "(Patient_ID                      0\n",
       " Health_Camp_ID                  0\n",
       " Registration_Date               0\n",
       " Var1                            0\n",
       " Var2                            0\n",
       " Var3                            0\n",
       " Var4                            0\n",
       " Var5                            0\n",
       " Online_Follower                 0\n",
       " LinkedIn_Shared                 0\n",
       " Twitter_Shared                  0\n",
       " Facebook_Shared                 0\n",
       " Income                          0\n",
       " Education_Score                 0\n",
       " Age                             0\n",
       " First_Interaction               0\n",
       " Camp_Start_Date                 0\n",
       " Camp_End_Date                   0\n",
       " Category1                       0\n",
       " Category2                       0\n",
       " Category3                       0\n",
       " duration                        0\n",
       " Camps_Registered_per_patient    0\n",
       " Patients_Registered_per_camp    0\n",
       " dtype: int64, None)"
      ]
     },
     "execution_count": 66,
     "metadata": {},
     "output_type": "execute_result"
    }
   ],
   "source": [
    "test.isnull().sum(),test.info()"
   ]
  },
  {
   "cell_type": "markdown",
   "metadata": {},
   "source": [
    "Model"
   ]
  },
  {
   "cell_type": "code",
   "execution_count": 45,
   "metadata": {},
   "outputs": [
    {
     "name": "stdout",
     "output_type": "stream",
     "text": [
      "Category1\n",
      "Category2\n"
     ]
    }
   ],
   "source": [
    "from sklearn.preprocessing import LabelEncoder\n",
    "cat_columns = []\n",
    "for col in train.columns:\n",
    "    if train[col].dtype == 'object':\n",
    "        print(col)\n",
    "        cat_columns.append(col)\n",
    "        enc = preprocessing.LabelEncoder()\n",
    "        full_list = list(train[col].values) + list(test[col].values)\n",
    "        enc.fit(full_list)\n",
    "        train[col] = enc.transform(list(train[col].values))\n",
    "        test[col]  = enc.transform(list(test[col].values))"
   ]
  },
  {
   "cell_type": "code",
   "execution_count": 47,
   "metadata": {},
   "outputs": [
    {
     "name": "stdout",
     "output_type": "stream",
     "text": [
      "<class 'pandas.core.frame.DataFrame'>\n",
      "Int64Index: 75278 entries, 0 to 75277\n",
      "Data columns (total 25 columns):\n",
      "Patient_ID                      75278 non-null int64\n",
      "Health_Camp_ID                  75278 non-null int64\n",
      "Registration_Date               75278 non-null datetime64[ns]\n",
      "Var1                            75278 non-null int64\n",
      "Var2                            75278 non-null int64\n",
      "Var3                            75278 non-null int64\n",
      "Var4                            75278 non-null int64\n",
      "Var5                            75278 non-null int64\n",
      "Online_Follower                 75278 non-null int64\n",
      "LinkedIn_Shared                 75278 non-null int64\n",
      "Twitter_Shared                  75278 non-null int64\n",
      "Facebook_Shared                 75278 non-null int64\n",
      "Income                          75278 non-null int64\n",
      "Education_Score                 75278 non-null float64\n",
      "Age                             75278 non-null int64\n",
      "First_Interaction               75278 non-null datetime64[ns]\n",
      "Camp_Start_Date                 75278 non-null datetime64[ns]\n",
      "Camp_End_Date                   75278 non-null datetime64[ns]\n",
      "Category1                       75278 non-null int64\n",
      "Category2                       75278 non-null int64\n",
      "Category3                       75278 non-null int64\n",
      "duration                        75278 non-null timedelta64[ns]\n",
      "target                          75278 non-null int32\n",
      "Camps_Registered_per_patient    75278 non-null int64\n",
      "Patients_Registered_per_camp    75278 non-null int64\n",
      "dtypes: datetime64[ns](4), float64(1), int32(1), int64(18), timedelta64[ns](1)\n",
      "memory usage: 14.6 MB\n"
     ]
    }
   ],
   "source": [
    "train.info()"
   ]
  },
  {
   "cell_type": "code",
   "execution_count": 67,
   "metadata": {},
   "outputs": [],
   "source": [
    "train[\"duration\"] = pd.to_numeric(train[\"duration\"])\n",
    "test[\"duration\"] = pd.to_numeric(test[\"duration\"])"
   ]
  },
  {
   "cell_type": "code",
   "execution_count": 56,
   "metadata": {},
   "outputs": [],
   "source": [
    "cols_to_use = ['Income','Age','Category1','Category2','duration','Patients_Registered_per_camp','Camps_Registered_per_patient']\n",
    "X = train[cols_to_use]\n",
    "Y = train['target']"
   ]
  },
  {
   "cell_type": "code",
   "execution_count": 68,
   "metadata": {},
   "outputs": [],
   "source": [
    "finalt=test[cols_to_use]"
   ]
  },
  {
   "cell_type": "code",
   "execution_count": 57,
   "metadata": {},
   "outputs": [],
   "source": [
    "from sklearn.model_selection import train_test_split\n",
    "X_train, X_cv, y_train, y_cv = train_test_split(X, Y, test_size=0.15, random_state=42)"
   ]
  },
  {
   "cell_type": "code",
   "execution_count": 59,
   "metadata": {},
   "outputs": [
    {
     "name": "stdout",
     "output_type": "stream",
     "text": [
      "Training until validation scores don't improve for 200 rounds\n",
      "[100]\tvalid_0's l1: 0.272365\n",
      "[200]\tvalid_0's l1: 0.269823\n",
      "[300]\tvalid_0's l1: 0.268632\n",
      "[400]\tvalid_0's l1: 0.267865\n",
      "[500]\tvalid_0's l1: 0.267315\n",
      "[600]\tvalid_0's l1: 0.266771\n",
      "[700]\tvalid_0's l1: 0.266567\n",
      "[800]\tvalid_0's l1: 0.266323\n",
      "[900]\tvalid_0's l1: 0.26627\n",
      "[1000]\tvalid_0's l1: 0.266116\n",
      "Did not meet early stopping. Best iteration is:\n",
      "[986]\tvalid_0's l1: 0.266022\n",
      "RMSLE: 0.6632159085785474\n"
     ]
    }
   ],
   "source": [
    "import lightgbm as lgb\n",
    "from math import sqrt \n",
    "from sklearn.metrics import mean_absolute_error\n",
    "train_data = lgb.Dataset(X_train, label=y_train)\n",
    "test_data = lgb.Dataset(X_cv, label=y_cv)\n",
    "\n",
    "param = {'objective': 'regression',\n",
    "         'num_leaves':20,\n",
    "         'boosting': 'gbdt',  \n",
    "         'metric': 'mae',\n",
    "         'learning_rate': 0.1, \n",
    "         'num_iterations': 1000,\n",
    "         'num_leaves': 90,\n",
    "         'max_depth': 6,\n",
    "         'min_data_in_leaf': 11,\n",
    "         'bagging_fraction': 0.90,\n",
    "         'bagging_freq': 1,\n",
    "         'bagging_seed': 142,\n",
    "         'feature_fraction': 0.90,\n",
    "         'feature_fraction_seed': 2,\n",
    "         'early_stopping_round': 200,\n",
    "         'max_bin': 500\n",
    "         }\n",
    "\n",
    "lgbm = lgb.train(params=param, verbose_eval=100, train_set=train_data, valid_sets=[test_data])\n",
    "\n",
    "y_pred_lgbm = lgbm.predict(X_cv)\n",
    "print('RMSLE:', sqrt(mean_absolute_error(np.expm1(y_cv), np.expm1(y_pred_lgbm))))"
   ]
  },
  {
   "cell_type": "code",
   "execution_count": 69,
   "metadata": {},
   "outputs": [],
   "source": [
    "pred=lgbm.predict(finalt)"
   ]
  },
  {
   "cell_type": "code",
   "execution_count": 73,
   "metadata": {},
   "outputs": [],
   "source": [
    "\n",
    "sub['Outcome']=abs(pred)"
   ]
  },
  {
   "cell_type": "code",
   "execution_count": 74,
   "metadata": {},
   "outputs": [
    {
     "data": {
      "text/html": [
       "<div>\n",
       "<style scoped>\n",
       "    .dataframe tbody tr th:only-of-type {\n",
       "        vertical-align: middle;\n",
       "    }\n",
       "\n",
       "    .dataframe tbody tr th {\n",
       "        vertical-align: top;\n",
       "    }\n",
       "\n",
       "    .dataframe thead th {\n",
       "        text-align: right;\n",
       "    }\n",
       "</style>\n",
       "<table border=\"1\" class=\"dataframe\">\n",
       "  <thead>\n",
       "    <tr style=\"text-align: right;\">\n",
       "      <th></th>\n",
       "      <th>Patient_ID</th>\n",
       "      <th>Health_Camp_ID</th>\n",
       "      <th>Outcome</th>\n",
       "    </tr>\n",
       "  </thead>\n",
       "  <tbody>\n",
       "    <tr>\n",
       "      <th>0</th>\n",
       "      <td>505701</td>\n",
       "      <td>6548</td>\n",
       "      <td>0.485567</td>\n",
       "    </tr>\n",
       "    <tr>\n",
       "      <th>1</th>\n",
       "      <td>500633</td>\n",
       "      <td>6584</td>\n",
       "      <td>0.550148</td>\n",
       "    </tr>\n",
       "    <tr>\n",
       "      <th>2</th>\n",
       "      <td>506945</td>\n",
       "      <td>6582</td>\n",
       "      <td>0.239629</td>\n",
       "    </tr>\n",
       "    <tr>\n",
       "      <th>3</th>\n",
       "      <td>497447</td>\n",
       "      <td>6551</td>\n",
       "      <td>0.684222</td>\n",
       "    </tr>\n",
       "    <tr>\n",
       "      <th>4</th>\n",
       "      <td>496446</td>\n",
       "      <td>6533</td>\n",
       "      <td>0.158084</td>\n",
       "    </tr>\n",
       "  </tbody>\n",
       "</table>\n",
       "</div>"
      ],
      "text/plain": [
       "   Patient_ID  Health_Camp_ID   Outcome\n",
       "0      505701            6548  0.485567\n",
       "1      500633            6584  0.550148\n",
       "2      506945            6582  0.239629\n",
       "3      497447            6551  0.684222\n",
       "4      496446            6533  0.158084"
      ]
     },
     "execution_count": 74,
     "metadata": {},
     "output_type": "execute_result"
    }
   ],
   "source": [
    "sub.head()"
   ]
  },
  {
   "cell_type": "code",
   "execution_count": 75,
   "metadata": {},
   "outputs": [],
   "source": [
    "sub.to_csv(r'C:\\Users\\My PC\\Desktop\\Machine Learning\\Hackerearth\\dataset\\health\\hav.csv',index=False)"
   ]
  },
  {
   "cell_type": "code",
   "execution_count": 77,
   "metadata": {},
   "outputs": [],
   "source": [
    "\n",
    "# k=['Registration_Date','Camp_Start_Date','Camp_End_Date','First_Interaction']\n",
    "# for i in k:\n",
    "#   train[i] = pd.to_datetime(train[i])\n",
    "#   test[i] = pd.to_datetime(test[i])\n",
    "# for i in k:\n",
    "#   test[i+'_'+'year'] = test[i].dt.year\n",
    "#   test[i+'_'+'day'] = test[i].dt.day\n",
    "#   test[i+'_'+'weekofyear'] = test[i].dt.weekofyear\n",
    "#   test[i+'_'+'month'] = test[i].dt.month\n",
    "#   test[i+'_'+'dayofweek'] =test[i].dt.dayofweek\n",
    "#   test[i+'_'+'weekend'] = (test[i].dt.weekday >=5).astype(int)\n",
    "#   train[i+'_'+'year'] = train[i].dt.year\n",
    "#   train[i+'_'+'day'] = train[i].dt.day\n",
    "#   train[i+'_'+'weekofyear'] = train[i].dt.weekofyear\n",
    "#   train[i+'_'+'month'] = train[i].dt.month\n",
    "#   train[i+'_'+'dayofweek'] = train[i].dt.dayofweek\n",
    "#   train[i+'_'+'weekend'] = (train[i].dt.weekday >=5).astype(int)\n",
    "# for i in k:\n",
    "#   del train[i]\n",
    "#   del test[i]\n",
    "# lgbm = LGBMRegressor(boosting_type='gbdt', num_leaves=800, max_depth=31, learning_rate=0.1, n_estimators=1000, min_child_samples=20, subsample=0.9)"
   ]
  },
  {
   "cell_type": "code",
   "execution_count": null,
   "metadata": {},
   "outputs": [],
   "source": []
  }
 ],
 "metadata": {
  "kernelspec": {
   "display_name": "Python 3",
   "language": "python",
   "name": "python3"
  },
  "language_info": {
   "codemirror_mode": {
    "name": "ipython",
    "version": 3
   },
   "file_extension": ".py",
   "mimetype": "text/x-python",
   "name": "python",
   "nbconvert_exporter": "python",
   "pygments_lexer": "ipython3",
   "version": "3.7.3"
  }
 },
 "nbformat": 4,
 "nbformat_minor": 2
}
