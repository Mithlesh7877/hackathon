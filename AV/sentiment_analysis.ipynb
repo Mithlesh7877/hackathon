{
 "cells": [
  {
   "cell_type": "code",
   "execution_count": 125,
   "metadata": {},
   "outputs": [],
   "source": [
    "import pandas as pd \n",
    "import numpy as np\n",
    "from IPython.core.interactiveshell import InteractiveShell\n",
    "InteractiveShell.ast_node_interactivity='all'"
   ]
  },
  {
   "cell_type": "code",
   "execution_count": 126,
   "metadata": {},
   "outputs": [],
   "source": [
    "train=pd.read_csv(r'C:\\Users\\My PC\\Desktop\\Machine Learning\\Hackerearth\\analyticssentinlp\\train.csv')\n",
    "test=pd.read_csv(r'C:\\Users\\My PC\\Desktop\\Machine Learning\\Hackerearth\\analyticssentinlp\\test.csv')\n",
    "sample=pd.read_csv(r'C:\\Users\\My PC\\Desktop\\Machine Learning\\Hackerearth\\analyticssentinlp\\sample.csv')"
   ]
  },
  {
   "cell_type": "code",
   "execution_count": 201,
   "metadata": {},
   "outputs": [
    {
     "data": {
      "text/html": [
       "<div>\n",
       "<style scoped>\n",
       "    .dataframe tbody tr th:only-of-type {\n",
       "        vertical-align: middle;\n",
       "    }\n",
       "\n",
       "    .dataframe tbody tr th {\n",
       "        vertical-align: top;\n",
       "    }\n",
       "\n",
       "    .dataframe thead th {\n",
       "        text-align: right;\n",
       "    }\n",
       "</style>\n",
       "<table border=\"1\" class=\"dataframe\">\n",
       "  <thead>\n",
       "    <tr style=\"text-align: right;\">\n",
       "      <th></th>\n",
       "      <th>id</th>\n",
       "      <th>label</th>\n",
       "    </tr>\n",
       "  </thead>\n",
       "  <tbody>\n",
       "    <tr>\n",
       "      <th>0</th>\n",
       "      <td>7921</td>\n",
       "      <td>0</td>\n",
       "    </tr>\n",
       "    <tr>\n",
       "      <th>1</th>\n",
       "      <td>7922</td>\n",
       "      <td>0</td>\n",
       "    </tr>\n",
       "    <tr>\n",
       "      <th>2</th>\n",
       "      <td>7923</td>\n",
       "      <td>0</td>\n",
       "    </tr>\n",
       "    <tr>\n",
       "      <th>3</th>\n",
       "      <td>7924</td>\n",
       "      <td>0</td>\n",
       "    </tr>\n",
       "    <tr>\n",
       "      <th>4</th>\n",
       "      <td>7925</td>\n",
       "      <td>0</td>\n",
       "    </tr>\n",
       "  </tbody>\n",
       "</table>\n",
       "</div>"
      ],
      "text/plain": [
       "     id  label\n",
       "0  7921      0\n",
       "1  7922      0\n",
       "2  7923      0\n",
       "3  7924      0\n",
       "4  7925      0"
      ]
     },
     "execution_count": 201,
     "metadata": {},
     "output_type": "execute_result"
    }
   ],
   "source": [
    "sample.head()"
   ]
  },
  {
   "cell_type": "code",
   "execution_count": 128,
   "metadata": {},
   "outputs": [
    {
     "data": {
      "text/plain": [
       "(7920, 3)"
      ]
     },
     "execution_count": 128,
     "metadata": {},
     "output_type": "execute_result"
    },
    {
     "data": {
      "text/plain": [
       "(1953, 2)"
      ]
     },
     "execution_count": 128,
     "metadata": {},
     "output_type": "execute_result"
    },
    {
     "data": {
      "text/plain": [
       "(1953, 2)"
      ]
     },
     "execution_count": 128,
     "metadata": {},
     "output_type": "execute_result"
    }
   ],
   "source": [
    "train.shape\n",
    "test.shape\n",
    "sample.shape"
   ]
  },
  {
   "cell_type": "code",
   "execution_count": 129,
   "metadata": {},
   "outputs": [],
   "source": [
    "X=train['tweet']"
   ]
  },
  {
   "cell_type": "code",
   "execution_count": 130,
   "metadata": {},
   "outputs": [
    {
     "data": {
      "text/plain": [
       "7920"
      ]
     },
     "execution_count": 130,
     "metadata": {},
     "output_type": "execute_result"
    }
   ],
   "source": [
    "X.shape[0]"
   ]
  },
  {
   "cell_type": "code",
   "execution_count": 131,
   "metadata": {},
   "outputs": [],
   "source": [
    "Y=pd.get_dummies(train.label)"
   ]
  },
  {
   "cell_type": "code",
   "execution_count": 132,
   "metadata": {},
   "outputs": [],
   "source": [
    "from sklearn.feature_extraction.text import CountVectorizer, TfidfVectorizer\n",
    "from nltk.corpus import stopwords\n",
    "from nltk.stem.snowball import SnowballStemmer"
   ]
  },
  {
   "cell_type": "code",
   "execution_count": 133,
   "metadata": {},
   "outputs": [],
   "source": [
    "sw = stopwords.words('english')\n"
   ]
  },
  {
   "cell_type": "code",
   "execution_count": 134,
   "metadata": {},
   "outputs": [],
   "source": [
    "def remove_punctuation(text):\n",
    "    '''a function for removing punctuation'''\n",
    "    import string\n",
    "    # replacing the punctuations with no space, \n",
    "    # which in effect deletes the punctuation marks \n",
    "    translator = str.maketrans('', '', string.punctuation)\n",
    "    # return the text stripped of punctuation marks\n",
    "    return text.translate(translator)"
   ]
  },
  {
   "cell_type": "code",
   "execution_count": 135,
   "metadata": {},
   "outputs": [],
   "source": [
    "train['tweet'] = train['tweet'].apply(remove_punctuation)"
   ]
  },
  {
   "cell_type": "code",
   "execution_count": 184,
   "metadata": {},
   "outputs": [],
   "source": [
    "test['tweet'] = test['tweet'].apply(remove_punctuation)"
   ]
  },
  {
   "cell_type": "code",
   "execution_count": 136,
   "metadata": {},
   "outputs": [],
   "source": [
    "# train['tweet']"
   ]
  },
  {
   "cell_type": "code",
   "execution_count": 137,
   "metadata": {},
   "outputs": [],
   "source": [
    "def stopword(text):\n",
    "    '''a function for removing the stopword'''\n",
    "    # removing the stop words and lowercasing the selected words\n",
    "    text = [word.lower() for word in text.split() if word.lower() not in sw]\n",
    "    # joining the list of words with space separator\n",
    "    return \" \".join(text)"
   ]
  },
  {
   "cell_type": "code",
   "execution_count": 138,
   "metadata": {},
   "outputs": [],
   "source": [
    "train['tweet']=train['tweet'].apply(stopword)"
   ]
  },
  {
   "cell_type": "code",
   "execution_count": 185,
   "metadata": {},
   "outputs": [],
   "source": [
    "test['tweet'] = test['tweet'].apply(stopword)"
   ]
  },
  {
   "cell_type": "code",
   "execution_count": 139,
   "metadata": {},
   "outputs": [],
   "source": [
    "stemmer = SnowballStemmer(\"english\")\n",
    "\n",
    "def stemming(text):    \n",
    "    '''a function which stems each word in the given text'''\n",
    "    text = [stemmer.stem(word) for word in text.split()]\n",
    "    return \" \".join(text) "
   ]
  },
  {
   "cell_type": "code",
   "execution_count": 140,
   "metadata": {},
   "outputs": [],
   "source": [
    "train['tweet']=train['tweet'].apply(stemming)"
   ]
  },
  {
   "cell_type": "code",
   "execution_count": 186,
   "metadata": {},
   "outputs": [],
   "source": [
    "test['tweet'] = test['tweet'].apply(stemming)"
   ]
  },
  {
   "cell_type": "code",
   "execution_count": 141,
   "metadata": {},
   "outputs": [],
   "source": [
    "review_lines = train['tweet'].values.tolist()"
   ]
  },
  {
   "cell_type": "code",
   "execution_count": 142,
   "metadata": {},
   "outputs": [
    {
     "data": {
      "text/plain": [
       "CountVectorizer(binary=True, max_features=6000)"
      ]
     },
     "execution_count": 142,
     "metadata": {},
     "output_type": "execute_result"
    }
   ],
   "source": [
    "vectorizer = CountVectorizer(analyzer='word',max_features=6000, binary=True)\n",
    "vectorizer.fit(train['tweet'])"
   ]
  },
  {
   "cell_type": "code",
   "execution_count": 143,
   "metadata": {},
   "outputs": [
    {
     "data": {
      "text/plain": [
       "((7920, 6000), (7920,))"
      ]
     },
     "execution_count": 143,
     "metadata": {},
     "output_type": "execute_result"
    }
   ],
   "source": [
    "X = vectorizer.transform(train['tweet']).todense()\n",
    "y = train['label'].values\n",
    "X.shape, y.shape"
   ]
  },
  {
   "cell_type": "code",
   "execution_count": 144,
   "metadata": {},
   "outputs": [],
   "source": [
    "X=X[:,:10000]"
   ]
  },
  {
   "cell_type": "code",
   "execution_count": 145,
   "metadata": {},
   "outputs": [
    {
     "data": {
      "text/plain": [
       "(7920, 6000)"
      ]
     },
     "execution_count": 145,
     "metadata": {},
     "output_type": "execute_result"
    }
   ],
   "source": [
    "X.shape"
   ]
  },
  {
   "cell_type": "code",
   "execution_count": 42,
   "metadata": {},
   "outputs": [],
   "source": [
    "from sklearn.linear_model import LogisticRegression\n",
    "\n",
    "from sklearn.model_selection import train_test_split\n",
    "\n",
    "from sklearn.metrics import f1_score"
   ]
  },
  {
   "cell_type": "code",
   "execution_count": 43,
   "metadata": {},
   "outputs": [],
   "source": [
    "X_train, X_test, y_train, y_test = train_test_split(X, y, test_size=0.2, random_state=2020)"
   ]
  },
  {
   "cell_type": "code",
   "execution_count": 44,
   "metadata": {},
   "outputs": [
    {
     "data": {
      "text/plain": [
       "LogisticRegression()"
      ]
     },
     "execution_count": 44,
     "metadata": {},
     "output_type": "execute_result"
    }
   ],
   "source": [
    "model = LogisticRegression()\n",
    "model.fit(X_train, y_train)"
   ]
  },
  {
   "cell_type": "code",
   "execution_count": 45,
   "metadata": {},
   "outputs": [],
   "source": [
    "pred=model.predict(X_test)"
   ]
  },
  {
   "cell_type": "code",
   "execution_count": 46,
   "metadata": {},
   "outputs": [
    {
     "name": "stdout",
     "output_type": "stream",
     "text": [
      "0.7515299877600979\n"
     ]
    }
   ],
   "source": [
    "print(f1_score(pred,y_test))"
   ]
  },
  {
   "cell_type": "markdown",
   "metadata": {},
   "source": [
    "<h2>Implementation of rnn and word2vec model</h2> "
   ]
  },
  {
   "cell_type": "code",
   "execution_count": 107,
   "metadata": {},
   "outputs": [],
   "source": [
    "import warnings\n",
    "warnings.filterwarnings('ignore')\n",
    "\n",
    "# Modules for data manipulation\n",
    "import numpy as np\n",
    "import pandas as pd\n",
    "import re\n",
    "\n",
    "# Modules for visualization\n",
    "import matplotlib.pyplot as plt\n",
    "import seaborn as sb\n",
    "\n",
    "# Tools for preprocessing input data\n",
    "from bs4 import BeautifulSoup\n",
    "from nltk import word_tokenize\n",
    "from nltk.corpus import stopwords\n",
    "from nltk.stem import WordNetLemmatizer\n",
    "\n",
    "# Tools for creating ngrams and vectorizing input data\n",
    "from gensim.models import Word2Vec, Phrases\n",
    "\n",
    "# Tools for building a model\n",
    "from sklearn.model_selection import train_test_split\n",
    "from keras.models import Sequential\n",
    "from keras.layers import Dense, LSTM, Dropout, Bidirectional\n",
    "from keras.layers.embeddings import Embedding\n",
    "from keras.preprocessing.sequence import pad_sequences\n",
    "\n",
    "# Tools for assessing the quality of model prediction\n",
    "from sklearn.metrics import accuracy_score, confusion_matrix\n"
   ]
  },
  {
   "cell_type": "code",
   "execution_count": 146,
   "metadata": {},
   "outputs": [],
   "source": [
    "from nltk.tokenize import TweetTokenizer\n",
    "tk=TweetTokenizer()\n",
    "s=[]\n",
    "for i in range(0,len(review_lines)):\n",
    "    lines=tk.tokenize(review_lines[i])\n",
    "    s.append(lines)"
   ]
  },
  {
   "cell_type": "code",
   "execution_count": 187,
   "metadata": {},
   "outputs": [],
   "source": [
    "final=[]\n",
    "for i in range(0,len(test.tweet)):\n",
    "    lines=tk.tokenize(test.tweet[i])\n",
    "    final.append(lines)"
   ]
  },
  {
   "cell_type": "code",
   "execution_count": 148,
   "metadata": {},
   "outputs": [
    {
     "name": "stdout",
     "output_type": "stream",
     "text": [
      "vocab size: 22984\n"
     ]
    }
   ],
   "source": [
    "import gensim\n",
    "\n",
    "embedding_vector_size = 150\n",
    "# now training embeddings for each word \n",
    "model_1 = gensim.models.Word2Vec(sentences = s, size=embedding_vector_size, min_count=1, window=5, workers=4 )\n",
    "\n",
    "# to get total number of unique words\n",
    "words = list(model_1.wv.vocab)\n",
    "\n",
    "print(\"vocab size:\", len(words))"
   ]
  },
  {
   "cell_type": "code",
   "execution_count": 149,
   "metadata": {},
   "outputs": [
    {
     "data": {
      "text/plain": [
       "(array([ 189., 1672., 3629., 1584.,  210.,  157.,  297.,  151.,   23.,\n",
       "           8.]),\n",
       " array([  5. ,  36.7,  68.4, 100.1, 131.8, 163.5, 195.2, 226.9, 258.6,\n",
       "        290.3, 322. ]),\n",
       " <a list of 10 Patch objects>)"
      ]
     },
     "execution_count": 149,
     "metadata": {},
     "output_type": "execute_result"
    },
    {
     "data": {
      "text/plain": [
       "Text(0.5, 0, 'length of words')"
      ]
     },
     "execution_count": 149,
     "metadata": {},
     "output_type": "execute_result"
    },
    {
     "data": {
      "text/plain": [
       "Text(0, 0.5, 'frequency')"
      ]
     },
     "execution_count": 149,
     "metadata": {},
     "output_type": "execute_result"
    },
    {
     "data": {
      "image/png": "[encoded data removed]",
      "text/plain": [
       "<Figure size 432x288 with 1 Axes>"
      ]
     },
     "metadata": {
      "needs_background": "light"
     },
     "output_type": "display_data"
    }
   ],
   "source": [
    "leng=0\n",
    "length = [(leng + len(x)) for x in review_lines]\n",
    "plt.hist(length)\n",
    "plt.xlabel('length of words')\n",
    "plt.ylabel('frequency')"
   ]
  },
  {
   "cell_type": "code",
   "execution_count": 150,
   "metadata": {},
   "outputs": [
    {
     "name": "stdout",
     "output_type": "stream",
     "text": [
      "94.5199494949495\n"
     ]
    }
   ],
   "source": [
    "import math\n",
    "avg_length = sum(length)/len(review_lines)\n",
    "\n",
    "# if words are more than max_length then they are skipped, if less than padding with 0 is done\n",
    "print(avg_length)"
   ]
  },
  {
   "cell_type": "code",
   "execution_count": 189,
   "metadata": {},
   "outputs": [
    {
     "name": "stdout",
     "output_type": "stream",
     "text": [
      "91.96722990271377\n"
     ]
    }
   ],
   "source": [
    "import math\n",
    "lengthf = [(leng + len(x)) for x in test.tweet]\n",
    "avg_lengthf = sum(lengthf)/len(test.tweet)\n",
    "\n",
    "# if words are more than max_length then they are skipped, if less than padding with 0 is done\n",
    "print(avg_lengthf)"
   ]
  },
  {
   "cell_type": "code",
   "execution_count": 151,
   "metadata": {},
   "outputs": [],
   "source": [
    "#max_len = math.ceil(avg_length)             # this is used to decide how man words in seq to keep\n",
    "max_len = math.ceil(avg_length) "
   ]
  },
  {
   "cell_type": "code",
   "execution_count": 152,
   "metadata": {},
   "outputs": [],
   "source": [
    "max_features = 6000\n",
    "tokenizer = Tokenizer(num_words=max_features)       #keeps 6000 most common words\n",
    "train_test_data = s                       # contains word tokens extracted from lines\n",
    "tokenizer.fit_on_texts(train_test_data)\n",
    "sequence = tokenizer.texts_to_sequences(train_test_data)\n",
    "#above code is similar  to ohe \n",
    "train_test_data = pad_sequences(sequence, maxlen = max_len)"
   ]
  },
  {
   "cell_type": "code",
   "execution_count": 190,
   "metadata": {},
   "outputs": [],
   "source": [
    "       #keeps 6000 most common words\n",
    "train_test_dataf = final                       # contains word tokens extracted from lines\n",
    "tokenizer.fit_on_texts(train_test_dataf)\n",
    "sequence = tokenizer.texts_to_sequences(train_test_dataf)\n",
    "#above code is similar  to ohe \n",
    "train_test_dataf = pad_sequences(sequence, maxlen = max_len)"
   ]
  },
  {
   "cell_type": "code",
   "execution_count": 155,
   "metadata": {},
   "outputs": [
    {
     "data": {
      "text/plain": [
       "22984"
      ]
     },
     "execution_count": 155,
     "metadata": {},
     "output_type": "execute_result"
    }
   ],
   "source": [
    "len(tokenizer.word_index)"
   ]
  },
  {
   "cell_type": "code",
   "execution_count": 156,
   "metadata": {},
   "outputs": [],
   "source": [
    "vocab_size = len(tokenizer.word_index)+1\n",
    "embedding_matrix = np.zeros((vocab_size, embedding_vector_size))\n",
    "# +1 is done because i starts from 1 instead of 0, and goes till len(vocab)\n",
    "for  word, i in tokenizer.word_index.items():#we are taking word \n",
    "    embedding_vector = model_1.wv[word]# then getting corresponding vector from word2vec\n",
    "    if embedding_vector is not None:\n",
    "        embedding_matrix[i] = embedding_vector"
   ]
  },
  {
   "cell_type": "code",
   "execution_count": 168,
   "metadata": {},
   "outputs": [],
   "source": [
    "Xn=train_test_data\n",
    "Yn=train.label"
   ]
  },
  {
   "cell_type": "code",
   "execution_count": 170,
   "metadata": {},
   "outputs": [
    {
     "data": {
      "text/plain": [
       "(7920, 95)"
      ]
     },
     "execution_count": 170,
     "metadata": {},
     "output_type": "execute_result"
    },
    {
     "data": {
      "text/plain": [
       "(7920,)"
      ]
     },
     "execution_count": 170,
     "metadata": {},
     "output_type": "execute_result"
    }
   ],
   "source": [
    "Xn.shape\n",
    "Yn.shape"
   ]
  },
  {
   "cell_type": "code",
   "execution_count": 176,
   "metadata": {},
   "outputs": [],
   "source": [
    "X_train, X_test, y_train, y_test = train_test_split(Xn , Yn, test_size=0.2, random_state=42, shuffle=True)"
   ]
  },
  {
   "cell_type": "code",
   "execution_count": 177,
   "metadata": {},
   "outputs": [
    {
     "data": {
      "text/plain": [
       "(6336, 95)"
      ]
     },
     "execution_count": 177,
     "metadata": {},
     "output_type": "execute_result"
    }
   ],
   "source": [
    "X_train.shape"
   ]
  },
  {
   "cell_type": "code",
   "execution_count": 178,
   "metadata": {},
   "outputs": [],
   "source": [
    "model = Sequential()\n",
    "\n",
    "model.add(Embedding(input_dim = vocab_size, output_dim = embedding_vector_size, \n",
    "                    input_length = max_len, weights = [embedding_matrix]))\n",
    "model.add(Bidirectional(LSTM(64, dropout=0.25, recurrent_dropout=0.1)))\n",
    "model.add(Dense(10))\n",
    "model.add(Dropout(0.3))\n",
    "model.add(Dense(1, activation='sigmoid'))"
   ]
  },
  {
   "cell_type": "code",
   "execution_count": 179,
   "metadata": {},
   "outputs": [],
   "source": [
    "learning_rate_reduction = ReduceLROnPlateau(monitor='val_acc', \n",
    "                                            patience=3, \n",
    "                                            verbose=1, \n",
    "                                            factor=0.5, \n",
    "                                            min_lr=0.00001)"
   ]
  },
  {
   "cell_type": "code",
   "execution_count": 180,
   "metadata": {},
   "outputs": [
    {
     "name": "stdout",
     "output_type": "stream",
     "text": [
      "Model: \"sequential_4\"\n",
      "_________________________________________________________________\n",
      "Layer (type)                 Output Shape              Param #   \n",
      "=================================================================\n",
      "embedding_2 (Embedding)      (None, 95, 150)           3447750   \n",
      "_________________________________________________________________\n",
      "bidirectional_2 (Bidirection (None, 128)               110080    \n",
      "_________________________________________________________________\n",
      "dense_3 (Dense)              (None, 10)                1290      \n",
      "_________________________________________________________________\n",
      "dropout_2 (Dropout)          (None, 10)                0         \n",
      "_________________________________________________________________\n",
      "dense_4 (Dense)              (None, 1)                 11        \n",
      "=================================================================\n",
      "Total params: 3,559,131\n",
      "Trainable params: 3,559,131\n",
      "Non-trainable params: 0\n",
      "_________________________________________________________________\n",
      "None\n",
      "Train on 6336 samples, validate on 1584 samples\n",
      "Epoch 1/30\n",
      "6336/6336 [==============================] - 87s 14ms/step - loss: 0.5636 - acc: 0.7192 - val_loss: 0.6109 - val_acc: 0.7273\n",
      "Epoch 2/30\n",
      "6336/6336 [==============================] - 41s 6ms/step - loss: 0.5205 - acc: 0.7503 - val_loss: 0.6978 - val_acc: 0.7273\n",
      "Epoch 3/30\n",
      "6336/6336 [==============================] - 35s 6ms/step - loss: 0.4725 - acc: 0.7770 - val_loss: 0.3923 - val_acc: 0.8725\n",
      "Epoch 4/30\n",
      "6336/6336 [==============================] - 34s 5ms/step - loss: 0.4095 - acc: 0.8180 - val_loss: 0.3132 - val_acc: 0.8687\n",
      "Epoch 5/30\n",
      "6336/6336 [==============================] - 33s 5ms/step - loss: 0.3443 - acc: 0.8546 - val_loss: 0.4891 - val_acc: 0.7803\n",
      "Epoch 6/30\n",
      "6336/6336 [==============================] - 33s 5ms/step - loss: 0.3112 - acc: 0.8696 - val_loss: 0.3229 - val_acc: 0.8598\n",
      "\n",
      "Epoch 00006: ReduceLROnPlateau reducing learning rate to 0.0005000000237487257.\n",
      "Epoch 7/30\n",
      "6336/6336 [==============================] - 33s 5ms/step - loss: 0.2625 - acc: 0.8952 - val_loss: 0.3005 - val_acc: 0.8737\n",
      "Epoch 8/30\n",
      "6336/6336 [==============================] - 33s 5ms/step - loss: 0.2474 - acc: 0.8969 - val_loss: 0.2593 - val_acc: 0.8939\n",
      "Epoch 9/30\n",
      "6336/6336 [==============================] - 33s 5ms/step - loss: 0.2378 - acc: 0.9047 - val_loss: 0.3981 - val_acc: 0.8422\n",
      "Epoch 10/30\n",
      "6336/6336 [==============================] - 33s 5ms/step - loss: 0.2289 - acc: 0.9042 - val_loss: 0.2477 - val_acc: 0.8946\n",
      "Epoch 11/30\n",
      "6336/6336 [==============================] - 34s 5ms/step - loss: 0.2110 - acc: 0.9178 - val_loss: 0.2499 - val_acc: 0.8971\n",
      "Epoch 12/30\n",
      "6336/6336 [==============================] - 33s 5ms/step - loss: 0.2028 - acc: 0.9190 - val_loss: 0.3728 - val_acc: 0.8510\n",
      "Epoch 13/30\n",
      "6336/6336 [==============================] - 33s 5ms/step - loss: 0.1989 - acc: 0.9208 - val_loss: 0.2528 - val_acc: 0.8984\n",
      "Epoch 14/30\n",
      "6336/6336 [==============================] - 33s 5ms/step - loss: 0.1825 - acc: 0.9291 - val_loss: 0.3189 - val_acc: 0.8782\n",
      "Epoch 15/30\n",
      "6336/6336 [==============================] - 33s 5ms/step - loss: 0.1791 - acc: 0.9326 - val_loss: 0.2588 - val_acc: 0.8984\n",
      "Epoch 16/30\n",
      "6336/6336 [==============================] - 33s 5ms/step - loss: 0.1636 - acc: 0.9377 - val_loss: 0.2726 - val_acc: 0.8939\n",
      "\n",
      "Epoch 00016: ReduceLROnPlateau reducing learning rate to 0.0002500000118743628.\n",
      "Epoch 17/30\n",
      "6336/6336 [==============================] - 33s 5ms/step - loss: 0.1560 - acc: 0.9419 - val_loss: 0.2780 - val_acc: 0.8946\n",
      "Epoch 18/30\n",
      "6336/6336 [==============================] - 33s 5ms/step - loss: 0.1558 - acc: 0.9411 - val_loss: 0.3304 - val_acc: 0.8750\n",
      "Epoch 19/30\n",
      "6336/6336 [==============================] - 33s 5ms/step - loss: 0.1514 - acc: 0.9462 - val_loss: 0.2813 - val_acc: 0.8914\n",
      "\n",
      "Epoch 00019: ReduceLROnPlateau reducing learning rate to 0.0001250000059371814.\n",
      "Epoch 20/30\n",
      "6336/6336 [==============================] - 33s 5ms/step - loss: 0.1450 - acc: 0.9467 - val_loss: 0.2846 - val_acc: 0.8902\n",
      "Epoch 21/30\n",
      "6336/6336 [==============================] - 33s 5ms/step - loss: 0.1404 - acc: 0.9501 - val_loss: 0.2840 - val_acc: 0.8914\n",
      "Epoch 22/30\n",
      "6336/6336 [==============================] - 33s 5ms/step - loss: 0.1398 - acc: 0.9508 - val_loss: 0.3316 - val_acc: 0.8756\n",
      "\n",
      "Epoch 00022: ReduceLROnPlateau reducing learning rate to 6.25000029685907e-05.\n",
      "Epoch 23/30\n",
      "6336/6336 [==============================] - 33s 5ms/step - loss: 0.1404 - acc: 0.9476 - val_loss: 0.2925 - val_acc: 0.8876\n",
      "Epoch 24/30\n",
      "6336/6336 [==============================] - 33s 5ms/step - loss: 0.1354 - acc: 0.9490 - val_loss: 0.2889 - val_acc: 0.8914\n",
      "Epoch 25/30\n",
      "6336/6336 [==============================] - 35s 6ms/step - loss: 0.1360 - acc: 0.9506 - val_loss: 0.3090 - val_acc: 0.8832\n",
      "\n",
      "Epoch 00025: ReduceLROnPlateau reducing learning rate to 3.125000148429535e-05.\n",
      "Epoch 26/30\n",
      "6336/6336 [==============================] - 33s 5ms/step - loss: 0.1372 - acc: 0.9492 - val_loss: 0.3027 - val_acc: 0.8851\n",
      "Epoch 27/30\n",
      "6336/6336 [==============================] - 41s 6ms/step - loss: 0.1336 - acc: 0.9514 - val_loss: 0.3013 - val_acc: 0.8851\n",
      "Epoch 28/30\n",
      "6336/6336 [==============================] - 38s 6ms/step - loss: 0.1372 - acc: 0.9485 - val_loss: 0.3074 - val_acc: 0.8826\n",
      "\n",
      "Epoch 00028: ReduceLROnPlateau reducing learning rate to 1.5625000742147677e-05.\n",
      "Epoch 29/30\n",
      "6336/6336 [==============================] - 45s 7ms/step - loss: 0.1401 - acc: 0.9476 - val_loss: 0.3053 - val_acc: 0.8838\n",
      "Epoch 30/30\n",
      "6336/6336 [==============================] - 40s 6ms/step - loss: 0.1311 - acc: 0.9519 - val_loss: 0.3054 - val_acc: 0.8838\n"
     ]
    }
   ],
   "source": [
    "model.compile(optimizer='RMSprop', loss='binary_crossentropy', metrics=['acc'])\n",
    "print(model.summary())\n",
    "\n",
    "history = model.fit(X_train, y_train, epochs = 30, batch_size = 700, validation_data=(X_test, y_test),callbacks = [learning_rate_reduction])"
   ]
  },
  {
   "cell_type": "code",
   "execution_count": 181,
   "metadata": {},
   "outputs": [
    {
     "data": {
      "text/plain": [
       "[<matplotlib.lines.Line2D at 0x1f4ddc8080>]"
      ]
     },
     "execution_count": 181,
     "metadata": {},
     "output_type": "execute_result"
    },
    {
     "data": {
      "text/plain": [
       "[<matplotlib.lines.Line2D at 0x1f4dd89c50>]"
      ]
     },
     "execution_count": 181,
     "metadata": {},
     "output_type": "execute_result"
    },
    {
     "data": {
      "text/plain": [
       "Text(0, 0.5, 'loss')"
      ]
     },
     "execution_count": 181,
     "metadata": {},
     "output_type": "execute_result"
    },
    {
     "data": {
      "text/plain": [
       "Text(0.5, 0, 'epoch')"
      ]
     },
     "execution_count": 181,
     "metadata": {},
     "output_type": "execute_result"
    },
    {
     "data": {
      "text/plain": [
       "<matplotlib.legend.Legend at 0x1f4ddc84e0>"
      ]
     },
     "execution_count": 181,
     "metadata": {},
     "output_type": "execute_result"
    },
    {
     "data": {
      "image/png": "[encoded data removed]",
      "text/plain": [
       "<Figure size 432x288 with 1 Axes>"
      ]
     },
     "metadata": {
      "needs_background": "light"
     },
     "output_type": "display_data"
    }
   ],
   "source": [
    "import matplotlib.pyplot as plt\n",
    "plt.plot(history.history['acc'])\n",
    "plt.plot(history.history['val_acc'])\n",
    "plt.ylabel('loss')\n",
    "plt.xlabel('epoch')\n",
    "plt.legend(['train', 'test'], loc='upper left')\n",
    "plt.show()"
   ]
  },
  {
   "cell_type": "code",
   "execution_count": 182,
   "metadata": {},
   "outputs": [],
   "source": [
    "y_test_pred = model.predict(X_test)"
   ]
  },
  {
   "cell_type": "code",
   "execution_count": 183,
   "metadata": {},
   "outputs": [
    {
     "data": {
      "text/plain": [
       "0.944997026105967"
      ]
     },
     "execution_count": 183,
     "metadata": {},
     "output_type": "execute_result"
    }
   ],
   "source": [
    "from sklearn.metrics import roc_auc_score\n",
    "roc_auc_score(y_test, y_test_pred, average = 'weighted')"
   ]
  },
  {
   "cell_type": "code",
   "execution_count": 191,
   "metadata": {},
   "outputs": [],
   "source": [
    "y_pred = model.predict(train_test_dataf)"
   ]
  },
  {
   "cell_type": "code",
   "execution_count": 192,
   "metadata": {},
   "outputs": [],
   "source": [
    "predictions = [1 if (x>0.5) else 0 for x in y_pred ]"
   ]
  },
  {
   "cell_type": "code",
   "execution_count": 197,
   "metadata": {},
   "outputs": [
    {
     "data": {
      "text/plain": [
       "0       0\n",
       "1       0\n",
       "2       0\n",
       "3       1\n",
       "4       0\n",
       "5       1\n",
       "6       0\n",
       "7       0\n",
       "8       0\n",
       "9       0\n",
       "10      0\n",
       "11      0\n",
       "12      0\n",
       "13      0\n",
       "14      0\n",
       "15      0\n",
       "16      1\n",
       "17      0\n",
       "18      0\n",
       "19      1\n",
       "20      0\n",
       "21      0\n",
       "22      0\n",
       "23      0\n",
       "24      0\n",
       "25      0\n",
       "26      0\n",
       "27      0\n",
       "28      0\n",
       "29      0\n",
       "       ..\n",
       "1923    0\n",
       "1924    1\n",
       "1925    0\n",
       "1926    0\n",
       "1927    0\n",
       "1928    1\n",
       "1929    0\n",
       "1930    0\n",
       "1931    1\n",
       "1932    0\n",
       "1933    0\n",
       "1934    0\n",
       "1935    0\n",
       "1936    0\n",
       "1937    1\n",
       "1938    0\n",
       "1939    0\n",
       "1940    0\n",
       "1941    1\n",
       "1942    0\n",
       "1943    0\n",
       "1944    0\n",
       "1945    0\n",
       "1946    0\n",
       "1947    0\n",
       "1948    0\n",
       "1949    0\n",
       "1950    0\n",
       "1951    0\n",
       "1952    0\n",
       "Length: 1953, dtype: int64"
      ]
     },
     "execution_count": 197,
     "metadata": {},
     "output_type": "execute_result"
    }
   ],
   "source": [
    "predictions #= pd.Series(predictions)\n"
   ]
  },
  {
   "cell_type": "code",
   "execution_count": 199,
   "metadata": {},
   "outputs": [],
   "source": [
    "ids=test.id"
   ]
  },
  {
   "cell_type": "code",
   "execution_count": 202,
   "metadata": {},
   "outputs": [],
   "source": [
    "submission = pd.DataFrame({'id': ids, 'label':predictions})\n",
    "submission.to_csv(r'C:\\Users\\My PC\\Desktop\\Machine Learning\\Hackerearth\\analyticssentinlp\\word2vec.csv',index=False)"
   ]
  },
  {
   "cell_type": "markdown",
   "metadata": {},
   "source": [
    "Will further implement BERT and try other models.\n"
   ]
  }
 ],
 "metadata": {
  "kernelspec": {
   "display_name": "Python 3",
   "language": "python",
   "name": "python3"
  },
  "language_info": {
   "codemirror_mode": {
    "name": "ipython",
    "version": 3
   },
   "file_extension": ".py",
   "mimetype": "text/x-python",
   "name": "python",
   "nbconvert_exporter": "python",
   "pygments_lexer": "ipython3",
   "version": "3.7.3"
  }
 },
 "nbformat": 4,
 "nbformat_minor": 2
}
